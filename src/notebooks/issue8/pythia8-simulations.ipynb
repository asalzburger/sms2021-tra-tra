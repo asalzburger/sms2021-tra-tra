{
 "cells": [
  {
   "cell_type": "code",
   "execution_count": 1,
   "metadata": {
    "collapsed": true
   },
   "outputs": [],
   "source": [
    "import os\n",
    "import random\n",
    "\n",
    "import matplotlib.pyplot as plt\n",
    "import numpy as np\n",
    "import pandas as pd\n",
    "\n",
    "%matplotlib inline"
   ]
  },
  {
   "cell_type": "code",
   "execution_count": 2,
   "metadata": {
    "pycharm": {
     "name": "#%%\n"
    }
   },
   "outputs": [],
   "source": [
    "npileup = 200"
   ]
  },
  {
   "cell_type": "markdown",
   "metadata": {},
   "source": [
    "## Let's load the data files"
   ]
  },
  {
   "cell_type": "code",
   "execution_count": 3,
   "metadata": {
    "pycharm": {
     "name": "#%%\n"
    }
   },
   "outputs": [],
   "source": [
    "data_dir = os.path.join('..', '..', '..', 'data')\n",
    "root_dir = os.path.join(data_dir, 'Pythia8', 'pileup-{}'.format(npileup))\n",
    "\n",
    "hit_files = sorted([file for file in os.listdir(root_dir) if file.endswith('-hits.csv')])\n",
    "hit_dfs = [pd.read_csv(os.path.join(root_dir, file), dtype={'particle_id':str, 'geometry_id': str})\n",
    "           for file in hit_files]\n",
    "\n",
    "initial_files = sorted([file for file in os.listdir(root_dir) if file.endswith('-particles_initial.csv')])\n",
    "initial_dfs = [pd.read_csv(os.path.join(root_dir, file), dtype={'particle_id':str, 'geometry_id': str})\n",
    "               for file in initial_files]\n",
    "\n",
    "final_files = sorted([file for file in os.listdir(root_dir) if file.endswith('-particles_final.csv')])\n",
    "final_dfs = [pd.read_csv(os.path.join(root_dir, file), dtype={'particle_id':str, 'geometry_id': str})\n",
    "             for file in final_files]"
   ]
  },
  {
   "cell_type": "markdown",
   "metadata": {
    "pycharm": {
     "name": "#%% md\n"
    }
   },
   "source": [
    "Let's load an event and check the performance of the Purified Hough Transform."
   ]
  },
  {
   "cell_type": "code",
   "execution_count": 4,
   "metadata": {
    "pycharm": {
     "name": "#%%\n"
    }
   },
   "outputs": [
    {
     "name": "stdout",
     "output_type": "stream",
     "text": [
      "Event chosen: event000000085-hits.csv\n"
     ]
    },
    {
     "data": {
      "text/plain": "        particle_id  particle_type  process        vx        vy         vz  \\\n0  4503599644147712           -211        0  0.021071  0.013023 -128.09848   \n1  4503599660924928           -211        0  0.021071  0.013023 -128.09848   \n2  4503599677702144           -321        0  0.021071  0.013023 -128.09848   \n3  4503599728033792           -321        0  0.021071  0.013023 -128.09848   \n4  4503599744811008            211        0  0.021071  0.013023 -128.09848   \n\n         vt        px        py          pz        m  q        pt         |p|  \\\n0 -4.308757  0.131345 -0.152092  285.414795  0.13957 -1  0.200957  285.414866   \n1 -4.308757  0.134854 -0.087754 -186.238205  0.13957 -1  0.160893  186.238274   \n2 -4.308757 -0.753295  0.684963 -219.511871  0.49368 -1  1.018149  219.514232   \n3 -4.308757 -0.057815 -0.155811    2.238906  0.49368 -1  0.166192    2.245066   \n4 -4.308757 -0.352381  0.020453    6.702408  0.13957  1  0.352974    6.711696   \n\n      theta       eta  \n0  0.000704  7.951757  \n1  3.140729 -7.747191  \n2  3.136954 -6.066572  \n3  0.074093  3.295123  \n4  0.052615  3.637666  ",
      "text/html": "<div>\n<style scoped>\n    .dataframe tbody tr th:only-of-type {\n        vertical-align: middle;\n    }\n\n    .dataframe tbody tr th {\n        vertical-align: top;\n    }\n\n    .dataframe thead th {\n        text-align: right;\n    }\n</style>\n<table border=\"1\" class=\"dataframe\">\n  <thead>\n    <tr style=\"text-align: right;\">\n      <th></th>\n      <th>particle_id</th>\n      <th>particle_type</th>\n      <th>process</th>\n      <th>vx</th>\n      <th>vy</th>\n      <th>vz</th>\n      <th>vt</th>\n      <th>px</th>\n      <th>py</th>\n      <th>pz</th>\n      <th>m</th>\n      <th>q</th>\n      <th>pt</th>\n      <th>|p|</th>\n      <th>theta</th>\n      <th>eta</th>\n    </tr>\n  </thead>\n  <tbody>\n    <tr>\n      <th>0</th>\n      <td>4503599644147712</td>\n      <td>-211</td>\n      <td>0</td>\n      <td>0.021071</td>\n      <td>0.013023</td>\n      <td>-128.09848</td>\n      <td>-4.308757</td>\n      <td>0.131345</td>\n      <td>-0.152092</td>\n      <td>285.414795</td>\n      <td>0.13957</td>\n      <td>-1</td>\n      <td>0.200957</td>\n      <td>285.414866</td>\n      <td>0.000704</td>\n      <td>7.951757</td>\n    </tr>\n    <tr>\n      <th>1</th>\n      <td>4503599660924928</td>\n      <td>-211</td>\n      <td>0</td>\n      <td>0.021071</td>\n      <td>0.013023</td>\n      <td>-128.09848</td>\n      <td>-4.308757</td>\n      <td>0.134854</td>\n      <td>-0.087754</td>\n      <td>-186.238205</td>\n      <td>0.13957</td>\n      <td>-1</td>\n      <td>0.160893</td>\n      <td>186.238274</td>\n      <td>3.140729</td>\n      <td>-7.747191</td>\n    </tr>\n    <tr>\n      <th>2</th>\n      <td>4503599677702144</td>\n      <td>-321</td>\n      <td>0</td>\n      <td>0.021071</td>\n      <td>0.013023</td>\n      <td>-128.09848</td>\n      <td>-4.308757</td>\n      <td>-0.753295</td>\n      <td>0.684963</td>\n      <td>-219.511871</td>\n      <td>0.49368</td>\n      <td>-1</td>\n      <td>1.018149</td>\n      <td>219.514232</td>\n      <td>3.136954</td>\n      <td>-6.066572</td>\n    </tr>\n    <tr>\n      <th>3</th>\n      <td>4503599728033792</td>\n      <td>-321</td>\n      <td>0</td>\n      <td>0.021071</td>\n      <td>0.013023</td>\n      <td>-128.09848</td>\n      <td>-4.308757</td>\n      <td>-0.057815</td>\n      <td>-0.155811</td>\n      <td>2.238906</td>\n      <td>0.49368</td>\n      <td>-1</td>\n      <td>0.166192</td>\n      <td>2.245066</td>\n      <td>0.074093</td>\n      <td>3.295123</td>\n    </tr>\n    <tr>\n      <th>4</th>\n      <td>4503599744811008</td>\n      <td>211</td>\n      <td>0</td>\n      <td>0.021071</td>\n      <td>0.013023</td>\n      <td>-128.09848</td>\n      <td>-4.308757</td>\n      <td>-0.352381</td>\n      <td>0.020453</td>\n      <td>6.702408</td>\n      <td>0.13957</td>\n      <td>1</td>\n      <td>0.352974</td>\n      <td>6.711696</td>\n      <td>0.052615</td>\n      <td>3.637666</td>\n    </tr>\n  </tbody>\n</table>\n</div>"
     },
     "execution_count": 4,
     "metadata": {},
     "output_type": "execute_result"
    }
   ],
   "source": [
    "num_events = 100\n",
    "random.seed(3082021)\n",
    "\n",
    "random_event = random.choice(range(0, num_events))\n",
    "df = hit_dfs[random_event]\n",
    "initial_df = initial_dfs[random_event]\n",
    "\n",
    "df['weight'] = 1\n",
    "df['r'] = np.sqrt(np.square(df['tx']) + np.square(df['ty']))\n",
    "df['phi'] = np.arctan2(df['ty'], df['tx'])\n",
    "df['xy_track'] = df[['r','phi']].apply(lambda pair: (pair[0], pair[1]), 1)\n",
    "df['rz_track'] = df[['r','tz']].apply(lambda pair: (-pair[0], pair[1]), 1)\n",
    "\n",
    "initial_df['pt'] = np.sqrt(initial_df['px'] ** 2 + initial_df['py'] ** 2)\n",
    "initial_df['|p|'] = np.sqrt(initial_df['px'] ** 2 + initial_df['py'] ** 2 + initial_df['pz'] ** 2)\n",
    "initial_df['theta'] = np.arccos(initial_df['pz'] / initial_df['|p|'])\n",
    "initial_df['eta'] = -np.log(np.tan(initial_df['theta'] / 2))\n",
    "\n",
    "print(f'Event chosen: {hit_files[random_event]}')\n",
    "\n",
    "initial_df.head()"
   ]
  },
  {
   "cell_type": "code",
   "execution_count": 5,
   "metadata": {
    "pycharm": {
     "name": "#%%\n"
    }
   },
   "outputs": [
    {
     "name": "stdout",
     "output_type": "stream",
     "text": [
      "Shape Before\n",
      "(309, 20)\n",
      "(79, 16)\n",
      "\n",
      "Shape After\n",
      "(161, 21)\n",
      "(32, 17)\n"
     ]
    }
   ],
   "source": [
    "def remove_low_pt_tracks(_df, _initial_df):\n",
    "    \"\"\" Removes tracks with truth pt smaller than 0.5 GeV \"\"\"\n",
    "    low_pt_pids = []\n",
    "    for row, series in _initial_df.iterrows():\n",
    "        if series['pt'] < 0.5:\n",
    "            low_pt_pids.append(series['particle_id'])\n",
    "\n",
    "    _df = _df[~_df['particle_id'].isin(low_pt_pids)]\n",
    "    _initial_df = _initial_df[~_initial_df['particle_id'].isin(low_pt_pids)]\n",
    "\n",
    "    return _df.copy().reset_index(), _initial_df.copy().reset_index()\n",
    "\n",
    "print('Shape Before')\n",
    "print(df.shape)\n",
    "print(initial_df.shape)\n",
    "print()\n",
    "\n",
    "df, initial_df = remove_low_pt_tracks(df, initial_df)\n",
    "\n",
    "print('Shape After')\n",
    "print(df.shape)\n",
    "print(initial_df.shape)"
   ]
  },
  {
   "cell_type": "code",
   "execution_count": 6,
   "metadata": {
    "pycharm": {
     "name": "#%%\n"
    }
   },
   "outputs": [
    {
     "data": {
      "text/plain": "Text(0.5, 1.0, 'xy view')"
     },
     "execution_count": 6,
     "metadata": {},
     "output_type": "execute_result"
    },
    {
     "data": {
      "text/plain": "<Figure size 1152x720 with 1 Axes>",
      "image/png": "[encoded data removed]"
     },
     "metadata": {
      "needs_background": "light"
     },
     "output_type": "display_data"
    }
   ],
   "source": [
    "particles = set(df['particle_id'])\n",
    "\n",
    "fig, ax = plt.subplots(1, 1, figsize=(16, 10))\n",
    "for pid in particles:\n",
    "    particle_df = df[df['particle_id'] == pid]\n",
    "    ax.scatter(particle_df['tx'], particle_df['ty'])\n",
    "\n",
    "ax.set_xlabel('tx')\n",
    "ax.set_ylabel('ty')\n",
    "ax.set_title('xy view')"
   ]
  },
  {
   "cell_type": "markdown",
   "metadata": {
    "pycharm": {
     "name": "#%% md\n"
    }
   },
   "source": [
    "Hyperparameters"
   ]
  },
  {
   "cell_type": "code",
   "execution_count": 7,
   "metadata": {
    "pycharm": {
     "name": "#%%\n"
    }
   },
   "outputs": [],
   "source": [
    "xy_hyperparams = {\n",
    "    'bin-size': (0.001, 0.2),\n",
    "    'xrange': (-np.pi, np.pi),\n",
    "    'yrange': (-1000, 1000),\n",
    "    'minimum-hits-per-bin': 10\n",
    "}\n",
    "\n",
    "rz_hyperparams = {\n",
    "    'bin-size': (0.04, 20),\n",
    "    'xrange': (-15, 15),\n",
    "    'yrange': (-50000, 50000),\n",
    "    'minimum-hits-per-bin': 6\n",
    "}\n",
    "\n",
    "threshold_x = 3500 * xy_hyperparams['bin-size'][0]\n",
    "threshold_y = 1000 * xy_hyperparams['bin-size'][1]\n",
    "closeness_thresholds = (threshold_x, threshold_y)\n",
    "similarity_threshold = 0.5\n"
   ]
  },
  {
   "cell_type": "markdown",
   "metadata": {
    "pycharm": {
     "name": "#%% md\n"
    }
   },
   "source": [
    "Import algorithms"
   ]
  },
  {
   "cell_type": "code",
   "execution_count": 8,
   "metadata": {
    "pycharm": {
     "name": "#%%\n"
    }
   },
   "outputs": [],
   "source": [
    "from src.utils.hough_transform import compute_approximate_qpt, hough2d_pipeline\n",
    "from src.utils.duplicate_removal import purify_xy_estimations\n",
    "from src.utils.duplicate_removal import get_track_to_geometry_mapping, duplicate_removal_1\n",
    "from src.utils.metrics import efficiency_rate, fake_rate, duplicate_rate"
   ]
  },
  {
   "cell_type": "code",
   "execution_count": 9,
   "metadata": {
    "pycharm": {
     "name": "#%%\n"
    }
   },
   "outputs": [],
   "source": [
    "def compute_and_print_results(est, transform_type, _df):\n",
    "    \"\"\" Computes metrics and prints them. \"\"\"\n",
    "    eff = efficiency_rate(est.values(), _df)\n",
    "    fake = fake_rate(est.values(), _df)\n",
    "    dup = duplicate_rate(est.values(), _df)\n",
    "    print(f'{transform_type} statistics:')\n",
    "    print(f'\\tEfficiency Rate: {eff:.2f}')\n",
    "    print(f'\\tFake Rate: {fake:.2f}')\n",
    "    print(f'\\tDuplicate Rate: {dup:.2f}')\n",
    "    print(f'\\tNumber of tracks estimated: {len(est)}')\n",
    "    print()"
   ]
  },
  {
   "cell_type": "code",
   "execution_count": 10,
   "metadata": {
    "pycharm": {
     "name": "#%%\n"
    }
   },
   "outputs": [
    {
     "name": "stdout",
     "output_type": "stream",
     "text": [
      "xy Transform statistics:\n",
      "\tEfficiency Rate: 0.79\n",
      "\tFake Rate: 0.00\n",
      "\tDuplicate Rate: 0.89\n",
      "\tNumber of tracks estimated: 97\n",
      "\n",
      "Purified xy Transform statistics:\n",
      "\tEfficiency Rate: 0.79\n",
      "\tFake Rate: 0.00\n",
      "\tDuplicate Rate: 0.89\n",
      "\tNumber of tracks estimated: 97\n",
      "\n",
      "Purified xy Transform (Duplicate Removal 1) statistics:\n",
      "\tEfficiency Rate: 0.79\n",
      "\tFake Rate: 0.00\n",
      "\tDuplicate Rate: 0.15\n",
      "\tNumber of tracks estimated: 13\n",
      "\n",
      "Purified xy Transform (Duplicate Removal 1) Filtered Reco tracks with pt > 0.6 GeV statistics:\n",
      "\tEfficiency Rate: 0.71\n",
      "\tFake Rate: 0.00\n",
      "\tDuplicate Rate: 0.17\n",
      "\tNumber of tracks estimated: 12\n",
      "\n"
     ]
    }
   ],
   "source": [
    "# run the Hough Transform\n",
    "df['track'] = df['xy_track']\n",
    "_, xy_est = hough2d_pipeline(list(df['track']), xy_hyperparams, compute_approximate_qpt)\n",
    "compute_and_print_results(xy_est, 'xy Transform', df)\n",
    "\n",
    "# purify the results\n",
    "pur_xy_est = purify_xy_estimations(xy_est, rz_hyperparams, df)\n",
    "compute_and_print_results(pur_xy_est, 'Purified xy Transform', df)\n",
    "\n",
    "# remove duplicates\n",
    "hit_to_geom = get_track_to_geometry_mapping(df)\n",
    "pur_new_est = duplicate_removal_1(pur_xy_est,\n",
    "                                  closeness_thresholds,\n",
    "                                  similarity_threshold,\n",
    "                                  remove_same_geometries=False,\n",
    "                                  hit_to_geom=hit_to_geom)\n",
    "compute_and_print_results(pur_new_est, 'Purified xy Transform (Duplicate Removal 1)', df)\n",
    "\n",
    "# remove reconstructed tracks with P_T bigger than 0.6 GeV\n",
    "final_est = {track: hits for track, hits in pur_new_est.items()\n",
    "             if abs(track[1]) < (1 / 0.6)}\n",
    "compute_and_print_results(final_est, 'Purified xy Transform (Duplicate Removal 1) Filtered Reco tracks with pt > 0.6 GeV', df)"
   ]
  },
  {
   "cell_type": "markdown",
   "metadata": {
    "pycharm": {
     "name": "#%% md\n"
    }
   },
   "source": [
    "Let's define a custom efficiency rate function that will also return the particles found."
   ]
  },
  {
   "cell_type": "code",
   "execution_count": 11,
   "metadata": {
    "pycharm": {
     "name": "#%%\n"
    }
   },
   "outputs": [],
   "source": [
    "from src.utils.metrics import get_track_to_truth_row_mapping, matching_probability\n",
    "\n",
    "def custom_efficiency_rate(est, truth_df, threshold=0.5):\n",
    "    \"\"\" Custom efficiency rate function. The difference is that it also returns the reconstructed particles. \"\"\"\n",
    "    num_true_particles = len(set(truth_df['particle_id']))\n",
    "    track_to_truth_df_row = get_track_to_truth_row_mapping(truth_df)\n",
    "    found_particles = set()\n",
    "    pid_to_est_track = {}\n",
    "\n",
    "    for _track, hits in est.items():\n",
    "        _pid, prob = matching_probability(hits, track_to_truth_df_row, truth_df)\n",
    "        if prob >= threshold and _pid not in found_particles:\n",
    "            found_particles.add(_pid)\n",
    "            pid_to_est_track[_pid] = _track\n",
    "        if len(found_particles) == num_true_particles:\n",
    "            break\n",
    "\n",
    "    return pid_to_est_track, len(found_particles) / len(set(truth_df['particle_id']))"
   ]
  },
  {
   "cell_type": "markdown",
   "metadata": {
    "pycharm": {
     "name": "#%% md\n"
    }
   },
   "source": [
    "Now let's take a look at which particles were found, in order to see the frequency for every pdg."
   ]
  },
  {
   "cell_type": "code",
   "execution_count": 12,
   "metadata": {
    "pycharm": {
     "name": "#%%\n"
    }
   },
   "outputs": [],
   "source": [
    "particle_to_track, efficiency = custom_efficiency_rate(pur_new_est, df)\n",
    "real_counts_per_pdg = dict(initial_df['particle_type'].value_counts())\n",
    "reco_counts_per_pdg = {pdg: 0 for pdg in real_counts_per_pdg}\n",
    "\n",
    "for reco_particle in particle_to_track:\n",
    "    pdg = initial_df[initial_df['particle_id'] == reco_particle]['particle_type'].iloc[0]\n",
    "    reco_counts_per_pdg[pdg] += 1"
   ]
  },
  {
   "cell_type": "code",
   "execution_count": 13,
   "metadata": {
    "pycharm": {
     "name": "#%%\n"
    }
   },
   "outputs": [
    {
     "data": {
      "text/plain": "<Figure size 1224x792 with 1 Axes>",
      "image/png": "[encoded data removed]"
     },
     "metadata": {
      "needs_background": "light"
     },
     "output_type": "display_data"
    }
   ],
   "source": [
    "_, ax = plt.subplots(1, 1, figsize=(17, 11))\n",
    "\n",
    "# first plot: residual per phi\n",
    "n_pdgs = len(real_counts_per_pdg)\n",
    "xticks_r = np.arange(0, n_pdgs)\n",
    "count_max = max(real_counts_per_pdg.values())\n",
    "bar_width = 0.2\n",
    "\n",
    "ax.bar(xticks_r - (bar_width / 2), list(reco_counts_per_pdg.values()), color='crimson',\n",
    "       label='Reco Counts', width=bar_width)\n",
    "ax.bar(xticks_r + (bar_width / 2), list(real_counts_per_pdg.values()), color='forestgreen',\n",
    "       label='Real Counts', width=bar_width)\n",
    "\n",
    "ax.set_xlabel('pdg')\n",
    "ax.set_xticks(xticks_r)\n",
    "ax.set_xticklabels(list(real_counts_per_pdg), fontsize=9)\n",
    "ax.set_ylabel('Count').set_rotation(0)\n",
    "ax.yaxis.set_label_coords(-0.05, 0.50)\n",
    "ax.set_yticks(np.arange(0, count_max + 1))\n",
    "ax.set_title('Counts vs pdg')\n",
    "ax.legend()\n",
    "\n",
    "plt.show()"
   ]
  },
  {
   "cell_type": "code",
   "execution_count": 13,
   "metadata": {
    "pycharm": {
     "name": "#%%\n"
    }
   },
   "outputs": [],
   "source": []
  }
 ],
 "metadata": {
  "kernelspec": {
   "display_name": "Python 3 (ipykernel)",
   "language": "python",
   "name": "python3"
  },
  "language_info": {
   "codemirror_mode": {
    "name": "ipython",
    "version": 3
   },
   "file_extension": ".py",
   "mimetype": "text/x-python",
   "name": "python",
   "nbconvert_exporter": "python",
   "pygments_lexer": "ipython3",
   "version": "3.8.11"
  }
 },
 "nbformat": 4,
 "nbformat_minor": 1
}