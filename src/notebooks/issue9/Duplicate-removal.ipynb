{
 "cells": [
  {
   "cell_type": "code",
   "execution_count": 1,
   "id": "82369c3c",
   "metadata": {},
   "outputs": [],
   "source": [
    "import os\n",
    "import math\n",
    "import time\n",
    "import random\n",
    "import itertools\n",
    "import numpy as np\n",
    "import pandas as pd\n",
    "\n",
    "import matplotlib.pyplot as plt\n",
    "%matplotlib inline\n",
    "import seaborn as sns\n",
    "\n",
    "from tqdm.notebook import tqdm"
   ]
  },
  {
   "cell_type": "code",
   "execution_count": 2,
   "id": "6c66cc16",
   "metadata": {},
   "outputs": [],
   "source": [
    "# custom imports\n",
    "import sys\n",
    "\n",
    "sys.path.append(os.path.abspath(os.path.join('..', '..', 'utils')))"
   ]
  },
  {
   "cell_type": "code",
   "execution_count": 3,
   "id": "1ad9189c",
   "metadata": {},
   "outputs": [],
   "source": [
    "colors = [\n",
    "    'blue', 'green', 'red', 'cyan', 'magenta',\n",
    "    'yellow', 'black', 'orange', 'purple', 'brown',\n",
    "    'pink', 'grey', 'maroon', 'gold', 'chocolate',\n",
    "    'aqua', 'darkviolet', 'crimson', 'navy', 'darkgreen',\n",
    "    'peru', 'tan', 'seagreen', 'darkslategrey', 'teal'\n",
    "]"
   ]
  },
  {
   "cell_type": "code",
   "execution_count": 4,
   "id": "b3005409",
   "metadata": {},
   "outputs": [],
   "source": [
    "# constants\n",
    "A = 3e-4\n",
    "use_precise_transform = False"
   ]
  },
  {
   "cell_type": "markdown",
   "id": "c43bed90",
   "metadata": {},
   "source": [
    "## Let's load the data files"
   ]
  },
  {
   "cell_type": "code",
   "execution_count": 5,
   "id": "24b79508",
   "metadata": {},
   "outputs": [],
   "source": [
    "# define the particle data group which we want to run the algorithms on\n",
    "pdg = 211\n",
    "\n",
    "# get the respective datasets locations\n",
    "data_dir = os.path.join('..', '..', '..', 'data')\n",
    "root_dirs = {\n",
    "    'ideal':\n",
    "        os.path.join(data_dir, 'pdg{}'.format(pdg), 'pdg{}-n25-0.5to10GeV-0.5eta'.format(pdg)),\n",
    "    'mat':\n",
    "        os.path.join(data_dir, 'pdg{}'.format(pdg),\n",
    "                     'pdg{}-n25-0.5to10GeV-0.5eta-with-material-effects'.format(pdg)),\n",
    "    'odd-bfield':\n",
    "        os.path.join(data_dir, 'pdg{}'.format(pdg),\n",
    "                     'pdg{}-n25-0.5to10GeV-0.5eta-non-homogenous-magnetic-field'.format(pdg)),\n",
    "    'mat-odd-bfield':\n",
    "        os.path.join(data_dir, 'pdg{}'.format(pdg),\n",
    "                     'pdg{}-n25-0.5to10GeV-0.5eta-with-material-effects-non-' \\\n",
    "                     'homogenous-magnetic-field'.format(pdg))\n",
    "}\n",
    "\n",
    "\n",
    "# read the hits files and dataset\n",
    "hit_files = {\n",
    "    _type: sorted([file for file in os.listdir(root_dir) if file.endswith(\"-hits.csv\")])\n",
    "    for _type, root_dir in root_dirs.items()\n",
    "}\n",
    "hit_dfs = {\n",
    "    _type: [pd.read_csv(os.path.join(root_dirs[_type], file), dtype={'particle_id':str, 'geometry_id': str})\n",
    "            for file in files]\n",
    "    for _type, files in hit_files.items()\n",
    "}\n",
    "\n",
    "# read the initial files and dataset\n",
    "initial_files = {\n",
    "    _type: sorted([file for file in os.listdir(root_dir) if file.endswith(\"-particles_initial.csv\")])\n",
    "    for _type, root_dir in root_dirs.items()\n",
    "}\n",
    "initial_dfs = {\n",
    "    _type: [pd.read_csv(os.path.join(root_dirs[_type], file), dtype={'particle_id':str, 'geometry_id': str})\n",
    "            for file in files]\n",
    "    for _type, files in initial_files.items()\n",
    "}\n",
    "\n",
    "# read the final files and dataset\n",
    "final_files = {\n",
    "    _type: sorted([file for file in os.listdir(root_dir) if file.endswith(\"-particles_final.csv\")])\n",
    "    for _type, root_dir in root_dirs.items()\n",
    "}\n",
    "final_dfs = {\n",
    "    _type: [pd.read_csv(os.path.join(root_dirs[_type], file), dtype={'particle_id':str, 'geometry_id': str})\n",
    "            for file in files]\n",
    "    for _type, files in final_files.items()\n",
    "}"
   ]
  },
  {
   "cell_type": "markdown",
   "id": "fe7854c1",
   "metadata": {},
   "source": [
    "## Let's pick an event at randrom from every simulation"
   ]
  },
  {
   "cell_type": "code",
   "execution_count": 6,
   "id": "d5712821",
   "metadata": {},
   "outputs": [
    {
     "name": "stdout",
     "output_type": "stream",
     "text": [
      "Event chosen for the ideal simulation:\t\t\t\t\t\tevent000000074-hits.csv\n",
      "Event chosen for the simulation with material effect:\t\t\t\tevent000000017-hits.csv\n",
      "Event chosen for the simulation with non-homogenous B:\t\t\t\tevent000000045-hits.csv\n",
      "Event chosen for the simulation with material effect and non-homogenous B:\tevent000000003-hits.csv\n"
     ]
    }
   ],
   "source": [
    "num_events = 100\n",
    "random.seed(682021)\n",
    "\n",
    "# pick an event randomly for each case\n",
    "random_event = random.choice(range(0, num_events))\n",
    "ideal_df = hit_dfs['ideal'][random_event]\n",
    "ideal_df['weight'] = 1\n",
    "ideal_df['r'] = np.sqrt(np.square(ideal_df['tx']) + np.square(ideal_df['ty']))\n",
    "ideal_df['phi'] = np.arctan2(ideal_df['ty'], ideal_df['tx'])\n",
    "ideal_df['xy_track'] = ideal_df[['r','phi']].apply(lambda pair: (pair[0], pair[1]), 1)\n",
    "ideal_df['rz_track'] = ideal_df[['r','tz']].apply(lambda pair: (-pair[0], pair[1]), 1)\n",
    "print(f\"Event chosen for the ideal simulation:\\t\\t\\t\\t\\t\\t{hit_files['ideal'][random_event]}\")\n",
    "\n",
    "random_event = random.choice(range(0, num_events))\n",
    "mat_df = hit_dfs['mat'][random_event]\n",
    "mat_df['weight'] = 1\n",
    "mat_df['r'] = np.sqrt(np.square(mat_df['tx']) + np.square(mat_df['ty']))\n",
    "mat_df['phi'] = np.arctan2(mat_df['ty'], mat_df['tx'])\n",
    "mat_df['xy_track'] = mat_df[['r','phi']].apply(lambda pair: (pair[0], pair[1]), 1)\n",
    "mat_df['rz_track'] = mat_df[['r','tz']].apply(lambda pair: (-pair[0], pair[1]), 1)\n",
    "print(f\"Event chosen for the simulation with material effect:\\t\\t\\t\\t{hit_files['mat'][random_event]}\")\n",
    "\n",
    "random_event = random.choice(range(0, num_events))\n",
    "odd_bfield_df = hit_dfs['odd-bfield'][random_event]\n",
    "odd_bfield_df['weight'] = 1\n",
    "odd_bfield_df['r'] = np.sqrt(np.square(odd_bfield_df['tx']) + np.square(odd_bfield_df['ty']))\n",
    "odd_bfield_df['phi'] = np.arctan2(odd_bfield_df['ty'], odd_bfield_df['tx'])\n",
    "odd_bfield_df['xy_track'] = odd_bfield_df[['r','phi']].apply(lambda pair: (pair[0], pair[1]), 1)\n",
    "odd_bfield_df['rz_track'] = odd_bfield_df[['r','tz']].apply(lambda pair: (-pair[0], pair[1]), 1)\n",
    "print(f\"Event chosen for the simulation with non-homogenous B:\\t\\t\\t\\t\"\n",
    "      f\"{hit_files['odd-bfield'][random_event]}\")\n",
    "\n",
    "random_event = random.choice(range(0, num_events))\n",
    "mat_odd_bfield_df = hit_dfs['mat-odd-bfield'][random_event]\n",
    "mat_odd_bfield_df['weight'] = 1\n",
    "mat_odd_bfield_df['r'] = np.sqrt(np.square(mat_odd_bfield_df['tx']) + np.square(mat_odd_bfield_df['ty']))\n",
    "mat_odd_bfield_df['phi'] = np.arctan2(mat_odd_bfield_df['ty'], mat_odd_bfield_df['tx'])\n",
    "mat_odd_bfield_df['xy_track'] = mat_odd_bfield_df[['r','phi']].apply(lambda pair: (pair[0], pair[1]), 1)\n",
    "mat_odd_bfield_df['rz_track'] = mat_odd_bfield_df[['r','tz']].apply(lambda pair: (-pair[0], pair[1]), 1)\n",
    "print(f\"Event chosen for the simulation with material effect and non-homogenous B:\\t\"\n",
    "      f\"{hit_files['mat-odd-bfield'][random_event]}\")"
   ]
  },
  {
   "cell_type": "markdown",
   "id": "ef8210a1",
   "metadata": {},
   "source": [
    "## We will run the Hough Transform on the Ideal dataset and remove the duplicates from it"
   ]
  },
  {
   "cell_type": "code",
   "execution_count": 7,
   "id": "92060d7c",
   "metadata": {},
   "outputs": [],
   "source": [
    "from notebook2_utils import compute_qpt, compute_b, Hough2d_pipeline, remove_found_hits\n",
    "from metrics import efficiency_rate, fake_rate, duplicate_rate"
   ]
  },
  {
   "cell_type": "code",
   "execution_count": 8,
   "id": "632a1d53",
   "metadata": {},
   "outputs": [],
   "source": [
    "xy_hyperparams = {\n",
    "    'bin-size': (0.005, 0.1),\n",
    "    'xrange': (-np.pi, np.pi),\n",
    "    'yrange': (-1000, 1000),\n",
    "    'minimum-hits-per-bin': 10,\n",
    "    'A': A,\n",
    "    'use-precise-transform': False\n",
    "}\n",
    "\n",
    "rz_hyperparams = {\n",
    "    'bin-size': (0.04, 10),\n",
    "    'xrange': (-0.75, 0.75),\n",
    "    'yrange': (-500, 500),\n",
    "    'minimum-hits-per-bin': 12\n",
    "}"
   ]
  },
  {
   "cell_type": "code",
   "execution_count": 9,
   "id": "6d29d4bb",
   "metadata": {},
   "outputs": [
    {
     "name": "stdout",
     "output_type": "stream",
     "text": [
      "xy Transform statistics:\n",
      "\n",
      "\tEfficiency rate: 0.88\n",
      "\tFake rate: 0.47\n",
      "\tDuplicate rate: 0.89\n"
     ]
    }
   ],
   "source": [
    "accumulator, xy_est = Hough2d_pipeline(list(ideal_df['xy_track']), xy_hyperparams, compute_qpt)\n",
    "\n",
    "ideal_df['track'] = ideal_df['xy_track']\n",
    "xy_eff = efficiency_rate(xy_est.values(), ideal_df)\n",
    "xy_fake = fake_rate(xy_est.values(), ideal_df)\n",
    "xy_dup = duplicate_rate(xy_est.values(), ideal_df)\n",
    "\n",
    "print('xy Transform statistics:\\n')\n",
    "print(f'\\tEfficiency rate: {xy_eff:.2f}')\n",
    "print(f'\\tFake rate: {xy_fake:.2f}')\n",
    "print(f'\\tDuplicate rate: {xy_dup:.2f}')"
   ]
  },
  {
   "cell_type": "code",
   "execution_count": 10,
   "id": "169b1f78",
   "metadata": {},
   "outputs": [
    {
     "data": {
      "text/plain": [
       "(54, 15)"
      ]
     },
     "execution_count": 10,
     "metadata": {},
     "output_type": "execute_result"
    }
   ],
   "source": [
    "from notebook2_utils import get_roi_accumulator, plot_heatmap\n",
    "\n",
    "roi_x = xy_hyperparams['xrange']\n",
    "roi_y = xy_hyperparams['yrange']\n",
    "\n",
    "roi_x = (-3.07, -2.8)\n",
    "roi_y = (-1.11, 0.4)\n",
    "\n",
    "rois = (roi_x, roi_y)\n",
    "roi_accumulator_orig = get_roi_accumulator(accumulator, xy_hyperparams, rois)\n",
    "\n",
    "roi_accumulator = roi_accumulator_orig.copy()\n",
    "roi_accumulator.shape"
   ]
  },
  {
   "cell_type": "code",
   "execution_count": 11,
   "id": "30344012",
   "metadata": {},
   "outputs": [
    {
     "data": {
      "image/png": "[encoded data removed]",
      "text/plain": [
       "<Figure size 1296x720 with 2 Axes>"
      ]
     },
     "metadata": {
      "needs_background": "light"
     },
     "output_type": "display_data"
    }
   ],
   "source": [
    "indices_below_thresh = roi_accumulator < xy_hyperparams['minimum-hits-per-bin']\n",
    "roi_accumulator[indices_below_thresh] = 0\n",
    "plot_heatmap(roi_accumulator, rois)"
   ]
  },
  {
   "cell_type": "markdown",
   "id": "dea58878",
   "metadata": {},
   "source": [
    "# Baseline solution: Identify peaks in the accumulator and aggregate them"
   ]
  },
  {
   "cell_type": "code",
   "execution_count": 12,
   "id": "74a9b3b1",
   "metadata": {},
   "outputs": [],
   "source": [
    "def tracks_are_close(track1, track2, thresholds):\n",
    "    \"\"\" Returns true if the two given track are close, up to a threshold value. \"\"\"\n",
    "    return abs(track1[0] - track2[0]) <= thresholds[0] and abs(track1[1] - track2[1]) <= thresholds[1]\n",
    "    \n",
    "def common_hits_percentage(hits1, hits2):\n",
    "    \"\"\" Returns the percentage of common hits that two estimated tracks have. \"\"\"\n",
    "    hits1_set = set(hits1)\n",
    "    hits2_set = set(hits2)\n",
    "    return len(hits1_set & hits2_set) / len(hits1_set | hits2_set)"
   ]
  },
  {
   "cell_type": "code",
   "execution_count": null,
   "id": "4a9a7ee0",
   "metadata": {},
   "outputs": [],
   "source": []
  },
  {
   "cell_type": "code",
   "execution_count": 13,
   "id": "3c689a4c",
   "metadata": {},
   "outputs": [],
   "source": [
    "tracks = list(xy_est.keys())\n",
    "new_est = {}\n",
    "duplicates = set()\n",
    "\n",
    "threshold_x = 2500 * xy_hyperparams['bin-size'][0]\n",
    "threshold_y = 1000 * xy_hyperparams['bin-size'][1]\n",
    "thresholds = (threshold_x, threshold_y)\n",
    "\n",
    "# scan all tracks\n",
    "for idx, track1 in enumerate(tracks):\n",
    "    \n",
    "    # if the current track has already been marked as a duplicate, proceed\n",
    "    if track1 in duplicates:\n",
    "        continue\n",
    "        \n",
    "    # else, scan all the tracks after in search of duplicates, in order to resolve the remaining track\n",
    "    remaining_track = track1\n",
    "    for track2 in tracks[idx:]:\n",
    "        \n",
    "        hits1, hits2 = xy_est[remaining_track], xy_est[track2]\n",
    "        if tracks_are_close(remaining_track, track2, thresholds) and \\\n",
    "            common_hits_percentage(hits1, hits2) > 0.2:\n",
    "            \n",
    "            # the remaining track becomes the one with the most hits\n",
    "            duplicates.add(track2)\n",
    "            if len(hits1) < len(hits2):\n",
    "                remaining_track = track2\n",
    "                \n",
    "    # update the new estimations dictionary\n",
    "    new_est[remaining_track] = xy_est[remaining_track]"
   ]
  },
  {
   "cell_type": "code",
   "execution_count": 14,
   "id": "fd3f39e3",
   "metadata": {
    "scrolled": true
   },
   "outputs": [
    {
     "name": "stdout",
     "output_type": "stream",
     "text": [
      "xy Transform (Duplicate Removal 1) statistics:\n",
      "\n",
      "\tEfficiency rate: 0.80\n",
      "\tFake rate: 0.04\n",
      "\tDuplicate rate: 0.20\n"
     ]
    }
   ],
   "source": [
    "ideal_df['track'] = ideal_df['xy_track']\n",
    "xy_eff_dup_rem = efficiency_rate(new_est.values(), ideal_df)\n",
    "xy_fake_dup_rem = fake_rate(new_est.values(), ideal_df)\n",
    "xy_dup_dup_rem = duplicate_rate(new_est.values(), ideal_df)\n",
    "\n",
    "print('xy Transform (Duplicate Removal 1) statistics:\\n')\n",
    "print(f'\\tEfficiency rate: {xy_eff_dup_rem:.2f}')\n",
    "print(f'\\tFake rate: {xy_fake_dup_rem:.2f}')\n",
    "print(f'\\tDuplicate rate: {xy_dup_dup_rem:.2f}')"
   ]
  },
  {
   "cell_type": "code",
   "execution_count": 15,
   "id": "0960f493",
   "metadata": {},
   "outputs": [],
   "source": [
    "tracks = list(xy_est.keys())\n",
    "new_est = {}\n",
    "duplicates = set()\n",
    "\n",
    "threshold_x = 2500 * xy_hyperparams['bin-size'][0]\n",
    "threshold_y = 1000 * xy_hyperparams['bin-size'][1]\n",
    "thresholds = (threshold_x, threshold_y)\n",
    "\n",
    "# scan all tracks\n",
    "for idx, track1 in enumerate(tracks):\n",
    "    \n",
    "    # if the current track has already been marked as a duplicate, proceed\n",
    "    if track1 in duplicates:\n",
    "        continue\n",
    "        \n",
    "    # else, scan all the tracks after in search of duplicates, in order to resolve the remaining track\n",
    "    remaining_track = track1\n",
    "    duplicates_for_current_track = set()\n",
    "    duplicates_for_current_track.add(track1)\n",
    "    for track2 in tracks[idx:]:\n",
    "        \n",
    "        for track11 in duplicates_for_current_track:\n",
    "            \n",
    "            hits1, hits2 = xy_est[track11], xy_est[track2]\n",
    "            \n",
    "            if tracks_are_close(track11, track2, thresholds) and \\\n",
    "                common_hits_percentage(hits1, hits2) > 0.15:\n",
    "\n",
    "                # the remaining track becomes the one with the most hits\n",
    "                duplicates.add(track2)\n",
    "                duplicates_for_current_track.add(track2)\n",
    "                if len(hits1) < len(hits2):\n",
    "                    remaining_track = track2\n",
    "                break\n",
    "                \n",
    "    # update the new estimations dictionary\n",
    "    new_est[remaining_track] = xy_est[remaining_track]\n",
    "        "
   ]
  },
  {
   "cell_type": "code",
   "execution_count": 16,
   "id": "3d1afdf4",
   "metadata": {},
   "outputs": [
    {
     "name": "stdout",
     "output_type": "stream",
     "text": [
      "xy Transform (Duplicate Removal 2) statistics:\n",
      "\n",
      "\tEfficiency rate: 0.60\n",
      "\tFake rate: 0.06\n",
      "\tDuplicate rate: 0.06\n"
     ]
    }
   ],
   "source": [
    "ideal_df['track'] = ideal_df['xy_track']\n",
    "xy_eff_dup_rem = efficiency_rate(new_est.values(), ideal_df)\n",
    "xy_fake_dup_rem = fake_rate(new_est.values(), ideal_df)\n",
    "xy_dup_dup_rem = duplicate_rate(new_est.values(), ideal_df)\n",
    "\n",
    "print('xy Transform (Duplicate Removal 2) statistics:\\n')\n",
    "print(f'\\tEfficiency rate: {xy_eff_dup_rem:.2f}')\n",
    "print(f'\\tFake rate: {xy_fake_dup_rem:.2f}')\n",
    "print(f'\\tDuplicate rate: {xy_dup_dup_rem:.2f}')"
   ]
  },
  {
   "cell_type": "code",
   "execution_count": null,
   "id": "5baff355",
   "metadata": {},
   "outputs": [],
   "source": []
  },
  {
   "cell_type": "code",
   "execution_count": null,
   "id": "bf9b4a9a",
   "metadata": {},
   "outputs": [],
   "source": []
  },
  {
   "cell_type": "markdown",
   "id": "762ae594",
   "metadata": {},
   "source": [
    "# Stackoverflow solutions (that need testing)"
   ]
  },
  {
   "cell_type": "code",
   "execution_count": 17,
   "id": "76ce2ce7",
   "metadata": {},
   "outputs": [],
   "source": [
    "from scipy.ndimage.filters import maximum_filter\n",
    "from scipy.ndimage.morphology import generate_binary_structure, binary_erosion"
   ]
  },
  {
   "cell_type": "code",
   "execution_count": 18,
   "id": "a8f6e3ae",
   "metadata": {},
   "outputs": [],
   "source": [
    "def detect_peaks(image):\n",
    "    \"\"\"\n",
    "    Takes an image and detect the peaks usingthe local maximum filter.\n",
    "    Returns a boolean mask of the peaks (i.e. 1 when\n",
    "    the pixel's value is the neighborhood maximum, 0 otherwise)\n",
    "    \"\"\"\n",
    "\n",
    "    # define an 8-connected neighborhood\n",
    "    neighborhood = generate_binary_structure(2, 2)\n",
    "\n",
    "    #apply the local maximum filter; all pixel of maximal value \n",
    "    #in their neighborhood are set to 1\n",
    "    local_max = maximum_filter(image, footprint=neighborhood)==image\n",
    "    #local_max is a mask that contains the peaks we are \n",
    "    #looking for, but also the background.\n",
    "    #In order to isolate the peaks we must remove the background from the mask.\n",
    "\n",
    "    #we create the mask of the background\n",
    "    background = (image == 0)\n",
    "\n",
    "    #a little technicality: we must erode the background in order to \n",
    "    #successfully subtract it form local_max, otherwise a line will \n",
    "    #appear along the background border (artifact of the local maximum filter)\n",
    "    eroded_background = binary_erosion(background, structure=neighborhood, border_value=1)\n",
    "\n",
    "    #we obtain the final mask, containing only peaks, \n",
    "    #by removing the background from the local_max mask (xor operation)\n",
    "    detected_peaks = local_max ^ eroded_background\n",
    "\n",
    "    return detected_peaks"
   ]
  },
  {
   "cell_type": "code",
   "execution_count": 19,
   "id": "667cb36e",
   "metadata": {},
   "outputs": [],
   "source": [
    "f = detect_peaks(roi_accumulator)"
   ]
  },
  {
   "cell_type": "code",
   "execution_count": 20,
   "id": "984e7944",
   "metadata": {},
   "outputs": [
    {
     "data": {
      "image/png": "[encoded data removed]",
      "text/plain": [
       "<Figure size 1296x720 with 2 Axes>"
      ]
     },
     "metadata": {
      "needs_background": "light"
     },
     "output_type": "display_data"
    }
   ],
   "source": [
    "plot_heatmap(f, rois)"
   ]
  },
  {
   "cell_type": "code",
   "execution_count": 21,
   "id": "6ce71e76",
   "metadata": {},
   "outputs": [
    {
     "name": "stdout",
     "output_type": "stream",
     "text": [
      "Requirement already satisfied: opencv-python in /home/andreas/anaconda3/lib/python3.7/site-packages (4.5.3.56)\r\n",
      "Requirement already satisfied: numpy>=1.14.5 in /home/andreas/anaconda3/lib/python3.7/site-packages (from opencv-python) (1.20.3)\r\n"
     ]
    }
   ],
   "source": [
    "! pip3 install opencv-python"
   ]
  },
  {
   "cell_type": "code",
   "execution_count": 22,
   "id": "a385b582",
   "metadata": {
    "scrolled": true
   },
   "outputs": [
    {
     "name": "stdout",
     "output_type": "stream",
     "text": [
      "Requirement already satisfied: findpeaks in /home/andreas/anaconda3/lib/python3.7/site-packages (2.1.7)\n",
      "Requirement already satisfied: tqdm in /home/andreas/anaconda3/lib/python3.7/site-packages (from findpeaks) (4.61.2)\n",
      "Requirement already satisfied: numpy in /home/andreas/anaconda3/lib/python3.7/site-packages (from findpeaks) (1.20.3)\n",
      "Requirement already satisfied: scipy in /home/andreas/anaconda3/lib/python3.7/site-packages (from findpeaks) (1.6.2)\n",
      "Requirement already satisfied: matplotlib in /home/andreas/anaconda3/lib/python3.7/site-packages (from findpeaks) (3.3.4)\n",
      "Requirement already satisfied: peakdetect in /home/andreas/anaconda3/lib/python3.7/site-packages (from findpeaks) (1.1)\n",
      "Requirement already satisfied: pandas in /home/andreas/anaconda3/lib/python3.7/site-packages (from findpeaks) (1.3.0)\n",
      "Requirement already satisfied: requests in /home/andreas/anaconda3/lib/python3.7/site-packages (from findpeaks) (2.25.1)\n",
      "Requirement already satisfied: caerus in /home/andreas/anaconda3/lib/python3.7/site-packages (from findpeaks) (0.1.5)\n",
      "Requirement already satisfied: wget in /home/andreas/anaconda3/lib/python3.7/site-packages (from caerus->findpeaks) (3.2)\n",
      "Requirement already satisfied: kiwisolver>=1.0.1 in /home/andreas/anaconda3/lib/python3.7/site-packages (from matplotlib->findpeaks) (1.3.1)\n",
      "Requirement already satisfied: pillow>=6.2.0 in /home/andreas/anaconda3/lib/python3.7/site-packages (from matplotlib->findpeaks) (8.3.1)\n",
      "Requirement already satisfied: cycler>=0.10 in /home/andreas/anaconda3/lib/python3.7/site-packages (from matplotlib->findpeaks) (0.10.0)\n",
      "Requirement already satisfied: python-dateutil>=2.1 in /home/andreas/anaconda3/lib/python3.7/site-packages (from matplotlib->findpeaks) (2.8.2)\n",
      "Requirement already satisfied: pyparsing!=2.0.4,!=2.1.2,!=2.1.6,>=2.0.3 in /home/andreas/anaconda3/lib/python3.7/site-packages (from matplotlib->findpeaks) (2.4.7)\n",
      "Requirement already satisfied: six in /home/andreas/anaconda3/lib/python3.7/site-packages (from cycler>=0.10->matplotlib->findpeaks) (1.16.0)\n",
      "Requirement already satisfied: pytz>=2017.3 in /home/andreas/anaconda3/lib/python3.7/site-packages (from pandas->findpeaks) (2021.1)\n",
      "Requirement already satisfied: idna<3,>=2.5 in /home/andreas/anaconda3/lib/python3.7/site-packages (from requests->findpeaks) (2.10)\n",
      "Requirement already satisfied: certifi>=2017.4.17 in /home/andreas/anaconda3/lib/python3.7/site-packages (from requests->findpeaks) (2021.5.30)\n",
      "Requirement already satisfied: urllib3<1.27,>=1.21.1 in /home/andreas/anaconda3/lib/python3.7/site-packages (from requests->findpeaks) (1.26.6)\n",
      "Requirement already satisfied: chardet<5,>=3.0.2 in /home/andreas/anaconda3/lib/python3.7/site-packages (from requests->findpeaks) (3.0.4)\n"
     ]
    }
   ],
   "source": [
    "! pip3 install findpeaks"
   ]
  },
  {
   "cell_type": "code",
   "execution_count": 23,
   "id": "71e85dc2",
   "metadata": {},
   "outputs": [],
   "source": [
    "from findpeaks import findpeaks\n",
    "\n",
    "# Initialize\n",
    "fp = findpeaks(method='mask')"
   ]
  },
  {
   "cell_type": "code",
   "execution_count": 24,
   "id": "addc6385",
   "metadata": {},
   "outputs": [
    {
     "name": "stdout",
     "output_type": "stream",
     "text": [
      "[findpeaks] >Finding peaks in 2d-array using mask method..\n",
      "[findpeaks] >Scaling image between [0-255] and to uint8\n",
      "[findpeaks] >Conversion to gray image.\n",
      "[findpeaks] >Warning: Conversion to gray not possible.\n",
      "[findpeaks] >Denoising with [fastnl], window: [3].\n",
      "[findpeaks] >Detect peaks using the mask method with limit=0.\n",
      "[findpeaks] >Fin.\n"
     ]
    },
    {
     "data": {
      "text/plain": [
       "{'Xraw': array([[ 0.,  0.,  0.,  0., 11.,  0.,  0.,  0.,  0.,  0.,  0.,  0.,  0.,\n",
       "          0.,  0.],\n",
       "        [ 0.,  0.,  0.,  0., 10.,  0.,  0.,  0.,  0.,  0.,  0.,  0.,  0.,\n",
       "          0.,  0.],\n",
       "        [ 0.,  0.,  0.,  0.,  0., 10.,  0.,  0.,  0.,  0.,  0.,  0.,  0.,\n",
       "          0.,  0.],\n",
       "        [ 0.,  0.,  0.,  0., 10.,  0.,  0.,  0.,  0.,  0.,  0.,  0.,  0.,\n",
       "          0.,  0.],\n",
       "        [ 0.,  0.,  0.,  0.,  0., 12.,  0.,  0.,  0.,  0.,  0.,  0.,  0.,\n",
       "          0.,  0.],\n",
       "        [ 0.,  0.,  0.,  0.,  0., 12.,  0.,  0.,  0.,  0.,  0.,  0.,  0.,\n",
       "          0.,  0.],\n",
       "        [ 0.,  0.,  0.,  0.,  0., 14.,  0.,  0.,  0.,  0.,  0.,  0.,  0.,\n",
       "          0.,  0.],\n",
       "        [ 0.,  0.,  0.,  0.,  0., 11., 10.,  0.,  0.,  0.,  0.,  0.,  0.,\n",
       "          0.,  0.],\n",
       "        [ 0.,  0.,  0.,  0.,  0.,  0., 14.,  0.,  0.,  0.,  0.,  0.,  0.,\n",
       "          0.,  0.],\n",
       "        [ 0.,  0.,  0.,  0.,  0.,  0., 10.,  0.,  0.,  0.,  0.,  0.,  0.,\n",
       "          0.,  0.],\n",
       "        [ 0.,  0.,  0.,  0.,  0.,  0., 13.,  0.,  0.,  0.,  0.,  0.,  0.,\n",
       "          0.,  0.],\n",
       "        [ 0.,  0.,  0.,  0.,  0.,  0., 15.,  0.,  0.,  0.,  0.,  0.,  0.,\n",
       "          0.,  0.],\n",
       "        [ 0.,  0.,  0.,  0.,  0.,  0., 13.,  0.,  0.,  0.,  0.,  0.,  0.,\n",
       "          0.,  0.],\n",
       "        [ 0.,  0.,  0.,  0.,  0.,  0., 11., 12.,  0.,  0.,  0.,  0.,  0.,\n",
       "          0.,  0.],\n",
       "        [ 0.,  0.,  0.,  0.,  0.,  0.,  0., 17.,  0.,  0.,  0.,  0.,  0.,\n",
       "          0.,  0.],\n",
       "        [ 0.,  0.,  0.,  0.,  0.,  0.,  0., 11.,  0.,  0.,  0.,  0.,  0.,\n",
       "          0.,  0.],\n",
       "        [ 0.,  0.,  0.,  0.,  0.,  0.,  0., 15.,  0.,  0.,  0.,  0.,  0.,\n",
       "          0.,  0.],\n",
       "        [ 0.,  0.,  0.,  0.,  0.,  0.,  0., 15.,  0.,  0.,  0.,  0.,  0.,\n",
       "          0.,  0.],\n",
       "        [ 0.,  0.,  0.,  0.,  0.,  0.,  0., 12., 11.,  0.,  0.,  0.,  0.,\n",
       "          0.,  0.],\n",
       "        [ 0.,  0., 10.,  0.,  0.,  0.,  0., 12., 15.,  0.,  0.,  0.,  0.,\n",
       "          0.,  0.],\n",
       "        [ 0.,  0.,  0.,  0.,  0.,  0.,  0., 12., 16.,  0.,  0.,  0.,  0.,\n",
       "          0.,  0.],\n",
       "        [ 0.,  0.,  0.,  0.,  0.,  0.,  0.,  0., 16.,  0.,  0.,  0.,  0.,\n",
       "          0.,  0.],\n",
       "        [ 0.,  0.,  0.,  0.,  0.,  0.,  0., 10., 16.,  0.,  0.,  0.,  0.,\n",
       "          0.,  0.],\n",
       "        [ 0.,  0.,  0.,  0.,  0.,  0.,  0.,  0., 13., 16.,  0.,  0.,  0.,\n",
       "          0.,  0.],\n",
       "        [ 0.,  0.,  0.,  0.,  0.,  0.,  0.,  0., 13., 19.,  0.,  0.,  0.,\n",
       "          0.,  0.],\n",
       "        [ 0.,  0.,  0.,  0.,  0.,  0.,  0.,  0., 11., 17.,  0.,  0.,  0.,\n",
       "          0.,  0.],\n",
       "        [ 0.,  0.,  0.,  0.,  0.,  0.,  0.,  0., 13., 17.,  0.,  0.,  0.,\n",
       "          0.,  0.],\n",
       "        [ 0.,  0.,  0.,  0.,  0.,  0.,  0.,  0., 11., 13., 10.,  0.,  0.,\n",
       "          0.,  0.],\n",
       "        [ 0.,  0.,  0.,  0.,  0.,  0.,  0.,  0., 14., 12., 14.,  0.,  0.,\n",
       "          0.,  0.],\n",
       "        [ 0.,  0.,  0.,  0.,  0.,  0.,  0.,  0., 10., 17., 14.,  0.,  0.,\n",
       "          0.,  0.],\n",
       "        [ 0.,  0.,  0.,  0.,  0.,  0.,  0.,  0.,  0., 25., 14.,  0.,  0.,\n",
       "          0.,  0.],\n",
       "        [ 0.,  0.,  0.,  0.,  0.,  0.,  0.,  0.,  0., 12., 27.,  0.,  0.,\n",
       "          0.,  0.],\n",
       "        [ 0.,  0.,  0.,  0.,  0.,  0.,  0.,  0.,  0., 13., 24.,  0.,  0.,\n",
       "          0.,  0.],\n",
       "        [ 0.,  0.,  0.,  0.,  0.,  0.,  0.,  0.,  0., 12.,  0., 23.,  0.,\n",
       "          0.,  0.],\n",
       "        [ 0.,  0.,  0.,  0.,  0.,  0.,  0.,  0.,  0., 10., 12., 19.,  0.,\n",
       "          0.,  0.],\n",
       "        [ 0.,  0.,  0.,  0.,  0.,  0.,  0.,  0.,  0.,  0., 22., 16.,  0.,\n",
       "          0.,  0.],\n",
       "        [ 0.,  0.,  0.,  0.,  0.,  0.,  0.,  0.,  0.,  0., 16., 18.,  0.,\n",
       "          0.,  0.],\n",
       "        [ 0.,  0.,  0.,  0.,  0.,  0.,  0.,  0.,  0.,  0., 14., 19.,  0.,\n",
       "          0.,  0.],\n",
       "        [ 0.,  0.,  0.,  0.,  0.,  0.,  0.,  0.,  0.,  0., 17., 15., 10.,\n",
       "          0.,  0.],\n",
       "        [ 0.,  0.,  0.,  0.,  0.,  0.,  0.,  0.,  0.,  0.,  0., 16., 17.,\n",
       "          0.,  0.],\n",
       "        [ 0.,  0.,  0.,  0.,  0.,  0.,  0.,  0.,  0.,  0.,  0., 17., 19.,\n",
       "          0.,  0.],\n",
       "        [ 0.,  0.,  0.,  0.,  0.,  0.,  0.,  0.,  0.,  0.,  0., 16., 17.,\n",
       "          0.,  0.],\n",
       "        [ 0.,  0.,  0.,  0.,  0.,  0.,  0.,  0.,  0.,  0.,  0., 13., 18.,\n",
       "          0.,  0.],\n",
       "        [ 0.,  0.,  0.,  0.,  0.,  0.,  0.,  0.,  0.,  0.,  0.,  0., 15.,\n",
       "         11.,  0.],\n",
       "        [ 0.,  0.,  0.,  0.,  0.,  0.,  0.,  0.,  0.,  0.,  0.,  0., 16.,\n",
       "         12.,  0.],\n",
       "        [ 0.,  0.,  0.,  0.,  0.,  0.,  0.,  0.,  0.,  0.,  0.,  0., 17.,\n",
       "         12.,  0.],\n",
       "        [ 0.,  0.,  0.,  0.,  0.,  0.,  0.,  0.,  0.,  0.,  0.,  0.,  0.,\n",
       "         18.,  0.],\n",
       "        [ 0.,  0.,  0.,  0.,  0.,  0.,  0.,  0.,  0.,  0.,  0.,  0., 11.,\n",
       "         15.,  0.],\n",
       "        [ 0.,  0.,  0.,  0.,  0.,  0.,  0.,  0.,  0.,  0.,  0.,  0., 10.,\n",
       "         12., 10.],\n",
       "        [ 0.,  0.,  0.,  0.,  0.,  0.,  0.,  0.,  0.,  0.,  0.,  0.,  0.,\n",
       "         14., 10.],\n",
       "        [ 0.,  0.,  0.,  0.,  0.,  0.,  0.,  0.,  0.,  0.,  0.,  0.,  0.,\n",
       "         14., 11.],\n",
       "        [ 0.,  0.,  0.,  0.,  0.,  0.,  0.,  0.,  0.,  0.,  0.,  0.,  0.,\n",
       "         13., 10.],\n",
       "        [ 0.,  0.,  0.,  0.,  0.,  0.,  0.,  0.,  0.,  0.,  0.,  0.,  0.,\n",
       "          0., 14.],\n",
       "        [ 0.,  0.,  0.,  0.,  0.,  0.,  0.,  0.,  0.,  0.,  0.,  0.,  0.,\n",
       "         10., 10.]]),\n",
       " 'Xproc': array([[  0,   0,   0,   0, 103,   0,   0,   0,   0,   0,   0,   0,   0,\n",
       "           0,   0],\n",
       "        [  0,   0,   0,   0,  94,   0,   0,   0,   0,   0,   0,   0,   0,\n",
       "           0,   0],\n",
       "        [  0,   0,   0,   0,   0,  94,   0,   0,   0,   0,   0,   0,   0,\n",
       "           0,   0],\n",
       "        [  0,   0,   0,   0,  94,   0,   0,   0,   0,   0,   0,   0,   0,\n",
       "           0,   0],\n",
       "        [  0,   0,   0,   0,   0, 113,   0,   0,   0,   0,   0,   0,   0,\n",
       "           0,   0],\n",
       "        [  0,   0,   0,   0,   0, 113,   0,   0,   0,   0,   0,   0,   0,\n",
       "           0,   0],\n",
       "        [  0,   0,   0,   0,   0, 132,   0,   0,   0,   0,   0,   0,   0,\n",
       "           0,   0],\n",
       "        [  0,   0,   0,   0,   0, 103,  94,   0,   0,   0,   0,   0,   0,\n",
       "           0,   0],\n",
       "        [  0,   0,   0,   0,   0,   0, 132,   0,   0,   0,   0,   0,   0,\n",
       "           0,   0],\n",
       "        [  0,   0,   0,   0,   0,   0,  94,   0,   0,   0,   0,   0,   0,\n",
       "           0,   0],\n",
       "        [  0,   0,   0,   0,   0,   0, 122,   0,   0,   0,   0,   0,   0,\n",
       "           0,   0],\n",
       "        [  0,   0,   0,   0,   0,   0, 141,   0,   0,   0,   0,   0,   0,\n",
       "           0,   0],\n",
       "        [  0,   0,   0,   0,   0,   0, 122,   0,   0,   0,   0,   0,   0,\n",
       "           0,   0],\n",
       "        [  0,   0,   0,   0,   0,   0, 103, 113,   0,   0,   0,   0,   0,\n",
       "           0,   0],\n",
       "        [  0,   0,   0,   0,   0,   0,   0, 160,   0,   0,   0,   0,   0,\n",
       "           0,   0],\n",
       "        [  0,   0,   0,   0,   0,   0,   0, 103,   0,   0,   0,   0,   0,\n",
       "           0,   0],\n",
       "        [  0,   0,   0,   0,   0,   0,   0, 141,   0,   0,   0,   0,   0,\n",
       "           0,   0],\n",
       "        [  0,   0,   0,   0,   0,   0,   0, 141,   0,   0,   0,   0,   0,\n",
       "           0,   0],\n",
       "        [  0,   0,   0,   0,   0,   0,   0, 113, 103,   0,   0,   0,   0,\n",
       "           0,   0],\n",
       "        [  0,   0,  94,   0,   0,   0,   0, 113, 141,   0,   0,   0,   0,\n",
       "           0,   0],\n",
       "        [  0,   0,   0,   0,   0,   0,   0, 113, 151,   0,   0,   0,   0,\n",
       "           0,   0],\n",
       "        [  0,   0,   0,   0,   0,   0,   0,   0, 151,   0,   0,   0,   0,\n",
       "           0,   0],\n",
       "        [  0,   0,   0,   0,   0,   0,   0,  94, 151,   0,   0,   0,   0,\n",
       "           0,   0],\n",
       "        [  0,   0,   0,   0,   0,   0,   0,   0, 122, 151,   0,   0,   0,\n",
       "           0,   0],\n",
       "        [  0,   0,   0,   0,   0,   0,   0,   0, 122, 179,   0,   0,   0,\n",
       "           0,   0],\n",
       "        [  0,   0,   0,   0,   0,   0,   0,   0, 103, 160,   0,   0,   0,\n",
       "           0,   0],\n",
       "        [  0,   0,   0,   0,   0,   0,   0,   0, 122, 160,   0,   0,   0,\n",
       "           0,   0],\n",
       "        [  0,   0,   0,   0,   0,   0,   0,   0, 103, 122,  94,   0,   0,\n",
       "           0,   0],\n",
       "        [  0,   0,   0,   0,   0,   0,   0,   0, 132, 113, 132,   0,   0,\n",
       "           0,   0],\n",
       "        [  0,   0,   0,   0,   0,   0,   0,   0,  94, 160, 132,   0,   0,\n",
       "           0,   0],\n",
       "        [  0,   0,   0,   0,   0,   0,   0,   0,   0, 236, 132,   0,   0,\n",
       "           0,   0],\n",
       "        [  0,   0,   0,   0,   0,   0,   0,   0,   0, 113, 255,   0,   0,\n",
       "           0,   0],\n",
       "        [  0,   0,   0,   0,   0,   0,   0,   0,   0, 122, 226,   0,   0,\n",
       "           0,   0],\n",
       "        [  0,   0,   0,   0,   0,   0,   0,   0,   0, 113,   0, 217,   0,\n",
       "           0,   0],\n",
       "        [  0,   0,   0,   0,   0,   0,   0,   0,   0,  94, 113, 179,   0,\n",
       "           0,   0],\n",
       "        [  0,   0,   0,   0,   0,   0,   0,   0,   0,   0, 207, 151,   0,\n",
       "           0,   0],\n",
       "        [  0,   0,   0,   0,   0,   0,   0,   0,   0,   0, 151, 170,   0,\n",
       "           0,   0],\n",
       "        [  0,   0,   0,   0,   0,   0,   0,   0,   0,   0, 132, 179,   0,\n",
       "           0,   0],\n",
       "        [  0,   0,   0,   0,   0,   0,   0,   0,   0,   0, 160, 141,  94,\n",
       "           0,   0],\n",
       "        [  0,   0,   0,   0,   0,   0,   0,   0,   0,   0,   0, 151, 160,\n",
       "           0,   0],\n",
       "        [  0,   0,   0,   0,   0,   0,   0,   0,   0,   0,   0, 160, 179,\n",
       "           0,   0],\n",
       "        [  0,   0,   0,   0,   0,   0,   0,   0,   0,   0,   0, 151, 160,\n",
       "           0,   0],\n",
       "        [  0,   0,   0,   0,   0,   0,   0,   0,   0,   0,   0, 122, 170,\n",
       "           0,   0],\n",
       "        [  0,   0,   0,   0,   0,   0,   0,   0,   0,   0,   0,   0, 141,\n",
       "         103,   0],\n",
       "        [  0,   0,   0,   0,   0,   0,   0,   0,   0,   0,   0,   0, 151,\n",
       "         113,   0],\n",
       "        [  0,   0,   0,   0,   0,   0,   0,   0,   0,   0,   0,   0, 160,\n",
       "         113,   0],\n",
       "        [  0,   0,   0,   0,   0,   0,   0,   0,   0,   0,   0,   0,   0,\n",
       "         170,   0],\n",
       "        [  0,   0,   0,   0,   0,   0,   0,   0,   0,   0,   0,   0, 103,\n",
       "         141,   0],\n",
       "        [  0,   0,   0,   0,   0,   0,   0,   0,   0,   0,   0,   0,  94,\n",
       "         113,  94],\n",
       "        [  0,   0,   0,   0,   0,   0,   0,   0,   0,   0,   0,   0,   0,\n",
       "         132,  94],\n",
       "        [  0,   0,   0,   0,   0,   0,   0,   0,   0,   0,   0,   0,   0,\n",
       "         132, 103],\n",
       "        [  0,   0,   0,   0,   0,   0,   0,   0,   0,   0,   0,   0,   0,\n",
       "         122,  94],\n",
       "        [  0,   0,   0,   0,   0,   0,   0,   0,   0,   0,   0,   0,   0,\n",
       "           0, 132],\n",
       "        [  0,   0,   0,   0,   0,   0,   0,   0,   0,   0,   0,   0,   0,\n",
       "          94,  94]], dtype=uint8),\n",
       " 'Xdetect': array([[False, False, False, False,  True, False, False, False, False,\n",
       "         False, False, False, False, False, False],\n",
       "        [False, False, False, False, False, False, False, False, False,\n",
       "         False, False, False, False, False, False],\n",
       "        [False, False, False, False, False,  True, False, False, False,\n",
       "         False, False, False, False, False, False],\n",
       "        [False, False, False, False, False, False, False, False, False,\n",
       "         False, False, False, False, False, False],\n",
       "        [False, False, False, False, False,  True, False, False, False,\n",
       "         False, False, False, False, False, False],\n",
       "        [False, False, False, False, False, False, False, False, False,\n",
       "         False, False, False, False, False, False],\n",
       "        [False, False, False, False, False,  True, False, False, False,\n",
       "         False, False, False, False, False, False],\n",
       "        [False, False, False, False, False, False, False, False, False,\n",
       "         False, False, False, False, False, False],\n",
       "        [False, False, False, False, False, False,  True, False, False,\n",
       "         False, False, False, False, False, False],\n",
       "        [False, False, False, False, False, False, False, False, False,\n",
       "         False, False, False, False, False, False],\n",
       "        [False, False, False, False, False, False, False, False, False,\n",
       "         False, False, False, False, False, False],\n",
       "        [False, False, False, False, False, False,  True, False, False,\n",
       "         False, False, False, False, False, False],\n",
       "        [False, False, False, False, False, False, False, False, False,\n",
       "         False, False, False, False, False, False],\n",
       "        [False, False, False, False, False, False, False, False, False,\n",
       "         False, False, False, False, False, False],\n",
       "        [False, False, False, False, False, False, False,  True, False,\n",
       "         False, False, False, False, False, False],\n",
       "        [False, False, False, False, False, False, False, False, False,\n",
       "         False, False, False, False, False, False],\n",
       "        [False, False, False, False, False, False, False,  True, False,\n",
       "         False, False, False, False, False, False],\n",
       "        [False, False, False, False, False, False, False,  True, False,\n",
       "         False, False, False, False, False, False],\n",
       "        [False, False, False, False, False, False, False, False, False,\n",
       "         False, False, False, False, False, False],\n",
       "        [False, False,  True, False, False, False, False, False, False,\n",
       "         False, False, False, False, False, False],\n",
       "        [False, False, False, False, False, False, False, False,  True,\n",
       "         False, False, False, False, False, False],\n",
       "        [False, False, False, False, False, False, False, False,  True,\n",
       "         False, False, False, False, False, False],\n",
       "        [False, False, False, False, False, False, False, False,  True,\n",
       "         False, False, False, False, False, False],\n",
       "        [False, False, False, False, False, False, False, False, False,\n",
       "         False, False, False, False, False, False],\n",
       "        [False, False, False, False, False, False, False, False, False,\n",
       "          True, False, False, False, False, False],\n",
       "        [False, False, False, False, False, False, False, False, False,\n",
       "         False, False, False, False, False, False],\n",
       "        [False, False, False, False, False, False, False, False, False,\n",
       "          True, False, False, False, False, False],\n",
       "        [False, False, False, False, False, False, False, False, False,\n",
       "         False, False, False, False, False, False],\n",
       "        [False, False, False, False, False, False, False, False, False,\n",
       "         False, False, False, False, False, False],\n",
       "        [False, False, False, False, False, False, False, False, False,\n",
       "         False, False, False, False, False, False],\n",
       "        [False, False, False, False, False, False, False, False, False,\n",
       "         False, False, False, False, False, False],\n",
       "        [False, False, False, False, False, False, False, False, False,\n",
       "         False,  True, False, False, False, False],\n",
       "        [False, False, False, False, False, False, False, False, False,\n",
       "         False, False, False, False, False, False],\n",
       "        [False, False, False, False, False, False, False, False, False,\n",
       "         False, False, False, False, False, False],\n",
       "        [False, False, False, False, False, False, False, False, False,\n",
       "         False, False, False, False, False, False],\n",
       "        [False, False, False, False, False, False, False, False, False,\n",
       "         False,  True, False, False, False, False],\n",
       "        [False, False, False, False, False, False, False, False, False,\n",
       "         False, False, False, False, False, False],\n",
       "        [False, False, False, False, False, False, False, False, False,\n",
       "         False, False,  True, False, False, False],\n",
       "        [False, False, False, False, False, False, False, False, False,\n",
       "         False, False, False, False, False, False],\n",
       "        [False, False, False, False, False, False, False, False, False,\n",
       "         False, False, False, False, False, False],\n",
       "        [False, False, False, False, False, False, False, False, False,\n",
       "         False, False, False,  True, False, False],\n",
       "        [False, False, False, False, False, False, False, False, False,\n",
       "         False, False, False, False, False, False],\n",
       "        [False, False, False, False, False, False, False, False, False,\n",
       "         False, False, False,  True, False, False],\n",
       "        [False, False, False, False, False, False, False, False, False,\n",
       "         False, False, False, False, False, False],\n",
       "        [False, False, False, False, False, False, False, False, False,\n",
       "         False, False, False, False, False, False],\n",
       "        [False, False, False, False, False, False, False, False, False,\n",
       "         False, False, False, False, False, False],\n",
       "        [False, False, False, False, False, False, False, False, False,\n",
       "         False, False, False, False,  True, False],\n",
       "        [False, False, False, False, False, False, False, False, False,\n",
       "         False, False, False, False, False, False],\n",
       "        [False, False, False, False, False, False, False, False, False,\n",
       "         False, False, False, False, False, False],\n",
       "        [False, False, False, False, False, False, False, False, False,\n",
       "         False, False, False, False,  True, False],\n",
       "        [False, False, False, False, False, False, False, False, False,\n",
       "         False, False, False, False,  True, False],\n",
       "        [False, False, False, False, False, False, False, False, False,\n",
       "         False, False, False, False, False, False],\n",
       "        [False, False, False, False, False, False, False, False, False,\n",
       "         False, False, False, False, False,  True],\n",
       "        [False, False, False, False, False, False, False, False, False,\n",
       "         False, False, False, False, False, False]])}"
      ]
     },
     "execution_count": 24,
     "metadata": {},
     "output_type": "execute_result"
    }
   ],
   "source": [
    "# Fit\n",
    "fp.fit(roi_accumulator)"
   ]
  },
  {
   "cell_type": "code",
   "execution_count": 25,
   "id": "d896202f",
   "metadata": {},
   "outputs": [
    {
     "data": {
      "image/png": "[encoded data removed]",
      "text/plain": [
       "<Figure size 1080x576 with 4 Axes>"
      ]
     },
     "metadata": {
      "needs_background": "light"
     },
     "output_type": "display_data"
    },
    {
     "name": "stdout",
     "output_type": "stream",
     "text": [
      "[findpeaks] >Scaling image between [0-255] and to uint8\n",
      "[findpeaks] >Conversion to gray image.\n",
      "[findpeaks] >Warning: Conversion to gray not possible.\n",
      "[findpeaks] >Denoising with [fastnl], window: [3].\n"
     ]
    }
   ],
   "source": [
    "# Plot the pre-processing steps\n",
    "fp.plot_preprocessing()"
   ]
  },
  {
   "cell_type": "code",
   "execution_count": 26,
   "id": "d7e6af02",
   "metadata": {},
   "outputs": [
    {
     "data": {
      "image/png": "[encoded data removed]",
      "text/plain": [
       "<Figure size 1080x576 with 3 Axes>"
      ]
     },
     "metadata": {
      "needs_background": "light"
     },
     "output_type": "display_data"
    },
    {
     "data": {
      "text/plain": [
       "(<AxesSubplot:title={'center':'Input'}>,\n",
       " <AxesSubplot:title={'center':'Processed image'}>,\n",
       " <AxesSubplot:title={'center':'mask method'}>)"
      ]
     },
     "execution_count": 26,
     "metadata": {},
     "output_type": "execute_result"
    }
   ],
   "source": [
    "# Plot all\n",
    "fp.plot()"
   ]
  },
  {
   "cell_type": "code",
   "execution_count": 27,
   "id": "1b32fe56",
   "metadata": {},
   "outputs": [],
   "source": [
    "# Initialize\n",
    "fp = findpeaks(method='topology')"
   ]
  },
  {
   "cell_type": "code",
   "execution_count": 28,
   "id": "3a5c84ca",
   "metadata": {},
   "outputs": [
    {
     "name": "stdout",
     "output_type": "stream",
     "text": [
      "[findpeaks] >Finding peaks in 2d-array using topology method..\n",
      "[findpeaks] >Scaling image between [0-255] and to uint8\n",
      "[findpeaks] >Conversion to gray image.\n",
      "[findpeaks] >Warning: Conversion to gray not possible.\n",
      "[findpeaks] >Denoising with [fastnl], window: [3].\n",
      "[findpeaks] >Detect peaks using topology method with limit at None.\n"
     ]
    },
    {
     "name": "stderr",
     "output_type": "stream",
     "text": [
      "810it [00:00, 116716.58it/s]"
     ]
    },
    {
     "name": "stdout",
     "output_type": "stream",
     "text": [
      "[findpeaks] >Fin.\n"
     ]
    },
    {
     "name": "stderr",
     "output_type": "stream",
     "text": [
      "\n"
     ]
    }
   ],
   "source": [
    "# Fit\n",
    "r = fp.fit(roi_accumulator)"
   ]
  },
  {
   "cell_type": "code",
   "execution_count": 29,
   "id": "54be3eb0",
   "metadata": {},
   "outputs": [
    {
     "name": "stdout",
     "output_type": "stream",
     "text": [
      "key Xraw -> type: <class 'numpy.ndarray'>\n",
      "key Xproc -> type: <class 'numpy.ndarray'>\n",
      "key Xdetect -> type: <class 'numpy.ndarray'>\n",
      "key Xranked -> type: <class 'numpy.ndarray'>\n",
      "key persistence -> type: <class 'pandas.core.frame.DataFrame'>\n",
      "key peak -> type: <class 'numpy.ndarray'>\n",
      "key valley -> type: <class 'list'>\n",
      "key groups0 -> type: <class 'list'>\n"
     ]
    }
   ],
   "source": [
    "for key, val in r.items():\n",
    "    print(f'key {key} -> type: {type(val)}')"
   ]
  },
  {
   "cell_type": "code",
   "execution_count": 30,
   "id": "988488f9",
   "metadata": {},
   "outputs": [
    {
     "data": {
      "text/plain": [
       "(17, 2)"
      ]
     },
     "execution_count": 30,
     "metadata": {},
     "output_type": "execute_result"
    }
   ],
   "source": [
    "r['peak'].shape"
   ]
  },
  {
   "cell_type": "code",
   "execution_count": 31,
   "id": "c84690df",
   "metadata": {},
   "outputs": [
    {
     "data": {
      "text/plain": [
       "array([[  0,   0],\n",
       "       [  0, 103],\n",
       "       [  4, 113],\n",
       "       [  6, 132],\n",
       "       [ 11, 141],\n",
       "       [ 14, 160],\n",
       "       [ 16, 141],\n",
       "       [ 19,  94],\n",
       "       [ 20, 151],\n",
       "       [ 24, 179],\n",
       "       [ 31, 255],\n",
       "       [ 35, 207],\n",
       "       [ 37, 179],\n",
       "       [ 40, 179],\n",
       "       [ 42, 170],\n",
       "       [ 46, 170],\n",
       "       [ 49, 132]])"
      ]
     },
     "execution_count": 31,
     "metadata": {},
     "output_type": "execute_result"
    }
   ],
   "source": [
    "r['peak']"
   ]
  },
  {
   "cell_type": "code",
   "execution_count": null,
   "id": "9a4fc9b7",
   "metadata": {},
   "outputs": [],
   "source": []
  }
 ],
 "metadata": {
  "kernelspec": {
   "display_name": "Python 3 (ipykernel)",
   "language": "python",
   "name": "python3"
  },
  "language_info": {
   "codemirror_mode": {
    "name": "ipython",
    "version": 3
   },
   "file_extension": ".py",
   "mimetype": "text/x-python",
   "name": "python",
   "nbconvert_exporter": "python",
   "pygments_lexer": "ipython3",
   "version": "3.7.10"
  }
 },
 "nbformat": 4,
 "nbformat_minor": 5
}
