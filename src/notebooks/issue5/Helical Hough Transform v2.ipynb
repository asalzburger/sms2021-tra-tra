{
 "cells": [
  {
   "cell_type": "code",
   "execution_count": 1,
   "id": "82369c3c",
   "metadata": {},
   "outputs": [],
   "source": [
    "import os\n",
    "import math\n",
    "import time\n",
    "import random\n",
    "import itertools\n",
    "import numpy as np\n",
    "import pandas as pd\n",
    "\n",
    "import matplotlib.pyplot as plt\n",
    "%matplotlib inline\n",
    "import seaborn as sns\n",
    "\n",
    "from tqdm.notebook import tqdm"
   ]
  },
  {
   "cell_type": "code",
   "execution_count": 2,
   "id": "6c66cc16",
   "metadata": {},
   "outputs": [],
   "source": [
    "# custom imports\n",
    "import sys\n",
    "\n",
    "sys.path.append(os.path.abspath(os.path.join('..', '..', 'utils')))"
   ]
  },
  {
   "cell_type": "code",
   "execution_count": 3,
   "id": "1ad9189c",
   "metadata": {},
   "outputs": [],
   "source": [
    "colors = [\n",
    "    'blue', 'green', 'red', 'cyan', 'magenta',\n",
    "    'yellow', 'black', 'orange', 'purple', 'brown',\n",
    "    'pink', 'grey', 'maroon', 'gold', 'chocolate',\n",
    "    'aqua', 'darkviolet', 'crimson', 'navy', 'darkgreen',\n",
    "    'peru', 'tan', 'seagreen', 'darkslategrey', 'teal'\n",
    "]"
   ]
  },
  {
   "cell_type": "code",
   "execution_count": 4,
   "id": "b3005409",
   "metadata": {},
   "outputs": [],
   "source": [
    "# constants\n",
    "A = 3e-4\n",
    "use_sin = True"
   ]
  },
  {
   "cell_type": "markdown",
   "id": "c43bed90",
   "metadata": {},
   "source": [
    "## First let's try to detect the helical trajectory (for the x-y plane) in a single-particle file"
   ]
  },
  {
   "cell_type": "code",
   "execution_count": 5,
   "id": "24b79508",
   "metadata": {},
   "outputs": [],
   "source": [
    "# Get all the \"Hits\" data files\n",
    "root_dir = os.path.join('..', '..', '..', 'data', 'pdg13-n1-1GeV-0.5eta')\n",
    "hit_files = sorted([file for file in os.listdir(root_dir) if file.endswith(\"-hits.csv\")])\n",
    "initial_files = sorted([file for file in os.listdir(root_dir) if file.endswith(\"-particles_initial.csv\")])\n",
    "final_files = sorted([file for file in os.listdir(root_dir) if file.endswith(\"-particles_final.csv\")])\n",
    "dfs = [pd.read_csv(os.path.join(root_dir, file)) for file in hit_files]\n",
    "initial_dfs = [pd.read_csv(os.path.join(root_dir, file), dtype={'particle_id':str, 'geometry_id': str})\n",
    "               for file in initial_files]\n",
    "final_dfs = [pd.read_csv(os.path.join(root_dir, file), dtype={'particle_id':str, 'geometry_id': str})\n",
    "             for file in final_files]"
   ]
  },
  {
   "cell_type": "code",
   "execution_count": 6,
   "id": "d5712821",
   "metadata": {},
   "outputs": [
    {
     "name": "stdout",
     "output_type": "stream",
     "text": [
      "Event chosen: event000000029-hits.csv\n"
     ]
    },
    {
     "data": {
      "text/html": [
       "<div>\n",
       "<style scoped>\n",
       "    .dataframe tbody tr th:only-of-type {\n",
       "        vertical-align: middle;\n",
       "    }\n",
       "\n",
       "    .dataframe tbody tr th {\n",
       "        vertical-align: top;\n",
       "    }\n",
       "\n",
       "    .dataframe thead th {\n",
       "        text-align: right;\n",
       "    }\n",
       "</style>\n",
       "<table border=\"1\" class=\"dataframe\">\n",
       "  <thead>\n",
       "    <tr style=\"text-align: right;\">\n",
       "      <th></th>\n",
       "      <th>particle_id</th>\n",
       "      <th>geometry_id</th>\n",
       "      <th>tx</th>\n",
       "      <th>ty</th>\n",
       "      <th>tz</th>\n",
       "      <th>tt</th>\n",
       "      <th>tpx</th>\n",
       "      <th>tpy</th>\n",
       "      <th>tpz</th>\n",
       "      <th>te</th>\n",
       "      <th>deltapx</th>\n",
       "      <th>deltapy</th>\n",
       "      <th>deltapz</th>\n",
       "      <th>deltae</th>\n",
       "      <th>index</th>\n",
       "      <th>weight</th>\n",
       "      <th>r</th>\n",
       "      <th>phi</th>\n",
       "      <th>track</th>\n",
       "    </tr>\n",
       "  </thead>\n",
       "  <tbody>\n",
       "    <tr>\n",
       "      <th>0</th>\n",
       "      <td>4503599644147712</td>\n",
       "      <td>936748859932016764</td>\n",
       "      <td>16.683874</td>\n",
       "      <td>27.527729</td>\n",
       "      <td>7.455000</td>\n",
       "      <td>0.110797</td>\n",
       "      <td>0.510034</td>\n",
       "      <td>0.860154</td>\n",
       "      <td>0.231598</td>\n",
       "      <td>1.031892</td>\n",
       "      <td>0</td>\n",
       "      <td>0</td>\n",
       "      <td>0</td>\n",
       "      <td>0</td>\n",
       "      <td>0</td>\n",
       "      <td>1.0</td>\n",
       "      <td>32.188935</td>\n",
       "      <td>1.025922</td>\n",
       "      <td>(32.18893472735766, 1.0259217315432712)</td>\n",
       "    </tr>\n",
       "    <tr>\n",
       "      <th>1</th>\n",
       "      <td>4503599644147712</td>\n",
       "      <td>936748859932016778</td>\n",
       "      <td>17.186132</td>\n",
       "      <td>28.375340</td>\n",
       "      <td>7.683180</td>\n",
       "      <td>0.114188</td>\n",
       "      <td>0.509526</td>\n",
       "      <td>0.860455</td>\n",
       "      <td>0.231598</td>\n",
       "      <td>1.031892</td>\n",
       "      <td>0</td>\n",
       "      <td>0</td>\n",
       "      <td>0</td>\n",
       "      <td>0</td>\n",
       "      <td>1</td>\n",
       "      <td>1.0</td>\n",
       "      <td>33.174132</td>\n",
       "      <td>1.026217</td>\n",
       "      <td>(33.174132070192734, 1.0262170908764479)</td>\n",
       "    </tr>\n",
       "    <tr>\n",
       "      <th>2</th>\n",
       "      <td>4503599644147712</td>\n",
       "      <td>936748997370970502</td>\n",
       "      <td>34.540306</td>\n",
       "      <td>58.389202</td>\n",
       "      <td>15.712786</td>\n",
       "      <td>0.233525</td>\n",
       "      <td>0.491530</td>\n",
       "      <td>0.870861</td>\n",
       "      <td>0.231598</td>\n",
       "      <td>1.031892</td>\n",
       "      <td>0</td>\n",
       "      <td>0</td>\n",
       "      <td>0</td>\n",
       "      <td>0</td>\n",
       "      <td>2</td>\n",
       "      <td>1.0</td>\n",
       "      <td>67.840487</td>\n",
       "      <td>1.036611</td>\n",
       "      <td>(67.84048693336703, 1.0366110277988427)</td>\n",
       "    </tr>\n",
       "    <tr>\n",
       "      <th>3</th>\n",
       "      <td>4503599644147712</td>\n",
       "      <td>936749134809924310</td>\n",
       "      <td>57.039658</td>\n",
       "      <td>99.596489</td>\n",
       "      <td>26.586557</td>\n",
       "      <td>0.395131</td>\n",
       "      <td>0.466823</td>\n",
       "      <td>0.884351</td>\n",
       "      <td>0.231598</td>\n",
       "      <td>1.031892</td>\n",
       "      <td>0</td>\n",
       "      <td>0</td>\n",
       "      <td>0</td>\n",
       "      <td>0</td>\n",
       "      <td>3</td>\n",
       "      <td>1.0</td>\n",
       "      <td>114.773617</td>\n",
       "      <td>1.050687</td>\n",
       "      <td>(114.7736170043114, 1.0506866179192182)</td>\n",
       "    </tr>\n",
       "    <tr>\n",
       "      <th>4</th>\n",
       "      <td>4503599644147712</td>\n",
       "      <td>936749272248877138</td>\n",
       "      <td>81.947067</td>\n",
       "      <td>148.729919</td>\n",
       "      <td>39.344940</td>\n",
       "      <td>0.584747</td>\n",
       "      <td>0.437363</td>\n",
       "      <td>0.899285</td>\n",
       "      <td>0.231598</td>\n",
       "      <td>1.031892</td>\n",
       "      <td>0</td>\n",
       "      <td>0</td>\n",
       "      <td>0</td>\n",
       "      <td>0</td>\n",
       "      <td>4</td>\n",
       "      <td>1.0</td>\n",
       "      <td>169.811397</td>\n",
       "      <td>1.067202</td>\n",
       "      <td>(169.81139727596994, 1.067201767998089)</td>\n",
       "    </tr>\n",
       "  </tbody>\n",
       "</table>\n",
       "</div>"
      ],
      "text/plain": [
       "        particle_id         geometry_id         tx          ty         tz  \\\n",
       "0  4503599644147712  936748859932016764  16.683874   27.527729   7.455000   \n",
       "1  4503599644147712  936748859932016778  17.186132   28.375340   7.683180   \n",
       "2  4503599644147712  936748997370970502  34.540306   58.389202  15.712786   \n",
       "3  4503599644147712  936749134809924310  57.039658   99.596489  26.586557   \n",
       "4  4503599644147712  936749272248877138  81.947067  148.729919  39.344940   \n",
       "\n",
       "         tt       tpx       tpy       tpz        te  deltapx  deltapy  \\\n",
       "0  0.110797  0.510034  0.860154  0.231598  1.031892        0        0   \n",
       "1  0.114188  0.509526  0.860455  0.231598  1.031892        0        0   \n",
       "2  0.233525  0.491530  0.870861  0.231598  1.031892        0        0   \n",
       "3  0.395131  0.466823  0.884351  0.231598  1.031892        0        0   \n",
       "4  0.584747  0.437363  0.899285  0.231598  1.031892        0        0   \n",
       "\n",
       "   deltapz  deltae  index  weight           r       phi  \\\n",
       "0        0       0      0     1.0   32.188935  1.025922   \n",
       "1        0       0      1     1.0   33.174132  1.026217   \n",
       "2        0       0      2     1.0   67.840487  1.036611   \n",
       "3        0       0      3     1.0  114.773617  1.050687   \n",
       "4        0       0      4     1.0  169.811397  1.067202   \n",
       "\n",
       "                                      track  \n",
       "0   (32.18893472735766, 1.0259217315432712)  \n",
       "1  (33.174132070192734, 1.0262170908764479)  \n",
       "2   (67.84048693336703, 1.0366110277988427)  \n",
       "3   (114.7736170043114, 1.0506866179192182)  \n",
       "4   (169.81139727596994, 1.067201767998089)  "
      ]
     },
     "execution_count": 6,
     "metadata": {},
     "output_type": "execute_result"
    }
   ],
   "source": [
    "random.seed(8)\n",
    "random_event = random.choice(range(0, len(dfs)))\n",
    "print(f'Event chosen: {hit_files[random_event]}')\n",
    "df = dfs[random_event]\n",
    "initial_df = initial_dfs[random_event]\n",
    "final_df = final_dfs[random_event]\n",
    "df['weight'] = 1.0\n",
    "df['r'] = np.sqrt(np.square(df['tx']) + np.square(df['ty']))\n",
    "df['phi'] = np.arctan2(df['ty'], df['tx'])\n",
    "df['track'] = df[['r','phi']].apply(lambda pair: (pair[0], pair[1]), 1)\n",
    "df.head()"
   ]
  },
  {
   "cell_type": "code",
   "execution_count": 7,
   "id": "d0aaeee2",
   "metadata": {
    "scrolled": false
   },
   "outputs": [
    {
     "data": {
      "image/png": "[encoded data removed]",
      "text/plain": [
       "<Figure size 960x480 with 1 Axes>"
      ]
     },
     "metadata": {
      "needs_background": "light"
     },
     "output_type": "display_data"
    }
   ],
   "source": [
    "plt.figure(figsize=(12, 6), dpi=80)\n",
    "plt.scatter(x=df['tx'], y=df['ty'], label=hit_files[random_event])\n",
    "\n",
    "plt.xlabel('tx')\n",
    "plt.ylabel('ty')\n",
    "plt.legend(loc='best')\n",
    "plt.title('Single particle trajectory in the x-y plane')\n",
    "plt.show()"
   ]
  },
  {
   "cell_type": "markdown",
   "id": "74850a42",
   "metadata": {},
   "source": [
    "Using the formula\n",
    "\n",
    "$$\\frac{qA}{p_T} = \\frac{\\sin(\\phi_0 - \\phi_1)}{r_1}$$\n",
    "\n",
    "By considering $q/p_T$ to be the $y$-unknown and $\\phi_0$ to be the x-unknown, we get the following formula:\n",
    "\n",
    "$$y = \\frac{\\sin(x - \\phi)}{Ar}$$\n",
    "\n",
    "where $r$ is the distance of an x-y point to the origin and $\\phi$ is it's angle in polar coordinates.\n",
    "\n",
    "Since in some cases we know that $\\phi_0 \\approx \\phi_1$, we can substitute $\\sin(x - \\phi)$ with $x - \\phi$, simplifying thus the given formula to a linear equation:\n",
    "\n",
    "$$y = \\frac{1}{Ar}x - \\frac{\\phi}{Ar}$$"
   ]
  },
  {
   "cell_type": "markdown",
   "id": "d3458d9b",
   "metadata": {},
   "source": [
    "Let's define here the bin size and the range of search in the x-axis ($\\phi_0$)."
   ]
  },
  {
   "cell_type": "code",
   "execution_count": 8,
   "id": "5a2ee2e7",
   "metadata": {},
   "outputs": [],
   "source": [
    "all_tracks = list(df['track'])\n",
    "bin_size = (0.001, 0.05)\n",
    "width_limits = (0, np.pi)\n",
    "x_range = np.arange(width_limits[0], width_limits[1], bin_size[0])"
   ]
  },
  {
   "cell_type": "markdown",
   "id": "ea7b6e00",
   "metadata": {},
   "source": [
    "Let's plot the tracks in the Hough Space."
   ]
  },
  {
   "cell_type": "code",
   "execution_count": 9,
   "id": "6666ae37",
   "metadata": {
    "scrolled": false
   },
   "outputs": [
    {
     "data": {
      "image/png": "[encoded data removed]",
      "text/plain": [
       "<Figure size 1280x880 with 1 Axes>"
      ]
     },
     "metadata": {
      "needs_background": "light"
     },
     "output_type": "display_data"
    }
   ],
   "source": [
    "min_y, max_y = float('inf'), float('-inf')\n",
    "\n",
    "plt.figure(figsize=(16, 11), dpi=80)\n",
    "for idx, track in enumerate(all_tracks):\n",
    "    r, phi = track\n",
    "    if use_sin:\n",
    "        label = '$\\sin$($x$ - ' + '{:.3f}'.format(phi) + ') / ($3*10^{-4}$' + '{:.3f}'.format(r) + ')'\n",
    "    else:\n",
    "        label = '($x$ - ' + '{:.3f}'.format(phi) + ') / ($3*10^{-4}$' + '{:.3f}'.format(r) + ')'\n",
    "    ys = np.sin(x_range - phi) / (A * r) if use_sin else (x_range - phi) / (A * r)\n",
    "    min_y = min(np.min(ys), min_y)\n",
    "    max_y = max(np.max(ys), max_y)\n",
    "    plt.plot(x_range, ys, label=label, color=colors[idx % len(colors)])\n",
    "\n",
    "plt.xlabel('$\\phi_0$', fontsize=15)\n",
    "h = plt.ylabel('$\\\\frac{q}{p_T}$', fontsize=15)\n",
    "h.set_rotation(0)\n",
    "plt.title('Hough Space')\n",
    "plt.legend(loc='best', prop={'size': 11})\n",
    "plt.show()"
   ]
  },
  {
   "cell_type": "markdown",
   "id": "761c0848",
   "metadata": {},
   "source": [
    "Let's run the pipeline and plot the results."
   ]
  },
  {
   "cell_type": "code",
   "execution_count": 10,
   "id": "a273a7f9",
   "metadata": {},
   "outputs": [
    {
     "data": {
      "text/plain": [
       "3"
      ]
     },
     "execution_count": 10,
     "metadata": {},
     "output_type": "execute_result"
    }
   ],
   "source": [
    "from notebook_utils import pipeline\n",
    "\n",
    "height_limits = (min_y - 1, max_y + 1)\n",
    "limits = (width_limits, height_limits)\n",
    "selection_hyperparams = {'minimum-hits-per-bin': 10}\n",
    "\n",
    "accumulator, est_tracks_to_hits = pipeline(all_tracks, bin_size, limits, selection_hyperparams, use_sin=use_sin)\n",
    "len(est_tracks_to_hits)"
   ]
  },
  {
   "cell_type": "markdown",
   "id": "7d935c93",
   "metadata": {},
   "source": [
    "Before plotting, let's define a RoI (Region of Interest) for the y-axis $\\frac{q}{p_T}$ values, in order to make the heatmap more readable. I chose the interval $[-5, 3]$, but any other interval can be hard coded as well below."
   ]
  },
  {
   "cell_type": "code",
   "execution_count": 45,
   "id": "01c830c0",
   "metadata": {},
   "outputs": [
    {
     "data": {
      "text/plain": [
       "(10, 6)"
      ]
     },
     "execution_count": 45,
     "metadata": {},
     "output_type": "execute_result"
    }
   ],
   "source": [
    "lower_qpt = -1.10\n",
    "upper_qpt = -0.77\n",
    "low_qpt_bin = int((lower_qpt - height_limits[0] - 1e-12) / bin_size[1])\n",
    "high_qpt_bin = int((upper_qpt - height_limits[0] - 1e-12) / bin_size[1])\n",
    "\n",
    "lower_phi = 1.01\n",
    "upper_phi = 1.02\n",
    "low_phi_bin = int((lower_phi - width_limits[0] - 1e-12) / bin_size[0])\n",
    "high_phi_bin = int((upper_phi - width_limits[0] - 1e-12) / bin_size[0])\n",
    "\n",
    "roi_accumulator = accumulator[low_phi_bin:high_phi_bin, low_qpt_bin:high_qpt_bin]\n",
    "roi_accumulator.shape"
   ]
  },
  {
   "cell_type": "code",
   "execution_count": 46,
   "id": "4a9b1dad",
   "metadata": {
    "scrolled": false
   },
   "outputs": [
    {
     "data": {
      "image/png": "[encoded data removed]",
      "text/plain": [
       "<Figure size 1440x640 with 2 Axes>"
      ]
     },
     "metadata": {
      "needs_background": "light"
     },
     "output_type": "display_data"
    }
   ],
   "source": [
    "# size\n",
    "plt.figure(figsize=(18, 8), dpi=80)\n",
    "\n",
    "# x-axis ticks-labels\n",
    "plt.locator_params(axis='x', nbins=10)\n",
    "xticks = np.linspace(0, roi_accumulator.shape[0], 10)\n",
    "x_range = np.linspace(lower_phi, upper_phi, xticks.shape[0])\n",
    "xtick_labels = ['{:.3f}'.format(tick) for tick in x_range]\n",
    "\n",
    "# y-axis ticks-labels\n",
    "plt.locator_params(axis='y', nbins=15)\n",
    "yticks = np.linspace(0, roi_accumulator.shape[1], 15)\n",
    "y_range = np.linspace(lower_qpt, upper_qpt, yticks.shape[0])\n",
    "ytick_labels = ['{:.2f}'.format(tick) for tick in y_range]\n",
    "\n",
    "# heatmap\n",
    "ax = sns.heatmap(roi_accumulator.T)\n",
    "\n",
    "# config\n",
    "ax.set_xlabel('$\\phi$', fontsize=15)\n",
    "h = ax.set_ylabel('$\\\\frac{q}{p_T}$', fontsize=15)\n",
    "h.set_rotation(0)\n",
    "\n",
    "ax.yaxis.set_label_coords(-0.1, 0.50)\n",
    "ax.invert_yaxis()\n",
    "\n",
    "ax.set_xticks(xticks)\n",
    "ax.set_xticklabels(xtick_labels, rotation=0)\n",
    "\n",
    "ax.set_yticks(yticks)\n",
    "ax.set_yticklabels(ytick_labels, rotation=0)\n",
    "\n",
    "ax.set_title('Heatmap of the number of tracks that go through a bin.')\n",
    "\n",
    "plt.show()"
   ]
  },
  {
   "cell_type": "markdown",
   "id": "f9e54387",
   "metadata": {},
   "source": [
    "Let's cross check that the emittance angle $\\phi_0$ falls in the right bin."
   ]
  },
  {
   "cell_type": "code",
   "execution_count": 40,
   "id": "ffef4529",
   "metadata": {
    "scrolled": true
   },
   "outputs": [
    {
     "name": "stdout",
     "output_type": "stream",
     "text": [
      "Estimated phi:\t1.016\n",
      "Truth phi:\t1.016\n"
     ]
    }
   ],
   "source": [
    "phi_est = list(est_tracks_to_hits.keys())[0][0]\n",
    "phi_truth = np.arctan2(initial_df['py'], initial_df['px']).item()\n",
    "print(f'Estimated phi:\\t{phi_est:.3f}\\nTruth phi:\\t{phi_truth:.3f}')"
   ]
  },
  {
   "cell_type": "markdown",
   "id": "db13089e",
   "metadata": {},
   "source": [
    "## Now let's try to detect the helical trajectory (for the x-y plane) in a multi-particle file"
   ]
  },
  {
   "cell_type": "code",
   "execution_count": null,
   "id": "93b44fda",
   "metadata": {},
   "outputs": [],
   "source": [
    "root_dir = os.path.join('..', '..', '..', 'data', 'pdg13-n25-0.5to10GeV-0.5eta')\n",
    "\n",
    "hit_files = sorted([file for file in os.listdir(root_dir) if file.endswith(\"-hits.csv\")])\n",
    "final_files = sorted([file for file in os.listdir(root_dir) if file.endswith(\"-particles_final.csv\")])\n",
    "\n",
    "dfs = [pd.read_csv(os.path.join(root_dir, file), dtype={'particle_id':str, 'geometry_id': str})\n",
    "       for file in hit_files]\n",
    "initial_dfs = [pd.read_csv(os.path.join(root_dir, file), dtype={'particle_id':str, 'geometry_id': str})\n",
    "               for file in initial_files]\n",
    "final_dfs = [pd.read_csv(os.path.join(root_dir, file), dtype={'particle_id':str, 'geometry_id': str})\n",
    "             for file in final_files]"
   ]
  },
  {
   "cell_type": "code",
   "execution_count": null,
   "id": "619685bb",
   "metadata": {},
   "outputs": [],
   "source": [
    "random.seed(2021)\n",
    "random_event = random.choice(range(0, len(dfs)))\n",
    "print(f'Event chosen: {hit_files[random_event]}')\n",
    "df = dfs[random_event]\n",
    "initial_df = initial_dfs[random_event]\n",
    "final_df = final_dfs[random_event]\n",
    "df['weight'] = 1.0\n",
    "df['r'] = np.sqrt(np.square(df['tx']) + np.square(df['ty']))\n",
    "df['phi'] = np.arctan2(df['ty'], df['tx'])\n",
    "df['track'] = df[['r','phi']].apply(lambda pair: (pair[0], pair[1]), 1)\n",
    "df.head()"
   ]
  },
  {
   "cell_type": "code",
   "execution_count": null,
   "id": "b8e7ed02",
   "metadata": {},
   "outputs": [],
   "source": [
    "plt.figure(figsize=(12, 6), dpi=80)\n",
    "plt.scatter(x=df['tx'], y=df['ty'], label=hit_files[random_event])\n",
    "\n",
    "plt.xlabel('tx')\n",
    "plt.ylabel('ty')\n",
    "plt.legend(loc='best')\n",
    "plt.title('Single particle trajectory in the x-y plane')\n",
    "plt.show()"
   ]
  },
  {
   "cell_type": "code",
   "execution_count": null,
   "id": "11bd637c",
   "metadata": {},
   "outputs": [],
   "source": [
    "all_tracks = list(df['track'])"
   ]
  },
  {
   "cell_type": "markdown",
   "id": "0482aa6d",
   "metadata": {},
   "source": [
    "Let's define here the bin size and the range of search in the x-axis ($\\phi_0$)."
   ]
  },
  {
   "cell_type": "code",
   "execution_count": null,
   "id": "0eb37e30",
   "metadata": {},
   "outputs": [],
   "source": [
    "bin_size = (0.005, 0.05)\n",
    "width_limits = (0, np.pi)\n",
    "x_range = np.arange(width_limits[0], width_limits[1], bin_size[0])"
   ]
  },
  {
   "cell_type": "markdown",
   "id": "4c57c811",
   "metadata": {},
   "source": [
    "Let's plot the tracks in the Hough Space."
   ]
  },
  {
   "cell_type": "code",
   "execution_count": null,
   "id": "bdb55205",
   "metadata": {},
   "outputs": [],
   "source": [
    "min_y, max_y = float('inf'), float('-inf')\n",
    "\n",
    "plt.figure(figsize=(16, 11), dpi=80)\n",
    "for idx, track in enumerate(all_tracks):\n",
    "    r, phi = track\n",
    "    label = '$\\sin$($x$ - ' + '{:.3f}'.format(phi) + ') / ($3*10^{-4}$' + '{:.3f}'.format(r) + ')'\n",
    "    ys = np.sin(x_range - phi) / (A * r) if use_sin else (x_range - phi) / (A * r)\n",
    "    min_y = min(np.min(ys), min_y)\n",
    "    max_y = max(np.max(ys), max_y)\n",
    "    plt.plot(x_range, ys, color=colors[idx % len(colors)])\n",
    "\n",
    "plt.xlabel('$\\phi_0$', fontsize=15)\n",
    "h = plt.ylabel('$\\\\frac{q}{p_T}$', fontsize=15)\n",
    "h.set_rotation(0)\n",
    "plt.title('Hough Space')\n",
    "plt.show()"
   ]
  },
  {
   "cell_type": "markdown",
   "id": "0b51d19c",
   "metadata": {},
   "source": [
    "Let's run the pipeline and plot the results."
   ]
  },
  {
   "cell_type": "code",
   "execution_count": null,
   "id": "06252e7d",
   "metadata": {},
   "outputs": [],
   "source": [
    "from notebook_utils import pipeline\n",
    "\n",
    "height_limits = (min_y - 1, max_y + 1)\n",
    "limits = (width_limits, height_limits)\n",
    "selection_hyperparams = {'minimum-hits-per-bin': 10}\n",
    "\n",
    "accumulator, est_tracks_to_hits = pipeline(all_tracks, bin_size, limits, selection_hyperparams, use_sin=use_sin)\n",
    "len(est_tracks_to_hits)"
   ]
  },
  {
   "cell_type": "code",
   "execution_count": null,
   "id": "aba62f4c",
   "metadata": {},
   "outputs": [],
   "source": [
    "lower_qpt = -8\n",
    "upper_qpt = 6\n",
    "\n",
    "low_qpt_bin = int((lower_qpt - height_limits[0] - 1e-12) / bin_size[1])\n",
    "high_qpt_bin = int((upper_qpt - height_limits[0] - 1e-12) / bin_size[1])\n",
    "\n",
    "roi_accumulator = accumulator[:, low_qpt_bin:high_qpt_bin]\n",
    "\n",
    "low_qpt_bin, high_qpt_bin"
   ]
  },
  {
   "cell_type": "code",
   "execution_count": null,
   "id": "f0823747",
   "metadata": {},
   "outputs": [],
   "source": [
    "# size\n",
    "plt.figure(figsize=(18, 8), dpi=80)\n",
    "\n",
    "# x-axis ticks-labels\n",
    "plt.locator_params(axis='x', nbins=17)\n",
    "xticks = np.linspace(0, roi_accumulator.shape[0], 17)\n",
    "x_range = np.linspace(width_limits[0], width_limits[1], xticks.shape[0])\n",
    "xtick_labels = ['{:.2f}'.format(tick) for tick in x_range]\n",
    "\n",
    "# y-axis ticks-labels\n",
    "plt.locator_params(axis='y', nbins=15)\n",
    "yticks = np.linspace(0, roi_accumulator.shape[1], 15)\n",
    "y_range = np.linspace(lower_qpt, upper_qpt, yticks.shape[0])\n",
    "ytick_labels = ['{:.2f}'.format(tick) for tick in y_range]\n",
    "\n",
    "# heatmap\n",
    "ax = sns.heatmap(roi_accumulator.T)\n",
    "\n",
    "# config\n",
    "ax.set_xlabel('$\\phi$', fontsize=15)\n",
    "h = ax.set_ylabel('$\\\\frac{q}{p_T}$', fontsize=15)\n",
    "h.set_rotation(0)\n",
    "\n",
    "ax.yaxis.set_label_coords(-0.1, 0.50)\n",
    "ax.invert_yaxis()\n",
    "\n",
    "ax.set_xticks(xticks)\n",
    "ax.set_xticklabels(xtick_labels, rotation=0)\n",
    "\n",
    "ax.set_yticks(yticks)\n",
    "ax.set_yticklabels(ytick_labels, rotation=0)\n",
    "\n",
    "ax.set_title('Heatmap of the number of tracks that go through a bin.')\n",
    "\n",
    "plt.show()"
   ]
  },
  {
   "cell_type": "markdown",
   "id": "8595b106",
   "metadata": {},
   "source": [
    "## Now let's calculate the efficiency for different $p_T$ values"
   ]
  },
  {
   "cell_type": "markdown",
   "id": "6a5f9076",
   "metadata": {},
   "source": [
    "First we need to define a custom efficiency function that will return the reconstructed particles along with the actual efficiency rate."
   ]
  },
  {
   "cell_type": "code",
   "execution_count": null,
   "id": "aaf05c84",
   "metadata": {},
   "outputs": [],
   "source": [
    "from metrics import get_track_to_truth_row_mapping, matching_probability\n",
    "\n",
    "def custom_efficiency_rate(hits_per_estimated_track, truth_df, threshold=0.5):\n",
    "    \"\"\" Custom efficiency rate function. The difference is that it also returns the reconstructed particles. \"\"\"\n",
    "    num_true_particles = len(set(truth_df['particle_id']))\n",
    "    track_to_truth_df_row = get_track_to_truth_row_mapping(truth_df)\n",
    "    found_particles = set()\n",
    "    for hits in hits_per_estimated_track:\n",
    "        pid, prob = matching_probability(hits, track_to_truth_df_row, truth_df)\n",
    "        if prob >= threshold:\n",
    "            found_particles.add(pid)\n",
    "        if len(found_particles) == num_true_particles:\n",
    "            break\n",
    "\n",
    "    return found_particles, len(found_particles) / len(set(truth_df['particle_id']))"
   ]
  },
  {
   "cell_type": "markdown",
   "id": "d12f4e8a",
   "metadata": {},
   "source": [
    "Let's now find the min-maz values of $p_T$ and then define the range of search for it."
   ]
  },
  {
   "cell_type": "code",
   "execution_count": null,
   "id": "a0cd0aeb",
   "metadata": {},
   "outputs": [],
   "source": [
    "initial_df['pt'] = np.sqrt(initial_df['px'] ** 2 + initial_df['py'] ** 2)\n",
    "pt_min, pt_max = min(set(initial_df['pt'])), max(set(initial_df['pt']))\n",
    "print(f'Min p_T = {pt_min},\\tMax p_T = {pt_max}')"
   ]
  },
  {
   "cell_type": "code",
   "execution_count": null,
   "id": "6c196cbd",
   "metadata": {},
   "outputs": [],
   "source": [
    "from notebook_utils import get_str\n",
    "\n",
    "number_of_bins = 10\n",
    "bin_length = (pt_max - pt_min) / number_of_bins\n",
    "\n",
    "pts_range = np.arange(pt_min, pt_max + 1e-8, bin_length)\n",
    "# pt_keys = ['0.49 – 1.42', '1.43 – 2.35', ...]\n",
    "pt_keys = ['{} – {}'.format(get_str(pts_range[i]), get_str(pts_range[i+1]))\n",
    "           for i in range(0, len(pts_range) - 1)]\n",
    "\n",
    "pt_range_counts = {pt_range: 0 for pt_range in pt_keys}\n",
    "for pt in list(initial_df['pt']):\n",
    "    _bin = int((pt - pt_min - 1e-12) / bin_length)\n",
    "    pt_range_counts[pt_keys[_bin]] += 1\n",
    "count_max = max(pt_range_counts.values())\n",
    "pt_range_counts"
   ]
  },
  {
   "cell_type": "markdown",
   "id": "eb8e7e90",
   "metadata": {},
   "source": [
    "### Let's now define the common hyperparameters and compute the transformations (with/without $\\sin()$) to compare the plots."
   ]
  },
  {
   "cell_type": "code",
   "execution_count": null,
   "id": "4d1ec6a9",
   "metadata": {},
   "outputs": [],
   "source": [
    "all_tracks = list(df['track'])\n",
    "bin_size = (0.005, 0.05)\n",
    "width_limits = (0, np.pi)\n",
    "height_limits = (-500, 1000)\n",
    "limits = (width_limits, height_limits)"
   ]
  },
  {
   "cell_type": "code",
   "execution_count": null,
   "id": "07e1c20b",
   "metadata": {},
   "outputs": [],
   "source": [
    "# get estimated tracks and reco particles for sin() transofrmation\n",
    "_, est_tracks_to_hits = pipeline(all_tracks, bin_size, limits, {'minimum-hits-per-bin': 10}, use_sin=True)\n",
    "pids_found, _ = custom_efficiency_rate(est_tracks_to_hits.values(), df)\n",
    "# compute the counts\n",
    "sin_est_pt_range_counts = {pt_range: 0 for pt_range in pt_keys}\n",
    "for pid in pids_found:\n",
    "    pt = initial_df[initial_df['particle_id'] == pid]['pt'].item()\n",
    "    _bin = int((pt - pt_min - 1e-12) / bin_length)\n",
    "    sin_est_pt_range_counts[pt_keys[_bin]] += 1\n",
    "    \n",
    "# get estimated tracks and reco particles without sin() transofrmation\n",
    "_, est_tracks_to_hits = pipeline(all_tracks, bin_size, limits, {'minimum-hits-per-bin': 10}, use_sin=False)\n",
    "pids_found, _ = custom_efficiency_rate(est_tracks_to_hits.values(), df)\n",
    "# compute the counts\n",
    "no_sin_est_pt_range_counts = {pt_range: 0 for pt_range in pt_keys}\n",
    "for pid in pids_found:\n",
    "    pt = initial_df[initial_df['particle_id'] == pid]['pt'].item()\n",
    "    _bin = int((pt - pt_min - 1e-12) / bin_length)\n",
    "    no_sin_est_pt_range_counts[pt_keys[_bin]] += 1\n",
    "\n",
    "    \n",
    "# plot the results\n",
    "fig, ax = plt.subplots(figsize=(18, 8))\n",
    "\n",
    "xticks_r = np.arange(0, len(pt_range_counts.keys()))\n",
    "bar_width = 0.2\n",
    "\n",
    "ax.bar(xticks_r - bar_width, list(pt_range_counts.values()), color='navy', label='Truth',\n",
    "       width=bar_width)\n",
    "ax.bar(xticks_r, list(sin_est_pt_range_counts.values()), color='forestgreen',\n",
    "       label='Precise Transformation', width=bar_width)\n",
    "ax.bar(xticks_r + bar_width, list(no_sin_est_pt_range_counts.values()), color='crimson',\n",
    "       label='Approximated Transformation', width=bar_width)\n",
    "\n",
    "ax.set_xlabel('$p_T$ range')\n",
    "ax.set_xticks(xticks_r)\n",
    "ax.set_xticklabels(list(pt_range_counts.keys()))\n",
    "ax.set_ylabel('Count')\n",
    "ax.set_yticks(np.arange(0, count_max + 1))\n",
    "ax.set_title('Count vs number of particles found per $p_T$')\n",
    "ax.legend()\n",
    "\n",
    "plt.show()"
   ]
  },
  {
   "cell_type": "markdown",
   "id": "6dea3cd7",
   "metadata": {},
   "source": [
    "The results, are as expected: slightly better for the precise transformation. Though, we have the problem of not enough data to say that these results generalize. We will do this again, this time for the whole dataset (and also for $\\eta$)."
   ]
  },
  {
   "cell_type": "code",
   "execution_count": null,
   "id": "fd654ae8",
   "metadata": {},
   "outputs": [],
   "source": [
    "pts = []\n",
    "etas = []\n",
    "\n",
    "for df, initial_df in zip(dfs, initial_dfs):\n",
    "    \n",
    "    df['weight'] = 1.0\n",
    "    df['r'] = np.sqrt(np.square(df['tx']) + np.square(df['ty']))\n",
    "    df['phi'] = np.arctan2(df['ty'], df['tx'])\n",
    "    df['track'] = df[['r', 'phi']].apply(lambda pair: (pair[0], pair[1]), 1)\n",
    "\n",
    "    initial_df['pt'] = np.sqrt(initial_df['px'] ** 2 + initial_df['py'] ** 2)\n",
    "    initial_df['|p|'] = np.sqrt(initial_df['px'] ** 2 + initial_df['py'] ** 2 + initial_df['pz'] ** 2)\n",
    "    initial_df['theta'] = np.arccos(initial_df['pz'] / initial_df['|p|'])\n",
    "    initial_df['eta'] = -np.log(np.tan(initial_df['theta'] / 2))\n",
    "    \n",
    "    for pt, eta in zip(initial_df['pt'], initial_df['eta']):\n",
    "        pts.append(pt)\n",
    "        etas.append(eta)\n",
    "\n",
    "pts = list(set(pts))\n",
    "etas = list(set(etas))\n",
    "\n",
    "pt_min = min(pts)\n",
    "pt_max = max(pts)\n",
    "print(f'Min p_T = {pt_min},\\tMax p_T = {pt_max}')\n",
    "\n",
    "eta_min = min(etas)\n",
    "eta_max = max(etas)\n",
    "print(f'Min eta = {eta_min},\\tMax eta = {eta_max}')"
   ]
  },
  {
   "cell_type": "markdown",
   "id": "e0e69d36",
   "metadata": {},
   "source": [
    "Define the ranges of search and the dictionaries that will store the counts for each group."
   ]
  },
  {
   "cell_type": "code",
   "execution_count": null,
   "id": "7782e93d",
   "metadata": {},
   "outputs": [],
   "source": [
    "pt_number_of_bins = 10\n",
    "pt_bin_length = (pt_max - pt_min) / pt_number_of_bins\n",
    "\n",
    "eta_number_of_bins = 10\n",
    "eta_bin_length = (eta_max - eta_min) / eta_number_of_bins\n",
    "\n",
    "pts_range = np.arange(pt_min, pt_max + 1e-8, pt_bin_length)\n",
    "pt_keys = ['{} – {}'.format(get_str(pts_range[i]), get_str(pts_range[i+1]))\n",
    "           for i in range(0, len(pts_range) - 1)]\n",
    "\n",
    "etas_range = np.arange(eta_min, eta_max + 1e-8, eta_bin_length)\n",
    "eta_keys = ['{} – {}'.format(get_str(etas_range[i]), get_str(etas_range[i+1]))\n",
    "            for i in range(0, len(etas_range) - 1)]"
   ]
  },
  {
   "cell_type": "code",
   "execution_count": null,
   "id": "1945103b",
   "metadata": {},
   "outputs": [],
   "source": [
    "# count particles found\n",
    "pt_counts = {pt_range: 0 for pt_range in pt_keys}\n",
    "eta_counts = {eta_range: 0 for eta_range in eta_keys}\n",
    "\n",
    "precise_pt_counts = {pt_range: 0 for pt_range in pt_keys}\n",
    "precise_eta_counts = {eta_range: 0 for eta_range in eta_keys}\n",
    "\n",
    "approx_pt_counts = {pt_range: 0 for pt_range in pt_keys}\n",
    "approx_eta_counts = {eta_range: 0 for eta_range in eta_keys}"
   ]
  },
  {
   "cell_type": "markdown",
   "id": "78990191",
   "metadata": {},
   "source": [
    "Let's define the hyperparameters."
   ]
  },
  {
   "cell_type": "code",
   "execution_count": null,
   "id": "b7aee88e",
   "metadata": {},
   "outputs": [],
   "source": [
    "bin_size = (0.005, 0.05)\n",
    "width_limits = (0, np.pi)\n",
    "height_limits = (-500, 1000)\n",
    "limits = (width_limits, height_limits)\n",
    "hyperparams = {'minimum-hits-per-bin': 10}"
   ]
  },
  {
   "cell_type": "markdown",
   "id": "1e936636",
   "metadata": {},
   "source": [
    "Apply Hough transformation for every event (essentially the whole dataset) and keep track of the results."
   ]
  },
  {
   "cell_type": "code",
   "execution_count": null,
   "id": "8774069c",
   "metadata": {},
   "outputs": [],
   "source": [
    "desc = 'Applying Hough Transform to whole Dataset'\n",
    "for df, initial_df in tqdm(zip(dfs, initial_dfs), total=len(dfs), desc=desc):\n",
    "\n",
    "    # let's compute the ground truth counts\n",
    "    for pt, eta in zip(list(initial_df['pt']), list(initial_df['eta'])):\n",
    "\n",
    "        pt_bin = int((pt - pt_min - 1e-12) / pt_bin_length)\n",
    "        eta_bin = int((eta - eta_min - 1e-12) / eta_bin_length)\n",
    "\n",
    "        pt_counts[pt_keys[pt_bin]] += 1\n",
    "        eta_counts[eta_keys[eta_bin]] += 1\n",
    "\n",
    "    # get all the tracks\n",
    "    all_tracks = list(df['track'])\n",
    "\n",
    "    # get estimated tracks and reco particles for the precise transformation\n",
    "    _, est_tracks_to_hits = pipeline(all_tracks, bin_size, limits, hyperparams, use_sin=True)\n",
    "    pids_found, _ = custom_efficiency_rate(est_tracks_to_hits.values(), df)\n",
    "\n",
    "    # compute the counts\n",
    "    for pid in pids_found:\n",
    "        pt = initial_df[initial_df['particle_id'] == pid]['pt'].item()\n",
    "        eta = initial_df[initial_df['particle_id'] == pid]['eta'].item()\n",
    "\n",
    "        pt_bin = int((pt - pt_min - 1e-12) / pt_bin_length)\n",
    "        eta_bin = int((eta - eta_min - 1e-12) / eta_bin_length)\n",
    "\n",
    "        precise_pt_counts[pt_keys[pt_bin]] += 1\n",
    "        precise_eta_counts[eta_keys[eta_bin]] += 1\n",
    "\n",
    "    # get estimated tracks and reco particles for the approximated transofrmation\n",
    "    _, est_tracks_to_hits = pipeline(all_tracks, bin_size, limits, hyperparams, use_sin=False)\n",
    "    pids_found, _ = custom_efficiency_rate(est_tracks_to_hits.values(), df)\n",
    "\n",
    "    # compute the counts\n",
    "    for pid in pids_found:\n",
    "        pt = initial_df[initial_df['particle_id'] == pid]['pt'].item()\n",
    "        eta = initial_df[initial_df['particle_id'] == pid]['eta'].item()\n",
    "\n",
    "        pt_bin = int((pt - pt_min - 1e-12) / pt_bin_length)\n",
    "        eta_bin = int((eta - eta_min - 1e-12) / eta_bin_length)\n",
    "\n",
    "        approx_pt_counts[pt_keys[pt_bin]] += 1\n",
    "        approx_eta_counts[eta_keys[eta_bin]] += 1"
   ]
  },
  {
   "cell_type": "markdown",
   "id": "5ea318e0",
   "metadata": {},
   "source": [
    "Now let's do the plots."
   ]
  },
  {
   "cell_type": "code",
   "execution_count": null,
   "id": "9ef6af47",
   "metadata": {},
   "outputs": [],
   "source": [
    "# plot count vs p_T\n",
    "fig, ax = plt.subplots(figsize=(18, 8))\n",
    "\n",
    "xticks_r = np.arange(0, len(pt_counts.keys()))\n",
    "count_max = max(pt_counts.values())\n",
    "bar_width = 0.2\n",
    "\n",
    "ax.bar(xticks_r - bar_width, list(pt_counts.values()), color='navy', label='Truth',\n",
    "       width=bar_width)\n",
    "ax.bar(xticks_r, list(precise_pt_counts.values()), color='forestgreen',\n",
    "       label='Precise Transformation', width=bar_width)\n",
    "ax.bar(xticks_r + bar_width, list(approx_pt_counts.values()), color='crimson',\n",
    "       label='Approximated Transformation', width=bar_width)\n",
    "\n",
    "ax.set_xlabel('$p_T$ range')\n",
    "ax.set_xticks(xticks_r)\n",
    "ax.set_xticklabels(list(pt_counts.keys()))\n",
    "ax.set_ylabel('Count')\n",
    "ax.set_yticks(np.arange(0, count_max + 1, 10))\n",
    "ax.set_title('Count vs number of particles found per $p_T$')\n",
    "ax.legend()\n",
    "\n",
    "plt.show()"
   ]
  },
  {
   "cell_type": "code",
   "execution_count": null,
   "id": "f65dc44d",
   "metadata": {},
   "outputs": [],
   "source": [
    "# plot count vs eta\n",
    "fig, ax = plt.subplots(figsize=(18, 8))\n",
    "\n",
    "xticks_r = np.arange(0, len(eta_counts.keys()))\n",
    "count_max = max(eta_counts.values())\n",
    "bar_width = 0.2\n",
    "\n",
    "ax.bar(xticks_r - bar_width, list(eta_counts.values()), color='navy', label='Truth',\n",
    "       width=bar_width)\n",
    "ax.bar(xticks_r, list(precise_eta_counts.values()), color='forestgreen',\n",
    "       label='Precise Transformation', width=bar_width)\n",
    "ax.bar(xticks_r + bar_width, list(approx_eta_counts.values()), color='crimson',\n",
    "       label='Approximated Transformation', width=bar_width)\n",
    "\n",
    "ax.set_xlabel('$\\eta$ range')\n",
    "ax.set_xticks(xticks_r)\n",
    "ax.set_xticklabels(list(eta_counts.keys()))\n",
    "ax.set_ylabel('Count')\n",
    "ax.set_yticks(np.arange(0, count_max + 1, 10))\n",
    "ax.set_title('Count vs number of particles found per $\\eta$')\n",
    "ax.legend()\n",
    "\n",
    "plt.show()"
   ]
  },
  {
   "cell_type": "markdown",
   "id": "46d435e4",
   "metadata": {},
   "source": [
    "Let's plot now the efficiencies."
   ]
  },
  {
   "cell_type": "code",
   "execution_count": null,
   "id": "83c960b0",
   "metadata": {},
   "outputs": [],
   "source": [
    "pt_precise_eff = {pt_range: precise_pt_counts[pt_range] / pt_counts[pt_range] for pt_range in pt_keys}\n",
    "pt_approx_eff = {pt_range: approx_pt_counts[pt_range] / pt_counts[pt_range] for pt_range in pt_keys}\n",
    "\n",
    "eta_precise_eff = {eta_range: precise_eta_counts[eta_range] / eta_counts[eta_range] for eta_range in eta_keys}\n",
    "eta_approx_eff = {eta_range: approx_eta_counts[eta_range] / eta_counts[eta_range] for eta_range in eta_keys}"
   ]
  },
  {
   "cell_type": "code",
   "execution_count": null,
   "id": "aae135f1",
   "metadata": {},
   "outputs": [],
   "source": [
    "plt.figure(figsize=(15, 8), dpi=80)\n",
    "\n",
    "plt.plot(list(pt_precise_eff.keys()), list(pt_precise_eff.values()), color='blue', label='Precise Transformation')\n",
    "plt.plot(list(pt_approx_eff.keys()), list(pt_approx_eff.values()), color='green', label='Approximated Transformation')\n",
    "\n",
    "plt.xlabel('\\n$p_T$ range')\n",
    "plt.ylabel('Efficiency\\n')\n",
    "plt.yticks(np.arange(0, 1.01, step=0.1))\n",
    "\n",
    "plt.title('Hough-Transform-with-Binning Efficiency per $p_T$ range')\n",
    "plt.legend()\n",
    "plt.show()"
   ]
  },
  {
   "cell_type": "code",
   "execution_count": null,
   "id": "5ef09a35",
   "metadata": {},
   "outputs": [],
   "source": [
    "plt.figure(figsize=(15, 8), dpi=80)\n",
    "\n",
    "plt.plot(list(eta_precise_eff.keys()), list(eta_precise_eff.values()), color='blue', label='Precise Transformation')\n",
    "plt.plot(list(eta_approx_eff.keys()), list(eta_approx_eff.values()), color='green', label='Approximated Transformation')\n",
    "\n",
    "plt.xlabel('\\n$\\eta$ range')\n",
    "plt.ylabel('Efficiency\\n')\n",
    "plt.yticks(np.arange(0, 1.01, step=0.1))\n",
    "\n",
    "plt.title('Hough-Transform-with-Binning Efficiency per $\\eta$ range')\n",
    "plt.legend()\n",
    "plt.show()"
   ]
  },
  {
   "cell_type": "markdown",
   "id": "edd55257",
   "metadata": {},
   "source": [
    "## Now let's do this again for all $p_T$ values grouped together in discrete dataframes"
   ]
  },
  {
   "cell_type": "markdown",
   "id": "eb454037",
   "metadata": {},
   "source": [
    "First we need to group together the tracks with similar eta values. Therefore, we have to calculate the $p_T$ values."
   ]
  },
  {
   "cell_type": "code",
   "execution_count": null,
   "id": "7e7c4433",
   "metadata": {},
   "outputs": [],
   "source": [
    "# p_ts = []\n",
    "\n",
    "# for df, initial_df in zip(dfs, initial_dfs):\n",
    "    \n",
    "#     df['weight'] = 1.0\n",
    "#     df['r'] = np.sqrt(np.square(df['tx']) + np.square(df['ty']))\n",
    "#     df['phi'] = np.arctan2(df['ty'], df['tx'])\n",
    "#     df['track'] = df[['r', 'phi']].apply(lambda pair: (pair[0], pair[1]), 1)\n",
    "\n",
    "#     initial_df['pt'] = np.sqrt(initial_df['px'] ** 2 + initial_df['py'] ** 2)\n",
    "    \n",
    "#     for p_t in initial_df['pt']:\n",
    "#         p_ts.append(p_t)\n",
    "\n",
    "# p_ts = list(set(p_ts))\n",
    "\n",
    "# min_p_t = min(p_ts)\n",
    "# max_p_t = max(p_ts)\n",
    "# print(f'Min p_T = {min_p_t},\\tMax p_T = {max_p_t}')"
   ]
  },
  {
   "cell_type": "markdown",
   "id": "8a6825b2",
   "metadata": {},
   "source": [
    "Separate the tracks with similar $p_T$ values in dataframes."
   ]
  },
  {
   "cell_type": "code",
   "execution_count": null,
   "id": "9fb680c0",
   "metadata": {},
   "outputs": [],
   "source": [
    "# from notebook_utils import get_str\n",
    "\n",
    "# number_of_bins = 10\n",
    "# bin_length = (max_p_t - min_p_t) / number_of_bins\n",
    "\n",
    "# p_ts_range = np.arange(min_p_t, max_p_t + 1e-8, bin_length)\n",
    "# p_t_keys = ['{} – {}'.format(get_str(p_ts_range[i]), get_str(p_ts_range[i+1]))\n",
    "#             for i in range(0, len(p_ts_range) - 1)]\n",
    "\n",
    "# df_per_p_t = [pd.DataFrame(columns=dfs[0].columns) for _ in range(number_of_bins)]\n",
    "# tracks_per_bin = np.zeros(number_of_bins)\n",
    "\n",
    "# # iterate through all the dataframes and start placing each particle track in the corresponding p_T dataframe\n",
    "# for idx, (df, initial_df) in enumerate(zip(dfs, initial_dfs)):\n",
    "#     _df = df.copy()\n",
    "#     unique_particles = set(_df['particle_id'])\n",
    "#     _df['particle_id'] = _df['particle_id'] + '_{}'.format(idx)\n",
    "\n",
    "#     for pid in unique_particles:\n",
    "#         particle_df = _df[_df['particle_id'] == pid + '_{}'.format(idx)]\n",
    "#         p_t = initial_df.loc[initial_df['particle_id'] == pid, 'pt'].item()\n",
    "#         _bin = int((p_t - min_p_t - 1e-12) / bin_length)\n",
    "\n",
    "#         df_per_p_t[_bin] = pd.concat([df_per_p_t[_bin], particle_df], sort=False)\n",
    "#         tracks_per_bin[_bin] += 1\n",
    "\n",
    "# # reset the indices\n",
    "# for _bin in range(number_of_bins):\n",
    "#     df_per_p_t[_bin] = df_per_p_t[_bin].reset_index().drop(['level_0'], axis=1)"
   ]
  },
  {
   "cell_type": "markdown",
   "id": "2ca1009d",
   "metadata": {},
   "source": [
    "### Let's now define the common hyperparameters and compute the transformations (with/without $\\sin()$) to compare the plots."
   ]
  },
  {
   "cell_type": "code",
   "execution_count": null,
   "id": "8f5388dc",
   "metadata": {},
   "outputs": [],
   "source": [
    "# bin_size = (0.0085, 0.1)\n",
    "# width_limits = (0, np.pi)\n",
    "# height_limits = (-500, 1000)\n",
    "# limits = (width_limits, height_limits)"
   ]
  },
  {
   "cell_type": "code",
   "execution_count": null,
   "id": "5ef12322",
   "metadata": {},
   "outputs": [],
   "source": [
    "# # compute the actual count of unique particles per bin\n",
    "# count_pids_per_p_t = {}\n",
    "# for _bin in range(number_of_bins):\n",
    "#     df = df_per_p_t[_bin]\n",
    "#     count_pids_per_p_t[p_t_keys[_bin]] = len(set(df['particle_id']))\n",
    "# count_max = max(count_pids_per_p_t.values())\n",
    "\n",
    "\n",
    "# # compute efficiency for all the precise transformation over all the dataset\n",
    "# sin_eff_per_p_t = {}\n",
    "# sin_pids_found_pet_p_t = {}\n",
    "# for _bin in range(number_of_bins):\n",
    "#     start_time = time.time()\n",
    "    \n",
    "#     df = df_per_p_t[_bin]\n",
    "#     all_tracks = list(df['track'])\n",
    "#     _, est_tracks_to_hits = pipeline(all_tracks, bin_size, limits, {'minimum-hits-per-bin': 12}, use_sin=True)\n",
    "    \n",
    "#     pids_found, eff = custom_efficiency_rate(est_tracks_to_hits.values(), df)\n",
    "#     sin_pids_found_pet_p_t[p_t_keys[_bin]] = len(pids_found)\n",
    "#     sin_eff_per_p_t[p_t_keys[_bin]] = eff\n",
    "    \n",
    "#     et = time.time() - start_time\n",
    "#     print(f'Finished bin {_bin} after {et:.2f} seconds,  with efficiency: {sin_eff_per_p_t[p_t_keys[_bin]]}!')\n",
    "# print()\n",
    "    \n",
    "    \n",
    "# # compute efficiency for all the approximated transformation over all the dataset\n",
    "# line_eff_per_p_t = {}\n",
    "# line_pids_found_pet_p_t = {}\n",
    "# for _bin in range(number_of_bins):\n",
    "#     start_time = time.time()\n",
    "\n",
    "#     df = df_per_p_t[_bin]\n",
    "#     all_tracks = list(df['track'])\n",
    "#     _, est_tracks_to_hits = pipeline(all_tracks, bin_size, limits, {'minimum-hits-per-bin': 12}, use_sin=False)\n",
    "\n",
    "#     pids_found, eff = custom_efficiency_rate(est_tracks_to_hits.values(), df)\n",
    "#     line_pids_found_pet_p_t[p_t_keys[_bin]] = len(pids_found)\n",
    "#     line_eff_per_p_t[p_t_keys[_bin]] = eff\n",
    "\n",
    "#     et = time.time() - start_time\n",
    "#     print(f'Finished bin {_bin} after {et:.2f} seconds,  with efficiency: {line_eff_per_p_t[p_t_keys[_bin]]}!')"
   ]
  },
  {
   "cell_type": "markdown",
   "id": "3a67d1be",
   "metadata": {},
   "source": [
    "### Let's plot the results"
   ]
  },
  {
   "cell_type": "code",
   "execution_count": null,
   "id": "fee1f98f",
   "metadata": {},
   "outputs": [],
   "source": [
    "# # now plot the counts\n",
    "# fig, (ax1, ax2, ax3) = plt.subplots(3, 1, figsize=(20, 15), dpi=80)\n",
    "# fig.subplots_adjust(bottom = -0.45)\n",
    "\n",
    "# # Number of generated particles vs generated $p_T$\n",
    "# ax1.bar(list(count_pids_per_p_t.keys()), list(count_pids_per_p_t.values()), color='deepskyblue')\n",
    "# ax1.set_xlabel('$p_T$ range')\n",
    "# ax1.set_ylabel('Count\\n')\n",
    "# ax1.set_yticks(np.arange(0, count_max + 1, 10))\n",
    "# ax1.set_title('Number of generated particles vs generated $p_T$')\n",
    "\n",
    "# # Number of generated found particles vs generated p_T for the precise transformation\n",
    "# ax2.bar(list(sin_pids_found_pet_p_t.keys()), list(sin_pids_found_pet_p_t.values()), color='deepskyblue')\n",
    "# ax2.set_xlabel('$p_T$ range')\n",
    "# ax2.set_ylabel('Count\\n')\n",
    "# ax2.set_yticks(np.arange(0, count_max + 1, 10))\n",
    "# ax2.set_title('Number of generated found particles vs generated $p_T$ for the precise transformation')\n",
    "\n",
    "# # Number of generated found particles vs generated p_T for the approximated transformation\n",
    "# ax3.bar(list(line_pids_found_pet_p_t.keys()), list(line_pids_found_pet_p_t.values()), color='deepskyblue')\n",
    "# ax3.set_xlabel('$p_T$ range')\n",
    "# ax3.set_ylabel('Count\\n')\n",
    "# ax3.set_yticks(np.arange(0, count_max + 1, 10))\n",
    "# ax3.set_title('Number of generated found particles vs generated $p_T$ for the approximated transformation')\n",
    "\n",
    "# plt.show()"
   ]
  },
  {
   "cell_type": "markdown",
   "id": "5c1610e7",
   "metadata": {},
   "source": [
    "Now let's also plot the efficiencies."
   ]
  },
  {
   "cell_type": "code",
   "execution_count": null,
   "id": "f3b8e708",
   "metadata": {},
   "outputs": [],
   "source": [
    "# plt.figure(figsize=(15, 8), dpi=80)\n",
    "\n",
    "# plt.plot(list(sin_eff_per_p_t.keys()), list(sin_eff_per_p_t.values()), color='blue', label='Precise Transformation')\n",
    "# plt.plot(list(line_eff_per_p_t.keys()), list(line_eff_per_p_t.values()), color='green', label='Approximated Transformation')\n",
    "\n",
    "# plt.xlabel('\\n$p_T$ range')\n",
    "# plt.ylabel('Efficiency\\n')\n",
    "# plt.yticks(np.arange(0, 1.01, step=0.1))\n",
    "\n",
    "# plt.title('Hough-Transform-with-Binning Efficiency per $p_T$ range')\n",
    "# plt.legend()\n",
    "# plt.show()"
   ]
  },
  {
   "cell_type": "code",
   "execution_count": null,
   "id": "86d23b1a",
   "metadata": {},
   "outputs": [],
   "source": []
  }
 ],
 "metadata": {
  "kernelspec": {
   "display_name": "Python 3",
   "language": "python",
   "name": "python3"
  },
  "language_info": {
   "codemirror_mode": {
    "name": "ipython",
    "version": 3
   },
   "file_extension": ".py",
   "mimetype": "text/x-python",
   "name": "python",
   "nbconvert_exporter": "python",
   "pygments_lexer": "ipython3",
   "version": "3.6.10"
  }
 },
 "nbformat": 4,
 "nbformat_minor": 5
}
