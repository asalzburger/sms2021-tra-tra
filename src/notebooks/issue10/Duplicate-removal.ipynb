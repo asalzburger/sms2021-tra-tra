{
 "cells": [
  {
   "cell_type": "code",
   "execution_count": 1,
   "id": "82369c3c",
   "metadata": {},
   "outputs": [],
   "source": [
    "import os\n",
    "import random\n",
    "import numpy as np\n",
    "import pandas as pd\n",
    "\n",
    "from tqdm.notebook import tqdm\n",
    "\n",
    "%matplotlib inline"
   ]
  },
  {
   "cell_type": "code",
   "execution_count": 2,
   "id": "1ad9189c",
   "metadata": {},
   "outputs": [],
   "source": [
    "colors = [\n",
    "    'blue', 'green', 'red', 'cyan', 'magenta',\n",
    "    'yellow', 'black', 'orange', 'purple', 'brown',\n",
    "    'pink', 'grey', 'maroon', 'gold', 'chocolate',\n",
    "    'aqua', 'darkviolet', 'crimson', 'navy', 'darkgreen',\n",
    "    'peru', 'tan', 'seagreen', 'darkslategrey', 'teal'\n",
    "]"
   ]
  },
  {
   "cell_type": "code",
   "execution_count": 3,
   "id": "b3005409",
   "metadata": {},
   "outputs": [],
   "source": [
    "# constants\n",
    "A = 3e-4\n",
    "use_precise_transform = False"
   ]
  },
  {
   "cell_type": "markdown",
   "id": "c43bed90",
   "metadata": {},
   "source": [
    "## Let's load the data files"
   ]
  },
  {
   "cell_type": "code",
   "execution_count": 4,
   "id": "24b79508",
   "metadata": {},
   "outputs": [],
   "source": [
    "# define the particle data group which we want to run the algorithms on\n",
    "pdg = 211\n",
    "\n",
    "# get the respective datasets locations\n",
    "data_dir = os.path.join('..', '..', '..', 'data')\n",
    "root_dirs = {\n",
    "    'ideal':\n",
    "        os.path.join(data_dir, 'pdg{}'.format(pdg), 'pdg{}-n25-0.5to10GeV-0.5eta'.format(pdg)),\n",
    "    'mat':\n",
    "        os.path.join(data_dir, 'pdg{}'.format(pdg),\n",
    "                     'pdg{}-n25-0.5to10GeV-0.5eta-with-material-effects'.format(pdg)),\n",
    "    'odd-bfield':\n",
    "        os.path.join(data_dir, 'pdg{}'.format(pdg),\n",
    "                     'pdg{}-n25-0.5to10GeV-0.5eta-non-homogenous-magnetic-field'.format(pdg)),\n",
    "    'mat-odd-bfield':\n",
    "        os.path.join(data_dir, 'pdg{}'.format(pdg),\n",
    "                     'pdg{}-n25-0.5to10GeV-0.5eta-with-material-effects-non-' \\\n",
    "                     'homogenous-magnetic-field'.format(pdg))\n",
    "}\n",
    "\n",
    "\n",
    "# read the hits files and dataset\n",
    "hit_files = {\n",
    "    _type: sorted([file for file in os.listdir(root_dir) if file.endswith(\"-hits.csv\")])\n",
    "    for _type, root_dir in root_dirs.items()\n",
    "}\n",
    "hit_dfs = {\n",
    "    _type: [pd.read_csv(os.path.join(root_dirs[_type], file), dtype={'particle_id':str, 'geometry_id': str})\n",
    "            for file in files]\n",
    "    for _type, files in hit_files.items()\n",
    "}\n",
    "\n",
    "# read the initial files and dataset\n",
    "initial_files = {\n",
    "    _type: sorted([file for file in os.listdir(root_dir) if file.endswith(\"-particles_initial.csv\")])\n",
    "    for _type, root_dir in root_dirs.items()\n",
    "}\n",
    "initial_dfs = {\n",
    "    _type: [pd.read_csv(os.path.join(root_dirs[_type], file), dtype={'particle_id':str, 'geometry_id': str})\n",
    "            for file in files]\n",
    "    for _type, files in initial_files.items()\n",
    "}\n",
    "\n",
    "# read the final files and dataset\n",
    "final_files = {\n",
    "    _type: sorted([file for file in os.listdir(root_dir) if file.endswith(\"-particles_final.csv\")])\n",
    "    for _type, root_dir in root_dirs.items()\n",
    "}\n",
    "final_dfs = {\n",
    "    _type: [pd.read_csv(os.path.join(root_dirs[_type], file), dtype={'particle_id':str, 'geometry_id': str})\n",
    "            for file in files]\n",
    "    for _type, files in final_files.items()\n",
    "}"
   ]
  },
  {
   "cell_type": "markdown",
   "id": "fe7854c1",
   "metadata": {},
   "source": [
    "## Let's pick an event at random from every simulation"
   ]
  },
  {
   "cell_type": "code",
   "execution_count": 5,
   "id": "d5712821",
   "metadata": {},
   "outputs": [
    {
     "name": "stdout",
     "output_type": "stream",
     "text": [
      "Event chosen for the ideal simulation:\t\t\t\t\t\tevent000000074-hits.csv\n",
      "Event chosen for the simulation with material effect:\t\t\t\tevent000000017-hits.csv\n",
      "Event chosen for the simulation with non-homogenous B:\t\t\t\tevent000000045-hits.csv\n",
      "Event chosen for the simulation with material effect and non-homogenous B:\tevent000000003-hits.csv\n"
     ]
    }
   ],
   "source": [
    "num_events = 100\n",
    "random.seed(682021)\n",
    "\n",
    "# pick an event randomly for each case\n",
    "random_event = random.choice(range(0, num_events))\n",
    "ideal_df = hit_dfs['ideal'][random_event]\n",
    "ideal_df['weight'] = 1\n",
    "ideal_df['r'] = np.sqrt(np.square(ideal_df['tx']) + np.square(ideal_df['ty']))\n",
    "ideal_df['phi'] = np.arctan2(ideal_df['ty'], ideal_df['tx'])\n",
    "ideal_df['xy_track'] = ideal_df[['r','phi']].apply(lambda pair: (pair[0], pair[1]), 1)\n",
    "ideal_df['rz_track'] = ideal_df[['r','tz']].apply(lambda pair: (-pair[0], pair[1]), 1)\n",
    "print(f\"Event chosen for the ideal simulation:\\t\\t\\t\\t\\t\\t{hit_files['ideal'][random_event]}\")\n",
    "\n",
    "random_event = random.choice(range(0, num_events))\n",
    "mat_df = hit_dfs['mat'][random_event]\n",
    "mat_df['weight'] = 1\n",
    "mat_df['r'] = np.sqrt(np.square(mat_df['tx']) + np.square(mat_df['ty']))\n",
    "mat_df['phi'] = np.arctan2(mat_df['ty'], mat_df['tx'])\n",
    "mat_df['xy_track'] = mat_df[['r','phi']].apply(lambda pair: (pair[0], pair[1]), 1)\n",
    "mat_df['rz_track'] = mat_df[['r','tz']].apply(lambda pair: (-pair[0], pair[1]), 1)\n",
    "print(f\"Event chosen for the simulation with material effect:\\t\\t\\t\\t{hit_files['mat'][random_event]}\")\n",
    "\n",
    "random_event = random.choice(range(0, num_events))\n",
    "odd_bfield_df = hit_dfs['odd-bfield'][random_event]\n",
    "odd_bfield_df['weight'] = 1\n",
    "odd_bfield_df['r'] = np.sqrt(np.square(odd_bfield_df['tx']) + np.square(odd_bfield_df['ty']))\n",
    "odd_bfield_df['phi'] = np.arctan2(odd_bfield_df['ty'], odd_bfield_df['tx'])\n",
    "odd_bfield_df['xy_track'] = odd_bfield_df[['r','phi']].apply(lambda pair: (pair[0], pair[1]), 1)\n",
    "odd_bfield_df['rz_track'] = odd_bfield_df[['r','tz']].apply(lambda pair: (-pair[0], pair[1]), 1)\n",
    "print(f\"Event chosen for the simulation with non-homogenous B:\\t\\t\\t\\t\"\n",
    "      f\"{hit_files['odd-bfield'][random_event]}\")\n",
    "\n",
    "random_event = random.choice(range(0, num_events))\n",
    "mat_odd_bfield_df = hit_dfs['mat-odd-bfield'][random_event]\n",
    "mat_odd_bfield_df['weight'] = 1\n",
    "mat_odd_bfield_df['r'] = np.sqrt(np.square(mat_odd_bfield_df['tx']) + np.square(mat_odd_bfield_df['ty']))\n",
    "mat_odd_bfield_df['phi'] = np.arctan2(mat_odd_bfield_df['ty'], mat_odd_bfield_df['tx'])\n",
    "mat_odd_bfield_df['xy_track'] = mat_odd_bfield_df[['r','phi']].apply(lambda pair: (pair[0], pair[1]), 1)\n",
    "mat_odd_bfield_df['rz_track'] = mat_odd_bfield_df[['r','tz']].apply(lambda pair: (-pair[0], pair[1]), 1)\n",
    "print(f\"Event chosen for the simulation with material effect and non-homogenous B:\\t\"\n",
    "      f\"{hit_files['mat-odd-bfield'][random_event]}\")"
   ]
  },
  {
   "cell_type": "markdown",
   "id": "ef8210a1",
   "metadata": {},
   "source": [
    "## We will run the Hough Transform on the Ideal dataset and remove the duplicates from it"
   ]
  },
  {
   "cell_type": "code",
   "execution_count": 6,
   "id": "92060d7c",
   "metadata": {},
   "outputs": [],
   "source": [
    "from src.utils.hough_transform import compute_approximate_qpt, hough2d_pipeline\n",
    "from src.utils.metrics import efficiency_rate, fake_rate, duplicate_rate"
   ]
  },
  {
   "cell_type": "code",
   "execution_count": 7,
   "id": "632a1d53",
   "metadata": {},
   "outputs": [],
   "source": [
    "xy_hyperparams = {\n",
    "    'bin-size': (0.003, 0.15),\n",
    "    'xrange': (-np.pi, np.pi),\n",
    "    'yrange': (-1000, 1000),\n",
    "    'minimum-hits-per-bin': 10\n",
    "}\n",
    "\n",
    "rz_hyperparams = {\n",
    "    'bin-size': (0.04, 15),\n",
    "    'xrange': (-1, 1),\n",
    "    'yrange': (-1150, 1150),\n",
    "    'minimum-hits-per-bin': 6\n",
    "}"
   ]
  },
  {
   "cell_type": "code",
   "execution_count": 8,
   "id": "6d29d4bb",
   "metadata": {},
   "outputs": [
    {
     "name": "stdout",
     "output_type": "stream",
     "text": [
      "xy Transform statistics:\n",
      "\n",
      "\tEfficiency rate: 1.00\n",
      "\tFake rate: 0.59\n",
      "\tDuplicate rate: 0.97\n",
      "\n",
      "\tNumber of tracks estimated: 774\n"
     ]
    }
   ],
   "source": [
    "accumulator, xy_est = hough2d_pipeline(list(ideal_df['xy_track']), xy_hyperparams, compute_approximate_qpt)\n",
    "\n",
    "ideal_df['track'] = ideal_df['xy_track']\n",
    "xy_eff = efficiency_rate(xy_est.values(), ideal_df)\n",
    "xy_fake = fake_rate(xy_est.values(), ideal_df)\n",
    "xy_dup = duplicate_rate(xy_est.values(), ideal_df)\n",
    "\n",
    "print('xy Transform statistics:\\n')\n",
    "print(f'\\tEfficiency rate: {xy_eff:.2f}')\n",
    "print(f'\\tFake rate: {xy_fake:.2f}')\n",
    "print(f'\\tDuplicate rate: {xy_dup:.2f}')\n",
    "print()\n",
    "print(f'\\tNumber of tracks estimated: {len(xy_est)}')"
   ]
  },
  {
   "cell_type": "code",
   "execution_count": 9,
   "id": "169b1f78",
   "metadata": {},
   "outputs": [
    {
     "data": {
      "text/plain": "(90, 10)"
     },
     "execution_count": 9,
     "metadata": {},
     "output_type": "execute_result"
    }
   ],
   "source": [
    "from duplicate_removal_utils import get_roi_accumulator, plot_heatmap\n",
    "\n",
    "# roi_x = xy_hyperparams['xrange']\n",
    "# roi_y = xy_hyperparams['yrange']\n",
    "\n",
    "roi_x = (-3.07, -2.8)\n",
    "roi_y = (-1.11, 0.4)\n",
    "\n",
    "rois = (roi_x, roi_y)\n",
    "roi_accumulator_orig = get_roi_accumulator(accumulator, xy_hyperparams, rois)\n",
    "\n",
    "roi_accumulator = roi_accumulator_orig.copy()\n",
    "roi_accumulator.shape"
   ]
  },
  {
   "cell_type": "code",
   "execution_count": 10,
   "id": "30344012",
   "metadata": {},
   "outputs": [
    {
     "data": {
      "text/plain": "<Figure size 1296x720 with 2 Axes>",
      "image/png": "[encoded data removed]"
     },
     "metadata": {
      "needs_background": "light"
     },
     "output_type": "display_data"
    }
   ],
   "source": [
    "indices_below_thresh = roi_accumulator < xy_hyperparams['minimum-hits-per-bin']\n",
    "roi_accumulator[indices_below_thresh] = 0\n",
    "plot_heatmap(roi_accumulator, rois)"
   ]
  },
  {
   "cell_type": "markdown",
   "id": "dea58878",
   "metadata": {},
   "source": [
    "# Baseline solution: Identify peaks in the accumulator and aggregate them"
   ]
  },
  {
   "cell_type": "code",
   "execution_count": 11,
   "id": "3c689a4c",
   "metadata": {},
   "outputs": [
    {
     "name": "stdout",
     "output_type": "stream",
     "text": [
      "xy Transform (Duplicate Removal 1) statistics:\n",
      "\n",
      "\tEfficiency rate: 0.88\n",
      "\tFake rate: 0.10\n",
      "\tDuplicate rate: 0.29\n",
      "\n",
      "\tNumber of tracks estimated: 31\n"
     ]
    }
   ],
   "source": [
    "from duplicate_removal_utils import duplicate_removal_1, get_track_to_geometry_mapping\n",
    "\n",
    "threshold_x = 2500 * xy_hyperparams['bin-size'][0]\n",
    "threshold_y = 1000 * xy_hyperparams['bin-size'][1]\n",
    "closeness_thresholds = (threshold_x, threshold_y)\n",
    "similarity_threshold = 0.19\n",
    "hit_to_geom = get_track_to_geometry_mapping(ideal_df)\n",
    "\n",
    "new_est = duplicate_removal_1(xy_est, closeness_thresholds, similarity_threshold,\n",
    "                              remove_same_geometries=True, hit_to_geom=hit_to_geom)\n",
    "\n",
    "ideal_df['track'] = ideal_df['xy_track']\n",
    "xy_eff_dup_rem = efficiency_rate(new_est.values(), ideal_df)\n",
    "xy_fake_dup_rem = fake_rate(new_est.values(), ideal_df)\n",
    "xy_dup_dup_rem = duplicate_rate(new_est.values(), ideal_df)\n",
    "\n",
    "print('xy Transform (Duplicate Removal 1) statistics:\\n')\n",
    "print(f'\\tEfficiency rate: {xy_eff_dup_rem:.2f}')\n",
    "print(f'\\tFake rate: {xy_fake_dup_rem:.2f}')\n",
    "print(f'\\tDuplicate rate: {xy_dup_dup_rem:.2f}')\n",
    "print()\n",
    "print(f'\\tNumber of tracks estimated: {len(new_est)}')"
   ]
  },
  {
   "cell_type": "code",
   "execution_count": 12,
   "id": "0960f493",
   "metadata": {},
   "outputs": [
    {
     "name": "stdout",
     "output_type": "stream",
     "text": [
      "xy Transform (Duplicate Removal 2) statistics:\n",
      "\n",
      "\tEfficiency rate: 0.72\n",
      "\tFake rate: 0.14\n",
      "\tDuplicate rate: 0.14\n",
      "\n",
      "\tNumber of tracks estimated: 22\n"
     ]
    }
   ],
   "source": [
    "from duplicate_removal_utils import duplicate_removal_2, get_track_to_geometry_mapping\n",
    "\n",
    "threshold_x = 1000 * xy_hyperparams['bin-size'][0]\n",
    "threshold_y = 1000 * xy_hyperparams['bin-size'][1]\n",
    "closeness_thresholds = (threshold_x, threshold_y)\n",
    "similarity_threshold = 0.2\n",
    "hit_to_geom = get_track_to_geometry_mapping(ideal_df)\n",
    "\n",
    "new_est = duplicate_removal_2(xy_est, closeness_thresholds, similarity_threshold)\n",
    "\n",
    "ideal_df['track'] = ideal_df['xy_track']\n",
    "xy_eff_dup_rem = efficiency_rate(new_est.values(), ideal_df)\n",
    "xy_fake_dup_rem = fake_rate(new_est.values(), ideal_df)\n",
    "xy_dup_dup_rem = duplicate_rate(new_est.values(), ideal_df)\n",
    "\n",
    "print('xy Transform (Duplicate Removal 2) statistics:\\n')\n",
    "print(f'\\tEfficiency rate: {xy_eff_dup_rem:.2f}')\n",
    "print(f'\\tFake rate: {xy_fake_dup_rem:.2f}')\n",
    "print(f'\\tDuplicate rate: {xy_dup_dup_rem:.2f}')\n",
    "print()\n",
    "print(f'\\tNumber of tracks estimated: {len(new_est)}')"
   ]
  },
  {
   "cell_type": "markdown",
   "id": "37d0d031",
   "metadata": {
    "pycharm": {
     "name": "#%% md\n"
    }
   },
   "source": [
    "Even though we removed many duplicate tracks, the duplicate-fake rates are\n",
    "still very high. We should investigate a bit more on this issue."
   ]
  },
  {
   "cell_type": "markdown",
   "id": "8645231c",
   "metadata": {
    "pycharm": {
     "name": "#%% md\n"
    }
   },
   "source": [
    "## Let's plot the Purity for every estimated track"
   ]
  },
  {
   "cell_type": "code",
   "execution_count": 13,
   "id": "d7194f6c",
   "metadata": {
    "pycharm": {
     "name": "#%%\n"
    }
   },
   "outputs": [
    {
     "data": {
      "text/plain": "<Figure size 1008x576 with 1 Axes>",
      "image/png": "[encoded data removed]"
     },
     "metadata": {
      "needs_background": "light"
     },
     "output_type": "display_data"
    }
   ],
   "source": [
    "from src.utils.plotting import plot_purity_vs_count\n",
    "\n",
    "plot_purity_vs_count(xy_est, ideal_df)"
   ]
  },
  {
   "cell_type": "markdown",
   "id": "9647db04",
   "metadata": {
    "pycharm": {
     "name": "#%% md\n"
    }
   },
   "source": [
    "## Let's take a look at the hits inside a bin on the r-z plane"
   ]
  },
  {
   "cell_type": "code",
   "execution_count": 14,
   "id": "fa745e44",
   "metadata": {
    "pycharm": {
     "name": "#%%\n"
    }
   },
   "outputs": [
    {
     "name": "stdout",
     "output_type": "stream",
     "text": [
      "Number of hits inside the original bin: 33\n",
      "Purity for the original bin is 0.5151515151515151\n",
      "\n"
     ]
    },
    {
     "data": {
      "text/plain": "<Figure size 1008x576 with 1 Axes>",
      "image/png": "[encoded data removed]"
     },
     "metadata": {
      "needs_background": "light"
     },
     "output_type": "display_data"
    }
   ],
   "source": [
    "from duplicate_removal_utils import convert_tracks, plot_hits\n",
    "from src.utils.metrics import get_track_to_truth_row_mapping, purity\n",
    "\n",
    "# find a bin with at least 18 hits\n",
    "target = []\n",
    "for hits in xy_est.values():\n",
    "    if len(hits) > 18:\n",
    "        target = hits\n",
    "        break\n",
    "\n",
    "# print its purity\n",
    "print(f'Number of hits inside the original bin: {len(target)}')\n",
    "track_to_truth_row = get_track_to_truth_row_mapping(ideal_df)\n",
    "p = purity(target, track_to_truth_row, ideal_df)[1]\n",
    "print(f'Purity for the original bin is {p}\\n')\n",
    "\n",
    "# convert to rz hits and plot them\n",
    "rz_tracks = convert_tracks(target, ideal_df, xy_to_rz=True)\n",
    "xlims = (-100, 1700)\n",
    "plot_hits(rz_tracks, ideal_df, xlims, xy=False)"
   ]
  },
  {
   "cell_type": "markdown",
   "id": "b60ac8a3",
   "metadata": {
    "pycharm": {
     "name": "#%% md\n"
    }
   },
   "source": [
    "## Now let's purify this bin using the rz Hough Transform"
   ]
  },
  {
   "cell_type": "code",
   "execution_count": 15,
   "id": "db5cb7ab",
   "metadata": {
    "pycharm": {
     "name": "#%%\n"
    }
   },
   "outputs": [
    {
     "name": "stdout",
     "output_type": "stream",
     "text": [
      "Number of hits inside the purified bin: 13\n",
      "Purity for the purified bin is 1.0\n",
      "\n"
     ]
    },
    {
     "data": {
      "text/plain": "<Figure size 1008x576 with 1 Axes>",
      "image/png": "[encoded data removed]"
     },
     "metadata": {
      "needs_background": "light"
     },
     "output_type": "display_data"
    }
   ],
   "source": [
    "from duplicate_removal_utils import purify_xy_hits\n",
    "\n",
    "purified_xy_hits = purify_xy_hits(target, rz_hyperparams, ideal_df)\n",
    "\n",
    "# print its purity\n",
    "print(f'Number of hits inside the purified bin: {len(purified_xy_hits)}')\n",
    "track_to_truth_row = get_track_to_truth_row_mapping(ideal_df)\n",
    "p = purity(purified_xy_hits, track_to_truth_row, ideal_df)[1]\n",
    "print(f'Purity for the purified bin is {p}\\n')\n",
    "\n",
    "# convert to rz hits and plot them\n",
    "rz_tracks = convert_tracks(purified_xy_hits, ideal_df, xy_to_rz=True)\n",
    "plot_hits(rz_tracks, ideal_df, xlims, xy=False)"
   ]
  },
  {
   "cell_type": "markdown",
   "id": "18d16b24",
   "metadata": {
    "pycharm": {
     "name": "#%% md\n"
    }
   },
   "source": [
    "## Now we can purify all the estimated tracks and retry to remove the duplicates"
   ]
  },
  {
   "cell_type": "code",
   "execution_count": 16,
   "id": "94292f51",
   "metadata": {
    "pycharm": {
     "name": "#%%\n"
    }
   },
   "outputs": [],
   "source": [
    "from duplicate_removal_utils import purify_xy_estimations\n",
    "\n",
    "rz_hyperparams = {\n",
    "    'bin-size': (0.04, 15),\n",
    "    'xrange': (-5, 5),\n",
    "    'yrange': (-1000, 1000),\n",
    "    'minimum-hits-per-bin': 7\n",
    "}\n",
    "\n",
    "purified_xy_est = purify_xy_estimations(xy_est, rz_hyperparams, ideal_df)"
   ]
  },
  {
   "cell_type": "markdown",
   "id": "2ba49bf2",
   "metadata": {
    "pycharm": {
     "name": "#%% md\n"
    }
   },
   "source": [
    "Let's plot the purity again to see if the above method worked."
   ]
  },
  {
   "cell_type": "code",
   "execution_count": 17,
   "id": "eb2acc4c",
   "metadata": {
    "pycharm": {
     "name": "#%%\n"
    }
   },
   "outputs": [
    {
     "data": {
      "text/plain": "<Figure size 1008x576 with 1 Axes>",
      "image/png": "[encoded data removed]"
     },
     "metadata": {
      "needs_background": "light"
     },
     "output_type": "display_data"
    }
   ],
   "source": [
    "plot_purity_vs_count(purified_xy_est, ideal_df)"
   ]
  },
  {
   "cell_type": "markdown",
   "id": "85b121ea",
   "metadata": {
    "pycharm": {
     "name": "#%% md\n"
    }
   },
   "source": [
    "## Let's assess again the performances"
   ]
  },
  {
   "cell_type": "code",
   "execution_count": 18,
   "id": "92b22d53",
   "metadata": {
    "pycharm": {
     "name": "#%%\n"
    }
   },
   "outputs": [
    {
     "name": "stdout",
     "output_type": "stream",
     "text": [
      "Purified xy Transform statistics:\n",
      "\n",
      "\tEfficiency rate: 1.00\n",
      "\tFake rate: 0.00\n",
      "\tDuplicate rate: 0.84\n",
      "\n",
      "\tNumber of tracks estimated: 160\n"
     ]
    }
   ],
   "source": [
    "ideal_df['track'] = ideal_df['xy_track']\n",
    "purified_xy_eff = efficiency_rate(purified_xy_est.values(), ideal_df)\n",
    "purified_xy_fake = fake_rate(purified_xy_est.values(), ideal_df)\n",
    "purified_xy_dup = duplicate_rate(purified_xy_est.values(), ideal_df)\n",
    "\n",
    "print('Purified xy Transform statistics:\\n')\n",
    "print(f'\\tEfficiency rate: {purified_xy_eff:.2f}')\n",
    "print(f'\\tFake rate: {purified_xy_fake:.2f}')\n",
    "print(f'\\tDuplicate rate: {purified_xy_dup:.2f}')\n",
    "print()\n",
    "print(f'\\tNumber of tracks estimated: {len(purified_xy_est)}')"
   ]
  },
  {
   "cell_type": "code",
   "execution_count": 19,
   "id": "d762bb72",
   "metadata": {
    "pycharm": {
     "name": "#%%\n"
    }
   },
   "outputs": [
    {
     "name": "stdout",
     "output_type": "stream",
     "text": [
      "Purified xy Transform (Duplicate Removal 1) statistics:\n",
      "\n",
      "\tEfficiency rate: 1.00\n",
      "\tFake rate: 0.00\n",
      "\tDuplicate rate: 0.00\n",
      "\n",
      "\tNumber of tracks estimated: 25\n"
     ]
    }
   ],
   "source": [
    "threshold_x = 250 * xy_hyperparams['bin-size'][0]\n",
    "threshold_y = 100 * xy_hyperparams['bin-size'][1]\n",
    "closeness_thresholds = (threshold_x, threshold_y)\n",
    "similarity_threshold = 0.05\n",
    "hit_to_geom = get_track_to_geometry_mapping(ideal_df)\n",
    "\n",
    "purified_new_est = duplicate_removal_1(purified_xy_est,\n",
    "                                       closeness_thresholds,\n",
    "                                       similarity_threshold,\n",
    "                                       remove_same_geometries=True,\n",
    "                                       hit_to_geom=hit_to_geom)\n",
    "\n",
    "ideal_df['track'] = ideal_df['xy_track']\n",
    "xy_eff_dup_rem = efficiency_rate(purified_new_est.values(), ideal_df)\n",
    "xy_fake_dup_rem = fake_rate(purified_new_est.values(), ideal_df)\n",
    "xy_dup_dup_rem = duplicate_rate(purified_new_est.values(), ideal_df)\n",
    "\n",
    "print('Purified xy Transform (Duplicate Removal 1) statistics:\\n')\n",
    "print(f'\\tEfficiency rate: {xy_eff_dup_rem:.2f}')\n",
    "print(f'\\tFake rate: {xy_fake_dup_rem:.2f}')\n",
    "print(f'\\tDuplicate rate: {xy_dup_dup_rem:.2f}')\n",
    "print()\n",
    "print(f'\\tNumber of tracks estimated: {len(purified_new_est)}')"
   ]
  },
  {
   "cell_type": "code",
   "execution_count": 20,
   "id": "9b135cc3",
   "metadata": {
    "pycharm": {
     "name": "#%%\n"
    }
   },
   "outputs": [
    {
     "name": "stdout",
     "output_type": "stream",
     "text": [
      "xy Transform (Duplicate Removal 2) statistics:\n",
      "\n",
      "\tEfficiency rate: 1.00\n",
      "\tFake rate: 0.00\n",
      "\tDuplicate rate: 0.11\n",
      "\n",
      "\tNumber of tracks estimated: 28\n"
     ]
    }
   ],
   "source": [
    "threshold_x = 1000 * xy_hyperparams['bin-size'][0]\n",
    "threshold_y = 1000 * xy_hyperparams['bin-size'][1]\n",
    "closeness_thresholds = (threshold_x, threshold_y)\n",
    "similarity_threshold = 0.5\n",
    "hit_to_geom = get_track_to_geometry_mapping(ideal_df)\n",
    "\n",
    "purified_new_est = duplicate_removal_2(purified_xy_est,\n",
    "                                       closeness_thresholds,\n",
    "                                       similarity_threshold,\n",
    "                                       remove_same_geometries=True,\n",
    "                                       hit_to_geom=hit_to_geom)\n",
    "\n",
    "ideal_df['track'] = ideal_df['xy_track']\n",
    "xy_eff_dup_rem = efficiency_rate(purified_new_est.values(), ideal_df)\n",
    "xy_fake_dup_rem = fake_rate(purified_new_est.values(), ideal_df)\n",
    "xy_dup_dup_rem = duplicate_rate(purified_new_est.values(), ideal_df)\n",
    "\n",
    "print('xy Transform (Duplicate Removal 2) statistics:\\n')\n",
    "print(f'\\tEfficiency rate: {xy_eff_dup_rem:.2f}')\n",
    "print(f'\\tFake rate: {xy_fake_dup_rem:.2f}')\n",
    "print(f'\\tDuplicate rate: {xy_dup_dup_rem:.2f}')\n",
    "print()\n",
    "print(f'\\tNumber of tracks estimated: {len(purified_new_est)}')"
   ]
  },
  {
   "cell_type": "markdown",
   "id": "14f1e05c",
   "metadata": {
    "pycharm": {
     "name": "#%% md\n"
    }
   },
   "source": [
    "## Let's run this for the whole dataset"
   ]
  },
  {
   "cell_type": "code",
   "execution_count": 21,
   "id": "ae89b18b",
   "metadata": {
    "pycharm": {
     "name": "#%%\n"
    }
   },
   "outputs": [],
   "source": [
    "dfs = hit_dfs['mat-odd-bfield']\n",
    "# print(dfs)"
   ]
  },
  {
   "cell_type": "code",
   "execution_count": 22,
   "id": "dda0746a",
   "metadata": {
    "pycharm": {
     "name": "#%%\n"
    }
   },
   "outputs": [],
   "source": [
    "sum_eff = 0\n",
    "sum_fake = 0\n",
    "sum_dup = 0\n",
    "\n",
    "threshold_x = 3500 * xy_hyperparams['bin-size'][0]\n",
    "threshold_y = 1000 * xy_hyperparams['bin-size'][1]\n",
    "closeness_thresholds = (threshold_x, threshold_y)\n",
    "similarity_threshold = 0.01\n",
    "\n",
    "xy_hyperparams = {\n",
    "    'bin-size': (0.001, 0.2),\n",
    "    'xrange': (-np.pi, np.pi),\n",
    "    'yrange': (-1000, 1000),\n",
    "    'minimum-hits-per-bin': 10\n",
    "}\n",
    "\n",
    "rz_hyperparams = {\n",
    "    'bin-size': (0.04, 20),\n",
    "    'xrange': (-15, 15),\n",
    "    'yrange': (-50000, 50000),\n",
    "    'minimum-hits-per-bin': 6\n",
    "}"
   ]
  },
  {
   "cell_type": "code",
   "execution_count": 23,
   "id": "4491c254",
   "metadata": {
    "pycharm": {
     "name": "#%%\n"
    }
   },
   "outputs": [
    {
     "data": {
      "application/vnd.jupyter.widget-view+json": {
       "model_id": "38c921ce84b5464699379d56dcb30fbe",
       "version_major": 2,
       "version_minor": 0
      },
      "text/plain": [
       "Hough Pipeline on Transforms:   0%|          | 0/100 [00:00<?, ?it/s]"
      ]
     },
     "metadata": {},
     "output_type": "display_data"
    },
    {
     "name": "stdout",
     "output_type": "stream",
     "text": [
      "1.0 0.0 0.0\n",
      "\n",
      "0.96 0.0 0.0\n",
      "\n",
      "1.0 0.0 0.0\n",
      "\n",
      "0.96 0.0 0.0\n",
      "\n",
      "0.96 0.0 0.0\n",
      "\n",
      "1.0 0.0 0.0\n",
      "\n",
      "0.96 0.0 0.07692307692307687\n",
      "\n",
      "0.96 0.0 0.0\n",
      "\n",
      "1.0 0.0 0.0\n",
      "\n",
      "1.0 0.0 0.0\n",
      "\n",
      "1.0 0.0 0.0\n",
      "\n",
      "1.0 0.0 0.0\n",
      "\n",
      "0.96 0.0 0.0\n",
      "\n",
      "1.0 0.0 0.038461538461538436\n",
      "\n",
      "1.0 0.0 0.0\n",
      "\n",
      "1.0 0.0 0.0\n",
      "\n",
      "1.0 0.0 0.0\n",
      "\n",
      "0.96 0.0 0.0\n",
      "\n",
      "0.96 0.0 0.0\n",
      "\n",
      "1.0 0.0 0.038461538461538436\n",
      "\n",
      "1.0 0.0 0.0\n",
      "\n",
      "1.0 0.0 0.0\n",
      "\n",
      "1.0 0.0 0.0\n",
      "\n",
      "0.96 0.0 0.040000000000000036\n",
      "\n",
      "0.96 0.0 0.0\n",
      "\n",
      "1.0 0.0 0.0\n",
      "\n",
      "1.0 0.0 0.0\n",
      "\n",
      "1.0 0.0 0.0\n",
      "\n",
      "0.96 0.0 0.0\n",
      "\n",
      "0.96 0.0 0.0\n",
      "\n",
      "1.0 0.0 0.0\n",
      "\n",
      "0.92 0.0 0.0\n",
      "\n",
      "0.96 0.0 0.1428571428571429\n",
      "\n",
      "1.0 0.0 0.0\n",
      "\n",
      "0.96 0.0 0.0\n",
      "\n",
      "0.92 0.0 0.0\n",
      "\n",
      "0.96 0.0 0.0\n",
      "\n",
      "1.0 0.0 0.0\n",
      "\n",
      "0.96 0.0 0.1428571428571429\n",
      "\n",
      "1.0 0.0 0.0\n",
      "\n",
      "1.0 0.0 0.0\n",
      "\n",
      "1.0 0.0 0.0\n",
      "\n",
      "1.0 0.0 0.0\n",
      "\n",
      "0.96 0.0 0.0\n",
      "\n",
      "1.0 0.0 0.0\n",
      "\n",
      "1.0 0.0 0.0\n",
      "\n",
      "0.96 0.0 0.0\n",
      "\n",
      "1.0 0.0 0.0\n",
      "\n",
      "0.96 0.0 0.0\n",
      "\n",
      "0.92 0.0 0.0\n",
      "\n",
      "0.96 0.0 0.0\n",
      "\n",
      "0.92 0.0 0.0\n",
      "\n",
      "1.0 0.0 0.038461538461538436\n",
      "\n",
      "1.0 0.0 0.0\n",
      "\n",
      "1.0 0.0 0.0\n",
      "\n",
      "0.96 0.0 0.0\n",
      "\n",
      "1.0 0.0 0.0\n",
      "\n",
      "0.96 0.0 0.0\n",
      "\n",
      "1.0 0.0 0.0\n",
      "\n",
      "1.0 0.0 0.0\n",
      "\n",
      "1.0 0.0 0.038461538461538436\n",
      "\n",
      "1.0 0.0 0.0\n",
      "\n",
      "0.96 0.0 0.0\n",
      "\n",
      "1.0 0.0 0.0\n",
      "\n",
      "0.96 0.0 0.07692307692307687\n",
      "\n",
      "1.0 0.0 0.038461538461538436\n",
      "\n",
      "1.0 0.0 0.038461538461538436\n",
      "\n",
      "1.0 0.0 0.0\n",
      "\n",
      "1.0 0.0 0.0\n",
      "\n",
      "0.96 0.0 0.0\n",
      "\n",
      "1.0 0.0 0.0\n",
      "\n",
      "1.0 0.0 0.0\n",
      "\n",
      "0.96 0.0 0.0\n",
      "\n",
      "0.96 0.0 0.07407407407407407\n",
      "\n",
      "1.0 0.0 0.07407407407407407\n",
      "\n",
      "0.96 0.0 0.0\n",
      "\n",
      "0.96 0.0 0.040000000000000036\n",
      "\n",
      "0.96 0.0 0.0\n",
      "\n",
      "1.0 0.0 0.038461538461538436\n",
      "\n",
      "1.0 0.0 0.0\n",
      "\n",
      "0.96 0.0 0.0\n",
      "\n",
      "0.96 0.0 0.0\n",
      "\n",
      "0.92 0.0 0.1724137931034483\n",
      "\n",
      "1.0 0.0 0.038461538461538436\n",
      "\n",
      "0.96 0.0 0.0\n",
      "\n",
      "1.0 0.0 0.0\n",
      "\n",
      "0.96 0.0 0.0\n",
      "\n",
      "1.0 0.0 0.0\n",
      "\n",
      "1.0 0.0 0.0\n",
      "\n",
      "0.96 0.0 0.0\n",
      "\n",
      "1.0 0.0 0.0\n",
      "\n",
      "1.0 0.0 0.0\n",
      "\n",
      "0.96 0.0 0.0\n",
      "\n",
      "1.0 0.0 0.0\n",
      "\n",
      "1.0 0.0 0.0\n",
      "\n",
      "1.0 0.0 0.0\n",
      "\n",
      "0.96 0.0 0.07692307692307687\n",
      "\n",
      "0.96 0.0 0.040000000000000036\n",
      "\n",
      "1.0 0.0 0.0\n",
      "\n",
      "0.96 0.0 0.0\n",
      "\n"
     ]
    }
   ],
   "source": [
    "for df in tqdm(dfs, total=len(dfs), desc='Hough Pipeline on Transforms'):\n",
    "\n",
    "    # prepare dataframe\n",
    "    df['weight'] = 1\n",
    "    df['r'] = np.sqrt(np.square(df['tx']) + np.square(df['ty']))\n",
    "    df['phi'] = np.arctan2(df['ty'], df['tx'])\n",
    "    df['xy_track'] = df[['r','phi']].apply(lambda pair: (pair[0], pair[1]), 1)\n",
    "    df['rz_track'] = df[['r','tz']].apply(lambda pair: (-pair[0], pair[1]), 1)\n",
    "\n",
    "    # run the hough transform and purify the result\n",
    "    _, xy_est = hough2d_pipeline(list(df['xy_track']), xy_hyperparams, compute_approximate_qpt)\n",
    "    pur_xy_est = purify_xy_estimations(xy_est, rz_hyperparams, df)\n",
    "\n",
    "    # remove duplicates\n",
    "    df['track'] = df['xy_track']\n",
    "    hit_to_geom = get_track_to_geometry_mapping(df)\n",
    "    pur_new_est = duplicate_removal_1(pur_xy_est,\n",
    "                                      closeness_thresholds,\n",
    "                                      similarity_threshold,\n",
    "                                      remove_same_geometries=False,\n",
    "                                      hit_to_geom=hit_to_geom)\n",
    "\n",
    "    # update results\n",
    "    eff = efficiency_rate(pur_new_est.values(), df)\n",
    "    fake = fake_rate(pur_new_est.values(), df)\n",
    "    dup = duplicate_rate(pur_new_est.values(), df)\n",
    "    print(eff, fake, dup)\n",
    "    print()\n",
    "    sum_eff += eff\n",
    "    sum_fake += fake\n",
    "    sum_dup += dup"
   ]
  },
  {
   "cell_type": "code",
   "execution_count": 24,
   "id": "af685b73",
   "metadata": {
    "pycharm": {
     "name": "#%%\n"
    }
   },
   "outputs": [
    {
     "name": "stdout",
     "output_type": "stream",
     "text": [
      "Average Efficiency Rate: 0.98\n",
      "Average Fake Rate: 0.00\n",
      "Average Duplicate Rate: 0.01\n"
     ]
    }
   ],
   "source": [
    "print(f'Average Efficiency Rate: {sum_eff / len(dfs):.2f}')\n",
    "print(f'Average Fake Rate: {sum_fake / len(dfs):.2f}')\n",
    "print(f'Average Duplicate Rate: {sum_dup / len(dfs):.2f}')"
   ]
  },
  {
   "cell_type": "code",
   "execution_count": 24,
   "id": "fa54694d",
   "metadata": {
    "pycharm": {
     "name": "#%%\n"
    }
   },
   "outputs": [],
   "source": []
  },
  {
   "cell_type": "code",
   "execution_count": 24,
   "id": "acad7982",
   "metadata": {
    "pycharm": {
     "name": "#%%\n"
    }
   },
   "outputs": [],
   "source": []
  },
  {
   "cell_type": "code",
   "execution_count": 24,
   "id": "ac29a316",
   "metadata": {
    "pycharm": {
     "name": "#%%\n"
    }
   },
   "outputs": [],
   "source": []
  },
  {
   "cell_type": "code",
   "execution_count": 25,
   "id": "047dcc77",
   "metadata": {
    "pycharm": {
     "name": "#%%\n"
    }
   },
   "outputs": [],
   "source": [
    "# def print_results(est, _df):\n",
    "#     \"\"\" Prints results of estimations. \"\"\"\n",
    "#     _eff = efficiency_rate(est.values(), _df)\n",
    "#     _fake = fake_rate(est.values(), _df)\n",
    "#     _dup = duplicate_rate(est.values(), _df)\n",
    "#\n",
    "#     print(f'Efficiency Rate = {_eff}')\n",
    "#     print(f'Fake Rate = {_fake}')\n",
    "#     print(f'Duplicate Rate = {_dup}')\n",
    "#     print()"
   ]
  },
  {
   "cell_type": "code",
   "execution_count": 26,
   "id": "9969f0ce",
   "metadata": {
    "pycharm": {
     "name": "#%%\n"
    }
   },
   "outputs": [],
   "source": [
    "# df = dfs[0]\n",
    "#\n",
    "# xy_hyperparams = {\n",
    "#     'bin-size': (0.001, 0.2),\n",
    "#     'xrange': (-np.pi, np.pi),\n",
    "#     'yrange': (-1000, 1000),\n",
    "#     'minimum-hits-per-bin': 10\n",
    "# }\n",
    "#\n",
    "# rz_hyperparams = {\n",
    "#     'bin-size': (0.04, 20),\n",
    "#     'xrange': (-15, 15),\n",
    "#     'yrange': (-50000, 50000),\n",
    "#     'minimum-hits-per-bin': 6\n",
    "# }\n",
    "#\n",
    "# # prepare dataframe\n",
    "# df['weight'] = 1\n",
    "# df['r'] = np.sqrt(np.square(df['tx']) + np.square(df['ty']))\n",
    "# df['phi'] = np.arctan2(df['ty'], df['tx'])\n",
    "# df['xy_track'] = df[['r','phi']].apply(lambda pair: (pair[0], pair[1]), 1)\n",
    "# df['rz_track'] = df[['r','tz']].apply(lambda pair: (-pair[0], pair[1]), 1)\n",
    "#\n",
    "# # run the hough transform and purify the result\n",
    "# _, xy_est = hough2d_pipeline(list(df['xy_track']), xy_hyperparams, compute_approximate_qpt)\n",
    "# df['track'] = df['xy_track']\n",
    "# print_results(xy_est, df)\n",
    "# pur_xy_est = purify_xy_estimations(xy_est, rz_hyperparams, df)\n",
    "# print_results(pur_xy_est, df)\n",
    "#\n",
    "# # remove duplicates\n",
    "# df['track'] = df['xy_track']\n",
    "# hit_to_geom = get_track_to_geometry_mapping(df)\n",
    "# pur_new_est = duplicate_removal_1(pur_xy_est, closeness_thresholds,\n",
    "#                                   similarity_threshold,\n",
    "#                                   remove_same_geometries=False,\n",
    "#                                   hit_to_geom=hit_to_geom)\n",
    "#\n",
    "# # results\n",
    "# print_results(pur_new_est, df)"
   ]
  },
  {
   "cell_type": "code",
   "execution_count": 26,
   "id": "22dbdb59",
   "metadata": {
    "pycharm": {
     "name": "#%%\n"
    }
   },
   "outputs": [],
   "source": []
  }
 ],
 "metadata": {
  "kernelspec": {
   "display_name": "Python 3 (ipykernel)",
   "language": "python",
   "name": "python3"
  },
  "language_info": {
   "codemirror_mode": {
    "name": "ipython",
    "version": 3
   },
   "file_extension": ".py",
   "mimetype": "text/x-python",
   "name": "python",
   "nbconvert_exporter": "python",
   "pygments_lexer": "ipython3",
   "version": "3.8.11"
  }
 },
 "nbformat": 4,
 "nbformat_minor": 5
}