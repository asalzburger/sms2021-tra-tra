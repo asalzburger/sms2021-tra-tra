{
 "cells": [
  {
   "cell_type": "code",
   "execution_count": 1,
   "metadata": {},
   "outputs": [],
   "source": [
    "import os\n",
    "import csv\n",
    "import math\n",
    "import time\n",
    "import random\n",
    "import itertools\n",
    "import numpy as np\n",
    "import pandas as pd\n",
    "\n",
    "import seaborn as sns\n",
    "import matplotlib.pyplot as plt\n",
    "%matplotlib inline"
   ]
  },
  {
   "cell_type": "code",
   "execution_count": 2,
   "metadata": {},
   "outputs": [],
   "source": [
    "# custom imports\n",
    "import sys\n",
    "\n",
    "sys.path.append(os.path.abspath(os.path.join('..', '..', 'utils')))"
   ]
  },
  {
   "cell_type": "code",
   "execution_count": 3,
   "metadata": {
    "scrolled": true
   },
   "outputs": [
    {
     "data": {
      "text/html": [
       "<div>\n",
       "<style scoped>\n",
       "    .dataframe tbody tr th:only-of-type {\n",
       "        vertical-align: middle;\n",
       "    }\n",
       "\n",
       "    .dataframe tbody tr th {\n",
       "        vertical-align: top;\n",
       "    }\n",
       "\n",
       "    .dataframe thead th {\n",
       "        text-align: right;\n",
       "    }\n",
       "</style>\n",
       "<table border=\"1\" class=\"dataframe\">\n",
       "  <thead>\n",
       "    <tr style=\"text-align: right;\">\n",
       "      <th></th>\n",
       "      <th>particle_id</th>\n",
       "      <th>geometry_id</th>\n",
       "      <th>tx</th>\n",
       "      <th>ty</th>\n",
       "      <th>tz</th>\n",
       "      <th>tt</th>\n",
       "      <th>tpx</th>\n",
       "      <th>tpy</th>\n",
       "      <th>tpz</th>\n",
       "      <th>te</th>\n",
       "      <th>deltapx</th>\n",
       "      <th>deltapy</th>\n",
       "      <th>deltapz</th>\n",
       "      <th>deltae</th>\n",
       "      <th>index</th>\n",
       "    </tr>\n",
       "  </thead>\n",
       "  <tbody>\n",
       "    <tr>\n",
       "      <th>0</th>\n",
       "      <td>4503599660924928</td>\n",
       "      <td>936748859932016652</td>\n",
       "      <td>32.748974</td>\n",
       "      <td>-4.660600</td>\n",
       "      <td>14.981686</td>\n",
       "      <td>0.121415</td>\n",
       "      <td>1.388248</td>\n",
       "      <td>-0.187549</td>\n",
       "      <td>0.634454</td>\n",
       "      <td>1.541461</td>\n",
       "      <td>0</td>\n",
       "      <td>0</td>\n",
       "      <td>0</td>\n",
       "      <td>0</td>\n",
       "      <td>1</td>\n",
       "    </tr>\n",
       "    <tr>\n",
       "      <th>1</th>\n",
       "      <td>4503600013246464</td>\n",
       "      <td>936748859932016665</td>\n",
       "      <td>29.592871</td>\n",
       "      <td>12.573253</td>\n",
       "      <td>2.681535</td>\n",
       "      <td>0.107632</td>\n",
       "      <td>7.639755</td>\n",
       "      <td>3.256409</td>\n",
       "      <td>0.692612</td>\n",
       "      <td>8.334322</td>\n",
       "      <td>0</td>\n",
       "      <td>0</td>\n",
       "      <td>0</td>\n",
       "      <td>0</td>\n",
       "      <td>0</td>\n",
       "    </tr>\n",
       "    <tr>\n",
       "      <th>2</th>\n",
       "      <td>4503599946137600</td>\n",
       "      <td>936748859932016666</td>\n",
       "      <td>28.451805</td>\n",
       "      <td>14.600335</td>\n",
       "      <td>7.083704</td>\n",
       "      <td>0.109270</td>\n",
       "      <td>6.000317</td>\n",
       "      <td>3.089900</td>\n",
       "      <td>1.495002</td>\n",
       "      <td>6.913572</td>\n",
       "      <td>0</td>\n",
       "      <td>0</td>\n",
       "      <td>0</td>\n",
       "      <td>0</td>\n",
       "      <td>0</td>\n",
       "    </tr>\n",
       "    <tr>\n",
       "      <th>3</th>\n",
       "      <td>4503599694479360</td>\n",
       "      <td>936748859932016679</td>\n",
       "      <td>-25.811546</td>\n",
       "      <td>-20.364494</td>\n",
       "      <td>-9.063241</td>\n",
       "      <td>0.115488</td>\n",
       "      <td>-0.451405</td>\n",
       "      <td>-0.368699</td>\n",
       "      <td>-0.160661</td>\n",
       "      <td>0.613744</td>\n",
       "      <td>0</td>\n",
       "      <td>0</td>\n",
       "      <td>0</td>\n",
       "      <td>0</td>\n",
       "      <td>0</td>\n",
       "    </tr>\n",
       "    <tr>\n",
       "      <th>4</th>\n",
       "      <td>4503599711256576</td>\n",
       "      <td>936748859932016679</td>\n",
       "      <td>-24.150127</td>\n",
       "      <td>-21.668383</td>\n",
       "      <td>0.939645</td>\n",
       "      <td>0.108286</td>\n",
       "      <td>-5.268188</td>\n",
       "      <td>-4.739881</td>\n",
       "      <td>0.205230</td>\n",
       "      <td>7.090385</td>\n",
       "      <td>0</td>\n",
       "      <td>0</td>\n",
       "      <td>0</td>\n",
       "      <td>0</td>\n",
       "      <td>0</td>\n",
       "    </tr>\n",
       "  </tbody>\n",
       "</table>\n",
       "</div>"
      ],
      "text/plain": [
       "        particle_id         geometry_id         tx         ty         tz  \\\n",
       "0  4503599660924928  936748859932016652  32.748974  -4.660600  14.981686   \n",
       "1  4503600013246464  936748859932016665  29.592871  12.573253   2.681535   \n",
       "2  4503599946137600  936748859932016666  28.451805  14.600335   7.083704   \n",
       "3  4503599694479360  936748859932016679 -25.811546 -20.364494  -9.063241   \n",
       "4  4503599711256576  936748859932016679 -24.150127 -21.668383   0.939645   \n",
       "\n",
       "         tt       tpx       tpy       tpz        te  deltapx  deltapy  \\\n",
       "0  0.121415  1.388248 -0.187549  0.634454  1.541461        0        0   \n",
       "1  0.107632  7.639755  3.256409  0.692612  8.334322        0        0   \n",
       "2  0.109270  6.000317  3.089900  1.495002  6.913572        0        0   \n",
       "3  0.115488 -0.451405 -0.368699 -0.160661  0.613744        0        0   \n",
       "4  0.108286 -5.268188 -4.739881  0.205230  7.090385        0        0   \n",
       "\n",
       "   deltapz  deltae  index  \n",
       "0        0       0      1  \n",
       "1        0       0      0  \n",
       "2        0       0      0  \n",
       "3        0       0      0  \n",
       "4        0       0      0  "
      ]
     },
     "execution_count": 3,
     "metadata": {},
     "output_type": "execute_result"
    }
   ],
   "source": [
    "# Get all the \"Hits\" data files\n",
    "root_dir = os.path.join('..', '..', '..', 'data', 'pdg13-n25-0.5to10GeV-0.5eta')\n",
    "hit_files = sorted([file for file in os.listdir(root_dir) if file.endswith(\"-hits.csv\")])\n",
    "dfs = [pd.read_csv(os.path.join(root_dir, file), dtype={'geometry_id': str}) for file in hit_files]\n",
    "random.seed(13)\n",
    "df = dfs[random.choice(range(len(dfs)))]\n",
    "df.head()"
   ]
  },
  {
   "cell_type": "markdown",
   "metadata": {},
   "source": [
    "Let's see the number of unique geometry ID objects."
   ]
  },
  {
   "cell_type": "code",
   "execution_count": 4,
   "metadata": {},
   "outputs": [
    {
     "name": "stdout",
     "output_type": "stream",
     "text": [
      "Number of unique geometry IDs: 300\n"
     ]
    }
   ],
   "source": [
    "print(f\"Number of unique geometry IDs: {df['geometry_id'].nunique()}\")"
   ]
  },
  {
   "cell_type": "markdown",
   "metadata": {},
   "source": [
    "## Let's compute the volume, layer and sensitivity information of each geometryID object"
   ]
  },
  {
   "cell_type": "code",
   "execution_count": 5,
   "metadata": {},
   "outputs": [
    {
     "data": {
      "text/html": [
       "<div>\n",
       "<style scoped>\n",
       "    .dataframe tbody tr th:only-of-type {\n",
       "        vertical-align: middle;\n",
       "    }\n",
       "\n",
       "    .dataframe tbody tr th {\n",
       "        vertical-align: top;\n",
       "    }\n",
       "\n",
       "    .dataframe thead th {\n",
       "        text-align: right;\n",
       "    }\n",
       "</style>\n",
       "<table border=\"1\" class=\"dataframe\">\n",
       "  <thead>\n",
       "    <tr style=\"text-align: right;\">\n",
       "      <th></th>\n",
       "      <th>volume_id</th>\n",
       "      <th>layer_id</th>\n",
       "      <th>sensitivity_id</th>\n",
       "    </tr>\n",
       "  </thead>\n",
       "  <tbody>\n",
       "    <tr>\n",
       "      <th>0</th>\n",
       "      <td>13</td>\n",
       "      <td>2</td>\n",
       "      <td>12</td>\n",
       "    </tr>\n",
       "    <tr>\n",
       "      <th>1</th>\n",
       "      <td>13</td>\n",
       "      <td>2</td>\n",
       "      <td>25</td>\n",
       "    </tr>\n",
       "    <tr>\n",
       "      <th>2</th>\n",
       "      <td>13</td>\n",
       "      <td>2</td>\n",
       "      <td>26</td>\n",
       "    </tr>\n",
       "    <tr>\n",
       "      <th>3</th>\n",
       "      <td>13</td>\n",
       "      <td>2</td>\n",
       "      <td>39</td>\n",
       "    </tr>\n",
       "    <tr>\n",
       "      <th>4</th>\n",
       "      <td>13</td>\n",
       "      <td>2</td>\n",
       "      <td>39</td>\n",
       "    </tr>\n",
       "  </tbody>\n",
       "</table>\n",
       "</div>"
      ],
      "text/plain": [
       "   volume_id  layer_id  sensitivity_id\n",
       "0         13         2              12\n",
       "1         13         2              25\n",
       "2         13         2              26\n",
       "3         13         2              39\n",
       "4         13         2              39"
      ]
     },
     "execution_count": 5,
     "metadata": {},
     "output_type": "execute_result"
    }
   ],
   "source": [
    "import geometry_id\n",
    "\n",
    "df['volume_id'] = df['geometry_id'].apply(lambda gid: geometry_id.get_volume(gid))\n",
    "df['layer_id'] = df['geometry_id'].apply(lambda gid: geometry_id.get_layer(gid))\n",
    "df['sensitivity_id'] = df['geometry_id'].apply(lambda gid: geometry_id.get_sensitivity(gid))\n",
    "\n",
    "df.iloc[:, -3:].head()"
   ]
  },
  {
   "cell_type": "code",
   "execution_count": 6,
   "metadata": {},
   "outputs": [
    {
     "name": "stdout",
     "output_type": "stream",
     "text": [
      "Number of unique volumes: 3\n",
      "Number of unique layers: 4\n",
      "Number of unique sensitivities: 266\n",
      "\n",
      "Number of entries in the dataset: 335\n"
     ]
    }
   ],
   "source": [
    "print(f\"Number of unique volumes: {df['volume_id'].nunique()}\")\n",
    "print(f\"Number of unique layers: {df['layer_id'].nunique()}\")\n",
    "print(f\"Number of unique sensitivities: {df['sensitivity_id'].nunique()}\")\n",
    "print()\n",
    "print(f'Number of entries in the dataset: {df.shape[0]}')"
   ]
  },
  {
   "cell_type": "markdown",
   "metadata": {},
   "source": [
    "Let's plot the counts per unique value."
   ]
  },
  {
   "cell_type": "code",
   "execution_count": 7,
   "metadata": {
    "scrolled": false
   },
   "outputs": [
    {
     "data": {
      "text/plain": [
       "Text(0.5, 1.0, '\\nCount of each volume ID\\n')"
      ]
     },
     "execution_count": 7,
     "metadata": {},
     "output_type": "execute_result"
    },
    {
     "data": {
      "image/png": "[encoded data removed]",
      "text/plain": [
       "<Figure size 864x504 with 1 Axes>"
      ]
     },
     "metadata": {
      "needs_background": "light"
     },
     "output_type": "display_data"
    }
   ],
   "source": [
    "ax = pd.value_counts(df['volume_id']).plot.bar(figsize=(12, 7), rot=0)\n",
    "ax.set_xlabel('\\nVolume ID')\n",
    "ax.set_ylabel('Count\\n')\n",
    "ax.set_title('\\nCount of each volume ID\\n')"
   ]
  },
  {
   "cell_type": "code",
   "execution_count": 8,
   "metadata": {},
   "outputs": [
    {
     "data": {
      "text/plain": [
       "Text(0.5, 1.0, '\\nCount of each layer ID\\n')"
      ]
     },
     "execution_count": 8,
     "metadata": {},
     "output_type": "execute_result"
    },
    {
     "data": {
      "image/png": "[encoded data removed]",
      "text/plain": [
       "<Figure size 864x504 with 1 Axes>"
      ]
     },
     "metadata": {
      "needs_background": "light"
     },
     "output_type": "display_data"
    }
   ],
   "source": [
    "ax = pd.value_counts(df['layer_id']).plot.bar(figsize=(12, 7), rot=0)\n",
    "ax.set_xlabel('\\nLayer ID')\n",
    "ax.set_ylabel('Count\\n')\n",
    "ax.set_title('\\nCount of each layer ID\\n')"
   ]
  },
  {
   "cell_type": "code",
   "execution_count": 9,
   "metadata": {},
   "outputs": [
    {
     "data": {
      "text/plain": [
       "Text(0.5, 1.0, '\\nCount of each sensitivity ID\\n')"
      ]
     },
     "execution_count": 9,
     "metadata": {},
     "output_type": "execute_result"
    },
    {
     "data": {
      "image/png": "[encoded data removed]",
      "text/plain": [
       "<Figure size 1800x720 with 1 Axes>"
      ]
     },
     "metadata": {
      "needs_background": "light"
     },
     "output_type": "display_data"
    }
   ],
   "source": [
    "ax = pd.value_counts(df['sensitivity_id']).plot.bar(figsize=(25, 10), rot=0)\n",
    "ax.set_xlabel('\\nSensitivity ID')\n",
    "ax.set_ylabel('Count\\n')\n",
    "ax.set_title('\\nCount of each sensitivity ID\\n')"
   ]
  },
  {
   "cell_type": "markdown",
   "metadata": {},
   "source": [
    "Looks messy. Let's try to keep only the sensitivity IDs with count >= 2."
   ]
  },
  {
   "cell_type": "code",
   "execution_count": 10,
   "metadata": {},
   "outputs": [
    {
     "data": {
      "image/png": "[encoded data removed]",
      "text/plain": [
       "<Figure size 1800x720 with 1 Axes>"
      ]
     },
     "metadata": {
      "needs_background": "light"
     },
     "output_type": "display_data"
    }
   ],
   "source": [
    "ax = df.groupby(['sensitivity_id']).sensitivity_id.count()[lambda x: x >= 2].plot.bar(figsize=(25, 10), rot=0)\n",
    "ax.set_xlabel('\\nSensitivity ID')\n",
    "ax.set_ylabel('Count\\n')\n",
    "ax.set_title('\\nCount of each sensitivity ID\\n')\n",
    "ax.tick_params(axis='x', labelsize=8)"
   ]
  },
  {
   "cell_type": "markdown",
   "metadata": {},
   "source": [
    "## Let's now investigate the truth tracks and which geometry objects they encounter"
   ]
  },
  {
   "cell_type": "markdown",
   "metadata": {},
   "source": [
    "Let's see if there are particles that will go through the _exact_ same geometry ID objects."
   ]
  },
  {
   "cell_type": "code",
   "execution_count": 11,
   "metadata": {},
   "outputs": [
    {
     "name": "stdout",
     "output_type": "stream",
     "text": [
      "Number of different particles in the event: 25\n"
     ]
    },
    {
     "data": {
      "text/plain": [
       "1"
      ]
     },
     "execution_count": 11,
     "metadata": {},
     "output_type": "execute_result"
    }
   ],
   "source": [
    "unique_particles = set(df['particle_id'])\n",
    "print(f'Number of different particles in the event: {len(unique_particles)}')\n",
    "paths_to_count = {}\n",
    "\n",
    "for pid in unique_particles:\n",
    "    particle_df = df[df['particle_id'] == pid]\n",
    "    sequence = tuple(particle_df['geometry_id'])\n",
    "    paths_to_count[sequence] = paths_to_count.get(sequence, 0) + 1\n",
    "    \n",
    "max(paths_to_count.values())"
   ]
  },
  {
   "cell_type": "markdown",
   "metadata": {},
   "source": [
    "It seems that _no_ two particles will go through the _exact_ same Geometry ID objects. Well this is expected since there are 291 different Geometry ID objects and 329 hits in the dataset. Let's see if some Geometry ID objects get encountered by the same hit of a particle (e.g. the second hit for every particle will go through a specific Geometry ID object)."
   ]
  },
  {
   "cell_type": "code",
   "execution_count": 12,
   "metadata": {},
   "outputs": [
    {
     "data": {
      "text/plain": [
       "{('936748997370970292', 1): 2,\n",
       " ('936748859932016679', 0): 3,\n",
       " ('936748997370970277', 1): 2,\n",
       " ('936749134809923959', 3): 2,\n",
       " ('936748859932016707', 0): 3,\n",
       " ('936748859932016721', 1): 2,\n",
       " ('936748997370970375', 2): 2,\n",
       " ('936748859932016735', 0): 3,\n",
       " ('936748997370970417', 1): 3,\n",
       " ('936749272248877977', 3): 2,\n",
       " ('1657324800311298100', 10): 2,\n",
       " ('936749134809924169', 2): 2,\n",
       " ('936748859932016749', 0): 2,\n",
       " ('936748997370970431', 1): 2,\n",
       " ('936749272248878047', 4): 2,\n",
       " ('936748859932016792', 0): 2,\n",
       " ('936748859932016806', 1): 2,\n",
       " ('936748997370970558', 2): 2,\n",
       " ('936748859932016805', 0): 2,\n",
       " ('936748997370970151', 1): 2}"
      ]
     },
     "execution_count": 12,
     "metadata": {},
     "output_type": "execute_result"
    }
   ],
   "source": [
    "geometry_index_to_count = {}\n",
    "geometry_index_to_particle = {}\n",
    "\n",
    "for pid in unique_particles:\n",
    "    particle_df = df[df['particle_id'] == pid]\n",
    "    for idx, (row, series) in enumerate(particle_df.iterrows()):\n",
    "        gid = series['geometry_id']\n",
    "        geometry_index_to_count[(gid, idx)] = geometry_index_to_count.get((gid, idx), 0) + 1\n",
    "        if (gid, idx) not in geometry_index_to_particle:\n",
    "            geometry_index_to_particle[(gid, idx)] = [pid]\n",
    "        else:\n",
    "            geometry_index_to_particle[(gid, idx)].append(pid)\n",
    "\n",
    "common = {pair: count for pair, count in geometry_index_to_count.items() if count >= 2}\n",
    "common"
   ]
  },
  {
   "cell_type": "code",
   "execution_count": 13,
   "metadata": {},
   "outputs": [
    {
     "name": "stdout",
     "output_type": "stream",
     "text": [
      "The 2nd hit of particles [4503600013246464, 4503599946137600], was in the same Geometry ID: 936748997370970292\n",
      "\n",
      "The 1st hit of particles [4503599711256576, 4503599694479360, 4503599744811008], was in the same Geometry ID: 936748859932016679\n",
      "\n",
      "The 2nd hit of particles [4503599694479360, 4503599744811008], was in the same Geometry ID: 936748997370970277\n",
      "\n",
      "The 4th hit of particles [4503599694479360, 4503599744811008], was in the same Geometry ID: 936749134809923959\n",
      "\n",
      "The 1st hit of particles [4503599728033792, 4503599879028736, 4503599895805952], was in the same Geometry ID: 936748859932016707\n",
      "\n",
      "The 2nd hit of particles [4503599728033792, 4503599879028736], was in the same Geometry ID: 936748859932016721\n",
      "\n",
      "The 3rd hit of particles [4503599728033792, 4503599879028736], was in the same Geometry ID: 936748997370970375\n",
      "\n",
      "The 1st hit of particles [4503599811919872, 4503599845474304, 4503599996469248], was in the same Geometry ID: 936748859932016735\n",
      "\n",
      "The 2nd hit of particles [4503599811919872, 4503599845474304, 4503599996469248], was in the same Geometry ID: 936748997370970417\n",
      "\n",
      "The 4th hit of particles [4503599811919872, 4503599996469248], was in the same Geometry ID: 936749272248877977\n",
      "\n",
      "The 11th hit of particles [4503599811919872, 4503599996469248], was in the same Geometry ID: 1657324800311298100\n",
      "\n",
      "The 3rd hit of particles [4503599845474304, 4503599996469248], was in the same Geometry ID: 936749134809924169\n",
      "\n",
      "The 1st hit of particles [4503600046800896, 4503599761588224], was in the same Geometry ID: 936748859932016749\n",
      "\n",
      "The 2nd hit of particles [4503600046800896, 4503599761588224], was in the same Geometry ID: 936748997370970431\n",
      "\n",
      "The 5th hit of particles [4503600046800896, 4503599761588224], was in the same Geometry ID: 936749272248878047\n",
      "\n",
      "The 1st hit of particles [4503599778365440, 4503599828697088], was in the same Geometry ID: 936748859932016792\n",
      "\n",
      "The 2nd hit of particles [4503599778365440, 4503599828697088], was in the same Geometry ID: 936748859932016806\n",
      "\n",
      "The 3rd hit of particles [4503599778365440, 4503599828697088], was in the same Geometry ID: 936748997370970558\n",
      "\n",
      "The 1st hit of particles [4503599912583168, 4503599962914816], was in the same Geometry ID: 936748859932016805\n",
      "\n",
      "The 2nd hit of particles [4503599912583168, 4503599962914816], was in the same Geometry ID: 936748997370970151\n",
      "\n"
     ]
    }
   ],
   "source": [
    "for pair in common:\n",
    "    common_pids = geometry_index_to_particle[pair]\n",
    "    gid, idx = pair\n",
    "    suffix = {1: 'st', 2: 'nd', 3: 'rd'}\n",
    "    print(f\"The {idx + 1}{suffix.get(idx + 1, 'th')} hit of particles {common_pids}, \"\n",
    "          f\"was in the same Geometry ID: {gid}\\n\")"
   ]
  },
  {
   "cell_type": "markdown",
   "metadata": {},
   "source": [
    "By observing closely this data, we can see that almost all the particles that have hits in common Geometry IDs are grouped in small clusters. For example, the particle with ID \"4503600046800896\" has common hits _only_ with \"4503599761588224\", and vice-versa. Maybe this suggests that\n",
    "\n",
    "1. Sensons (geometry IDs) have a relatively \"small\" area of effect. By altering a little the trajectory of one particle, it may go through completely different sensors, in a different order.\n",
    "2. Particles that have very similar tracks, might fall in the same sensors.\n",
    "\n",
    "We can cross check this by plotting the trajectories of the particles, to see if they are close."
   ]
  },
  {
   "cell_type": "code",
   "execution_count": 14,
   "metadata": {},
   "outputs": [
    {
     "data": {
      "image/png": "[encoded data removed]",
      "text/plain": [
       "<Figure size 960x560 with 1 Axes>"
      ]
     },
     "metadata": {
      "needs_background": "light"
     },
     "output_type": "display_data"
    }
   ],
   "source": [
    "plt.figure(figsize=(12, 7), dpi=80)\n",
    "\n",
    "p1_df = df[df['particle_id'] == 4503600046800896]\n",
    "plt.scatter(x=p1_df['tx'], y=p1_df['ty'], label='4503600046800896')\n",
    "p2_df = df[df['particle_id'] == 4503599761588224]\n",
    "plt.scatter(x=p2_df['tx'], y=p2_df['ty'], label='4503599761588224')\n",
    "plt.xlabel('tx')\n",
    "plt.ylabel('ty')\n",
    "plt.legend()\n",
    "plt.title('Trajectories for particles 4503600046800896 and 4503599761588224\\n')\n",
    "plt.show()"
   ]
  },
  {
   "cell_type": "markdown",
   "metadata": {},
   "source": [
    "Hits 1,2 look indeed really close. Not sure though if this is the reason why they encountered the same geometry ID, since hit 5 does not look really close. Let's now do the same for the volume, layer and sensitivity."
   ]
  },
  {
   "cell_type": "code",
   "execution_count": 15,
   "metadata": {},
   "outputs": [
    {
     "name": "stdout",
     "output_type": "stream",
     "text": [
      "25 particles went though volume _13_ in their 1st hit.\n",
      "\n",
      "25 particles went though volume _13_ in their 2nd hit.\n",
      "\n",
      "25 particles went though volume _13_ in their 3rd hit.\n",
      "\n",
      "24 particles went though volume _13_ in their 4th hit.\n",
      "\n",
      "15 particles went though volume _13_ in their 5th hit.\n",
      "\n",
      "21 particles went though volume _18_ in their 6th hit.\n",
      "\n",
      "25 particles went though volume _18_ in their 7th hit.\n",
      "\n",
      "24 particles went though volume _18_ in their 8th hit.\n",
      "\n",
      "18 particles went though volume _18_ in their 9th hit.\n",
      "\n",
      "8 particles went though volume _18_ in their 10th hit.\n",
      "\n",
      "24 particles went though volume _23_ in their 11th hit.\n",
      "\n",
      "24 particles went though volume _23_ in their 12th hit.\n",
      "\n",
      "20 particles went though volume _23_ in their 13th hit.\n",
      "\n",
      "11 particles went though volume _23_ in their 14th hit.\n",
      "\n",
      "10 particles went though volume _18_ in their 5th hit.\n",
      "\n",
      "7 particles went though volume _23_ in their 9th hit.\n",
      "\n",
      "17 particles went though volume _23_ in their 10th hit.\n",
      "\n",
      "5 particles went though volume _23_ in their 15th hit.\n",
      "\n",
      "4 particles went though volume _13_ in their 6th hit.\n",
      "\n"
     ]
    }
   ],
   "source": [
    "volume_index_to_count = {}\n",
    "volume_index_to_particle = {}\n",
    "\n",
    "for pid in unique_particles:\n",
    "    particle_df = df[df['particle_id'] == pid]\n",
    "    for idx, (row, series) in enumerate(particle_df.iterrows()):\n",
    "        vol = series['volume_id']\n",
    "        volume_index_to_count[(vol, idx)] = volume_index_to_count.get((vol, idx), 0) + 1\n",
    "        if (vol, idx) not in volume_index_to_particle:\n",
    "            volume_index_to_particle[(vol, idx)] = [pid]\n",
    "        else:\n",
    "            volume_index_to_particle[(vol, idx)].append(pid)\n",
    "\n",
    "common = {pair: count for pair, count in volume_index_to_count.items() if count >= 2}\n",
    "for pair, count in common.items():\n",
    "    vol, idx = pair\n",
    "    suffix = {1: 'st', 2: 'nd', 3: 'rd'}\n",
    "    print(f'{count} particles went though volume _{vol}_ in their {idx+1}{suffix.get(idx+1, \"th\")} hit.\\n')"
   ]
  },
  {
   "cell_type": "markdown",
   "metadata": {},
   "source": [
    "We notice that the volume \"13\" contains most hits in the beggining, while near the end volume \"23\" is the most common. Now for the layers:"
   ]
  },
  {
   "cell_type": "code",
   "execution_count": 16,
   "metadata": {},
   "outputs": [
    {
     "name": "stdout",
     "output_type": "stream",
     "text": [
      "25 particles went though layer _2_ in their 1st hit.\n",
      "\n",
      "5 particles went though layer _2_ in their 2nd hit.\n",
      "\n",
      "12 particles went though layer _4_ in their 3rd hit.\n",
      "\n",
      "13 particles went though layer _6_ in their 4th hit.\n",
      "\n",
      "13 particles went though layer _8_ in their 5th hit.\n",
      "\n",
      "12 particles went though layer _2_ in their 6th hit.\n",
      "\n",
      "11 particles went though layer _4_ in their 7th hit.\n",
      "\n",
      "10 particles went though layer _6_ in their 8th hit.\n",
      "\n",
      "6 particles went though layer _6_ in their 9th hit.\n",
      "\n",
      "7 particles went though layer _8_ in their 10th hit.\n",
      "\n",
      "18 particles went though layer _2_ in their 11th hit.\n",
      "\n",
      "9 particles went though layer _2_ in their 12th hit.\n",
      "\n",
      "17 particles went though layer _4_ in their 13th hit.\n",
      "\n",
      "11 particles went though layer _4_ in their 14th hit.\n",
      "\n",
      "20 particles went though layer _4_ in their 2nd hit.\n",
      "\n",
      "12 particles went though layer _6_ in their 3rd hit.\n",
      "\n",
      "11 particles went though layer _8_ in their 4th hit.\n",
      "\n",
      "9 particles went though layer _2_ in their 5th hit.\n",
      "\n",
      "8 particles went though layer _4_ in their 6th hit.\n",
      "\n",
      "8 particles went though layer _6_ in their 7th hit.\n",
      "\n",
      "8 particles went though layer _8_ in their 8th hit.\n",
      "\n",
      "7 particles went though layer _2_ in their 9th hit.\n",
      "\n",
      "16 particles went though layer _2_ in their 10th hit.\n",
      "\n",
      "6 particles went though layer _4_ in their 11th hit.\n",
      "\n",
      "15 particles went though layer _4_ in their 12th hit.\n",
      "\n",
      "2 particles went though layer _2_ in their 8th hit.\n",
      "\n",
      "11 particles went though layer _8_ in their 9th hit.\n",
      "\n",
      "5 particles went though layer _4_ in their 8th hit.\n",
      "\n",
      "3 particles went though layer _2_ in their 13th hit.\n",
      "\n",
      "5 particles went though layer _4_ in their 15th hit.\n",
      "\n",
      "2 particles went though layer _6_ in their 5th hit.\n",
      "\n",
      "4 particles went though layer _8_ in their 6th hit.\n",
      "\n",
      "5 particles went though layer _2_ in their 7th hit.\n",
      "\n"
     ]
    }
   ],
   "source": [
    "layer_index_to_count = {}\n",
    "layer_index_to_particle = {}\n",
    "\n",
    "for pid in unique_particles:\n",
    "    particle_df = df[df['particle_id'] == pid]\n",
    "    for idx, (row, series) in enumerate(particle_df.iterrows()):\n",
    "        layer = series['layer_id']\n",
    "        layer_index_to_count[(layer, idx)] = layer_index_to_count.get((layer, idx), 0) + 1\n",
    "        if (layer, idx) not in layer_index_to_particle:\n",
    "            layer_index_to_particle[(layer, idx)] = [pid]\n",
    "        else:\n",
    "            layer_index_to_particle[(layer, idx)].append(pid)\n",
    "\n",
    "common = {pair: count for pair, count in layer_index_to_count.items() if count >= 2}\n",
    "for pair, count in common.items():\n",
    "    layer, idx = pair\n",
    "    suffix = {1: 'st', 2: 'nd', 3: 'rd'}\n",
    "    print(f'{count} particles went though layer _{layer}_ in their {idx+1}{suffix.get(idx+1, \"th\")} hit.\\n')"
   ]
  },
  {
   "cell_type": "markdown",
   "metadata": {},
   "source": [
    "Again we can notice the popularity of layer _2_ in most cases. Now for the sensitivity:"
   ]
  },
  {
   "cell_type": "code",
   "execution_count": 17,
   "metadata": {},
   "outputs": [
    {
     "name": "stdout",
     "output_type": "stream",
     "text": [
      "2 particles went had sensitivity _180_ in their 2nd hit.\n",
      "\n",
      "2 particles went had sensitivity _334_ in their 3rd hit.\n",
      "\n",
      "2 particles went had sensitivity _717_ in their 6th hit.\n",
      "\n",
      "3 particles went had sensitivity _39_ in their 1st hit.\n",
      "\n",
      "2 particles went had sensitivity _612_ in their 5th hit.\n",
      "\n",
      "2 particles went had sensitivity _165_ in their 2nd hit.\n",
      "\n",
      "2 particles went had sensitivity _375_ in their 4th hit.\n",
      "\n",
      "3 particles went had sensitivity _67_ in their 1st hit.\n",
      "\n",
      "2 particles went had sensitivity _81_ in their 2nd hit.\n",
      "\n",
      "2 particles went had sensitivity _263_ in their 3rd hit.\n",
      "\n",
      "3 particles went had sensitivity _95_ in their 1st hit.\n",
      "\n",
      "3 particles went had sensitivity _305_ in their 2nd hit.\n",
      "\n",
      "2 particles went had sensitivity _921_ in their 4th hit.\n",
      "\n",
      "2 particles went had sensitivity _2100_ in their 11th hit.\n",
      "\n",
      "2 particles went had sensitivity _585_ in their 3rd hit.\n",
      "\n",
      "2 particles went had sensitivity _109_ in their 1st hit.\n",
      "\n",
      "2 particles went had sensitivity _319_ in their 2nd hit.\n",
      "\n",
      "2 particles went had sensitivity _991_ in their 5th hit.\n",
      "\n",
      "2 particles went had sensitivity _152_ in their 1st hit.\n",
      "\n",
      "2 particles went had sensitivity _166_ in their 2nd hit.\n",
      "\n",
      "2 particles went had sensitivity _446_ in their 3rd hit.\n",
      "\n",
      "2 particles went had sensitivity _165_ in their 1st hit.\n",
      "\n",
      "2 particles went had sensitivity _39_ in their 2nd hit.\n",
      "\n",
      "2 particles went had sensitivity _587_ in their 10th hit.\n",
      "\n"
     ]
    }
   ],
   "source": [
    "sensitivity_index_to_count = {}\n",
    "sensitivity_index_to_particle = {}\n",
    "\n",
    "for pid in unique_particles:\n",
    "    particle_df = df[df['particle_id'] == pid]\n",
    "    for idx, (row, series) in enumerate(particle_df.iterrows()):\n",
    "        sensitivity = series['sensitivity_id']\n",
    "        sensitivity_index_to_count[(sensitivity, idx)] = sensitivity_index_to_count.get((sensitivity, idx), 0) + 1\n",
    "        if (sensitivity, idx) not in sensitivity_index_to_particle:\n",
    "            sensitivity_index_to_particle[(sensitivity, idx)] = [pid]\n",
    "        else:\n",
    "            sensitivity_index_to_particle[(sensitivity, idx)].append(pid)\n",
    "\n",
    "common = {pair: count for pair, count in sensitivity_index_to_count.items() if count >= 2}\n",
    "for pair, count in common.items():\n",
    "    sensitivity, idx = pair\n",
    "    suffix = {1: 'st', 2: 'nd', 3: 'rd'}\n",
    "    print(f'{count} particles went had sensitivity _{sensitivity}_ in their {idx+1}{suffix.get(idx+1, \"th\")} hit.\\n')"
   ]
  },
  {
   "cell_type": "markdown",
   "metadata": {},
   "source": [
    "As we saw earlier, the sensitivity information holds many different values. Hence, there is not much overlapping between the different particles and their sequence of encountering geometry IDs."
   ]
  },
  {
   "cell_type": "markdown",
   "metadata": {},
   "source": [
    "## Let's now plot the detector regions"
   ]
  },
  {
   "cell_type": "code",
   "execution_count": 18,
   "metadata": {},
   "outputs": [],
   "source": [
    "colors = [\n",
    "    'seagreen', 'green', 'red', 'cyan', 'magenta',\n",
    "    'yellow', 'black', 'orange', 'purple', 'brown',\n",
    "    'navy', 'grey', 'maroon', 'gold', 'chocolate',\n",
    "    'aqua', 'darkviolet', 'crimson', 'pink', 'darkgreen',\n",
    "    'peru', 'tan', 'blue', 'darkslategrey', 'teal'\n",
    "]"
   ]
  },
  {
   "cell_type": "code",
   "execution_count": 19,
   "metadata": {},
   "outputs": [],
   "source": [
    "volumes = list(set(df['volume_id']))\n",
    "layers = list(set(df['layer_id']))\n",
    "\n",
    "colors_per_key = {}\n",
    "for idx1, volume in enumerate(volumes):\n",
    "    for idx2, layer in enumerate(layers):\n",
    "        key = idx1 * len(layers) + idx2\n",
    "        colors_per_key[(volume, layer)] = colors[key]"
   ]
  },
  {
   "cell_type": "markdown",
   "metadata": {},
   "source": [
    "### x-y plane"
   ]
  },
  {
   "cell_type": "code",
   "execution_count": 20,
   "metadata": {},
   "outputs": [
    {
     "data": {
      "text/plain": [
       "Text(0.5, 1.0, 'Detector regions in the x-y plane')"
      ]
     },
     "execution_count": 20,
     "metadata": {},
     "output_type": "execute_result"
    },
    {
     "data": {
      "image/png": "[encoded data removed]",
      "text/plain": [
       "<Figure size 960x560 with 1 Axes>"
      ]
     },
     "metadata": {
      "needs_background": "light"
     },
     "output_type": "display_data"
    }
   ],
   "source": [
    "plt.figure(figsize=(12, 7), dpi=80)\n",
    "\n",
    "# plot each particle with a specific color\n",
    "for row, series in df.iterrows():\n",
    "    x, y = series['tx'], series['ty']\n",
    "    volume, layer = series['volume_id'], series['layer_id']\n",
    "    color = colors_per_key[(volume, layer)]\n",
    "    plt.scatter(x=[x], y=[y], color=color) \n",
    "    \n",
    "plt.xlabel('tx')\n",
    "plt.ylabel('ty')\n",
    "plt.title('Detector regions in the x-y plane')"
   ]
  },
  {
   "cell_type": "markdown",
   "metadata": {},
   "source": [
    "### r-z plane"
   ]
  },
  {
   "cell_type": "code",
   "execution_count": 23,
   "metadata": {},
   "outputs": [
    {
     "data": {
      "text/plain": [
       "Text(0.5, 1.0, 'Detector regions in the r-z plane')"
      ]
     },
     "execution_count": 23,
     "metadata": {},
     "output_type": "execute_result"
    },
    {
     "data": {
      "image/png": "[encoded data removed]",
      "text/plain": [
       "<Figure size 960x560 with 1 Axes>"
      ]
     },
     "metadata": {
      "needs_background": "light"
     },
     "output_type": "display_data"
    }
   ],
   "source": [
    "df['r'] = np.sqrt(np.square(df['tx']) + np.square(df['ty']))\n",
    "plt.figure(figsize=(12, 7), dpi=80)\n",
    "\n",
    "# plot each particle with a specific color\n",
    "for row, series in df.iterrows():\n",
    "    x, y = series['tz'], series['r']\n",
    "    volume, layer = series['volume_id'], series['layer_id']\n",
    "    color = colors_per_key[(volume, layer)]\n",
    "    plt.scatter(x=[x], y=[y], color=color) \n",
    "    \n",
    "plt.xlabel('tz')\n",
    "plt.ylabel('r')\n",
    "plt.title('Detector regions in the r-z plane')"
   ]
  },
  {
   "cell_type": "code",
   "execution_count": 24,
   "metadata": {},
   "outputs": [
    {
     "data": {
      "text/plain": [
       "{(18, 8): 'seagreen',\n",
       " (18, 2): 'green',\n",
       " (18, 4): 'red',\n",
       " (18, 6): 'cyan',\n",
       " (13, 8): 'magenta',\n",
       " (13, 2): 'yellow',\n",
       " (13, 4): 'black',\n",
       " (13, 6): 'orange',\n",
       " (23, 8): 'purple',\n",
       " (23, 2): 'brown',\n",
       " (23, 4): 'navy',\n",
       " (23, 6): 'grey'}"
      ]
     },
     "execution_count": 24,
     "metadata": {},
     "output_type": "execute_result"
    }
   ],
   "source": [
    "colors_per_key"
   ]
  },
  {
   "cell_type": "code",
   "execution_count": null,
   "metadata": {},
   "outputs": [],
   "source": []
  }
 ],
 "metadata": {
  "kernelspec": {
   "display_name": "Python 3",
   "language": "python",
   "name": "python3"
  },
  "language_info": {
   "codemirror_mode": {
    "name": "ipython",
    "version": 3
   },
   "file_extension": ".py",
   "mimetype": "text/x-python",
   "name": "python",
   "nbconvert_exporter": "python",
   "pygments_lexer": "ipython3",
   "version": "3.6.10"
  }
 },
 "nbformat": 4,
 "nbformat_minor": 2
}
